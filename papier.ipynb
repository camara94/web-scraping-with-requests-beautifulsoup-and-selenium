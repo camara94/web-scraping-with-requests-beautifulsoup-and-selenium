{
 "cells": [
  {
   "cell_type": "code",
   "execution_count": 1,
   "id": "e3cacde6",
   "metadata": {},
   "outputs": [],
   "source": [
    "import requests\n",
    "from random import randint\n",
    "from time import sleep\n",
    "from bs4 import BeautifulSoup\n",
    "import pandas as pd"
   ]
  },
  {
   "cell_type": "code",
   "execution_count": 17,
   "id": "8e2ef1d9",
   "metadata": {},
   "outputs": [],
   "source": [
    "# Maintenant nous avons un résumé au dessus de la fonction \n",
    "def get_papier_detail_tunisianet():\n",
    "    url_papier_details = []\n",
    "    urls = [\n",
    "        \"https://www.tunisianet.com.tn/463-ramette-de-papier\",\n",
    "        \"https://www.tunisianet.com.tn/483-enveloppe-tunisie-fourniture\",\n",
    "        \"https://www.tunisianet.com.tn/486-papier-photo\"\n",
    "    ]\n",
    "    \n",
    "    \n",
    "    for page in urls:\n",
    "        url = page\n",
    "        response = requests.get(url)\n",
    "        page_contents = response.text\n",
    "        if response.status_code != 200:\n",
    "            raise Exception('Failed to load page {}'.format(items_url))\n",
    "        doc = BeautifulSoup(page_contents, \"html.parser\")\n",
    "        for item in doc.find_all(\"a\", {'class': \"thumbnail product-thumbnail first-img\"}):\n",
    "            url_papier_details.append(item['href'])\n",
    "        \n",
    "    return url_papier_details\n",
    "url_panier = get_papier_detail_tunisianet()\n",
    "len(url_panier)"
   ]
  },
  {
   "cell_type": "code",
   "execution_count": 7,
   "id": "8dbe8fb9",
   "metadata": {},
   "outputs": [],
   "source": [
    "def get_papiers(items_url):\n",
    "    images_papiers = []\n",
    "    # télécharger la page\n",
    "    response = requests.get(items_url)\n",
    "    # vérifier le succès de réponse\n",
    "    if response.status_code != 200:\n",
    "        raise Exception('Failed to load page {}'.format(items_url))\n",
    "    # Parser la réponse à l'aide de beaufifulSoup\n",
    "    doc = BeautifulSoup(response.text, 'html.parser')\n",
    "    for i, img in enumerate(doc.find_all('a', {'class': 'thumb-container'})):\n",
    "        if i>= 1 and len(doc.find_all('a', {'class': 'thumb-container'})) > 1:\n",
    "            images_papiers.append(img['data-image'])\n",
    "    return images_papiers"
   ]
  },
  {
   "cell_type": "code",
   "execution_count": 8,
   "id": "0aee82db",
   "metadata": {},
   "outputs": [],
   "source": [
    "image_papiers = []\n",
    "for url in url_panier:\n",
    "    for image in get_papiers(url):\n",
    "        image_papiers.append(image)"
   ]
  },
  {
   "cell_type": "code",
   "execution_count": 10,
   "id": "8e682a7a",
   "metadata": {},
   "outputs": [
    {
     "data": {
      "text/plain": [
       "16"
      ]
     },
     "execution_count": 10,
     "metadata": {},
     "output_type": "execute_result"
    }
   ],
   "source": [
    "len(image_papiers)"
   ]
  },
  {
   "cell_type": "code",
   "execution_count": 14,
   "id": "1c552670",
   "metadata": {},
   "outputs": [],
   "source": [
    "import random\n",
    "import urllib.request\n",
    "import os\n",
    "\n",
    "def download_papier(urls, doc):\n",
    "    \n",
    "    os.makedirs(os.path.join('images', doc))\n",
    "    for i, url in enumerate(urls):\n",
    "        try:\n",
    "            fullname =  \"images/\" + doc + \"/\" + str((i+1))+\".jpg\"\n",
    "            urllib.request.urlretrieve(url,fullname)\n",
    "        except:\n",
    "            pass"
   ]
  },
  {
   "cell_type": "code",
   "execution_count": 16,
   "id": "e7903c11",
   "metadata": {},
   "outputs": [],
   "source": [
    "download_papier(image_papiers, 'papier')"
   ]
  },
  {
   "cell_type": "code",
   "execution_count": null,
   "id": "caecce8f",
   "metadata": {},
   "outputs": [],
   "source": []
  }
 ],
 "metadata": {
  "kernelspec": {
   "display_name": "Python 3",
   "language": "python",
   "name": "python3"
  },
  "language_info": {
   "codemirror_mode": {
    "name": "ipython",
    "version": 3
   },
   "file_extension": ".py",
   "mimetype": "text/x-python",
   "name": "python",
   "nbconvert_exporter": "python",
   "pygments_lexer": "ipython3",
   "version": "3.8.5"
  }
 },
 "nbformat": 4,
 "nbformat_minor": 5
}
