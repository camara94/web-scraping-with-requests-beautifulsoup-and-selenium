{
 "cells": [
  {
   "cell_type": "code",
   "execution_count": 1,
   "id": "c0a88160",
   "metadata": {},
   "outputs": [],
   "source": [
    "import requests\n",
    "from random import randint\n",
    "from time import sleep\n",
    "from bs4 import BeautifulSoup\n",
    "import pandas as pd\n"
   ]
  },
  {
   "cell_type": "code",
   "execution_count": 2,
   "id": "5a52f4fb",
   "metadata": {},
   "outputs": [],
   "source": [
    "url = \"https://www.tunisianet.com.tn/667-ecran-pc-tunisie\""
   ]
  },
  {
   "cell_type": "code",
   "execution_count": 8,
   "id": "4f18efcd",
   "metadata": {},
   "outputs": [
    {
     "name": "stdout",
     "output_type": "stream",
     "text": [
      "Téléchargement du nombre de page 1\n",
      "Téléchargement du nombre de page 2\n",
      "Téléchargement du nombre de page 3\n",
      "Téléchargement du nombre de page 4\n",
      "Téléchargement du nombre de page 5\n"
     ]
    },
    {
     "data": {
      "text/plain": [
       "115"
      ]
     },
     "execution_count": 8,
     "metadata": {},
     "output_type": "execute_result"
    }
   ],
   "source": [
    "# Maintenant nous avons un résumé au dessus de la fonction \n",
    "def get_url_ecran_detail_tunisianet():\n",
    "    url_ecran_details = []\n",
    "    for page in range(1,6):\n",
    "        items_url = f\"https://www.tunisianet.com.tn/667-ecran-pc-tunisie?page={page}\"\n",
    "        response = requests.get(items_url)\n",
    "        page_contents = response.text\n",
    "        if response.status_code != 200:\n",
    "            raise Exception('Failed to load page {}'.format(items_url))\n",
    "        doc = BeautifulSoup(page_contents, \"html.parser\")\n",
    "        for item in doc.find_all(\"a\", {'class': \"thumbnail product-thumbnail first-img\"}):\n",
    "            url_ecran_details.append(item['href'])\n",
    "        sleep(randint(2,5))\n",
    "        print('Téléchargement du nombre de page', page)  \n",
    "    return url_ecran_details\n",
    "url_ecrans = get_url_ecran_detail_tunisianet()\n",
    "len (url_ecrans)"
   ]
  },
  {
   "cell_type": "code",
   "execution_count": 81,
   "id": "7eff1d49",
   "metadata": {},
   "outputs": [],
   "source": [
    "def get_images_ecran(items_url):\n",
    "    images_ecrans = []\n",
    "    # télécharger la page\n",
    "    response = requests.get(items_url)\n",
    "    # vérifier le succès de réponse\n",
    "    if response.status_code != 200:\n",
    "        raise Exception('Failed to load page {}'.format(items_url))\n",
    "    # Parser la réponse à l'aide de beaufifulSoup\n",
    "    doc = BeautifulSoup(response.text, 'html.parser')\n",
    "    for i, img in enumerate(doc.find_all('a', {'class': 'thumb-container'})):\n",
    "        if i>= 1:\n",
    "            images_ecrans.append(img['data-image'])\n",
    "    return images_ecrans"
   ]
  },
  {
   "cell_type": "code",
   "execution_count": 82,
   "id": "4a138e9f",
   "metadata": {},
   "outputs": [],
   "source": [
    "url= \"https://www.tunisianet.com.tn/ecran-pc-tunisie/37628-ecran-pro-samsung-49-led-qm49r-4k-uhd.html\""
   ]
  },
  {
   "cell_type": "code",
   "execution_count": 85,
   "id": "81ac489c",
   "metadata": {},
   "outputs": [],
   "source": [
    "image_ecrans = []\n",
    "for url in url_ecrans:\n",
    "    for image in get_images_ecran(url):\n",
    "        image_ecrans.append(image)"
   ]
  },
  {
   "cell_type": "code",
   "execution_count": 87,
   "id": "284506de",
   "metadata": {},
   "outputs": [
    {
     "data": {
      "text/plain": [
       "502"
      ]
     },
     "execution_count": 87,
     "metadata": {},
     "output_type": "execute_result"
    }
   ],
   "source": [
    "len(image_ecrans)"
   ]
  },
  {
   "cell_type": "code",
   "execution_count": 90,
   "id": "c330c567",
   "metadata": {},
   "outputs": [],
   "source": [
    "import random\n",
    "import urllib.request\n",
    "import os\n",
    "\n",
    "def download_image(urls, doc):\n",
    "    \n",
    "    os.makedirs(os.path.join('images', doc))\n",
    "    for i, url in enumerate(urls):\n",
    "        try:\n",
    "            fullname =  \"images/\" + doc + \"/\" + str((i+1))+\".jpg\"\n",
    "            urllib.request.urlretrieve(url,fullname)\n",
    "        except:\n",
    "            pass"
   ]
  },
  {
   "cell_type": "code",
   "execution_count": 91,
   "id": "9680618a",
   "metadata": {},
   "outputs": [],
   "source": [
    "download_image(image_ecrans, 'ecran')"
   ]
  },
  {
   "cell_type": "code",
   "execution_count": null,
   "id": "92cc3539",
   "metadata": {},
   "outputs": [],
   "source": []
  }
 ],
 "metadata": {
  "kernelspec": {
   "display_name": "Python 3",
   "language": "python",
   "name": "python3"
  },
  "language_info": {
   "codemirror_mode": {
    "name": "ipython",
    "version": 3
   },
   "file_extension": ".py",
   "mimetype": "text/x-python",
   "name": "python",
   "nbconvert_exporter": "python",
   "pygments_lexer": "ipython3",
   "version": "3.8.5"
  }
 },
 "nbformat": 4,
 "nbformat_minor": 5
}
