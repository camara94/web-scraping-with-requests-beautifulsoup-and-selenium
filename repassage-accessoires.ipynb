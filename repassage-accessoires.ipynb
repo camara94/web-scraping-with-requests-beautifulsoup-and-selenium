{
 "cells": [
  {
   "cell_type": "code",
   "execution_count": 1,
   "id": "311474f1-c668-4a77-8038-6b09df174481",
   "metadata": {},
   "outputs": [],
   "source": [
    "#  hachoir\n",
    "import requests\n",
    "from random import randint\n",
    "from time import sleep\n",
    "from bs4 import BeautifulSoup\n",
    "import pandas as pd"
   ]
  },
  {
   "cell_type": "code",
   "execution_count": 3,
   "id": "6ec9031c-c82e-4993-b525-5ece778c4a54",
   "metadata": {},
   "outputs": [
    {
     "data": {
      "text/plain": [
       "91"
      ]
     },
     "execution_count": 3,
     "metadata": {},
     "output_type": "execute_result"
    }
   ],
   "source": [
    "# Maintenant nous avons un résumé au dessus de la fonction \n",
    "def get_url_repassage_accessoire_tunisianet():\n",
    "    url_repassage_accessoires = []\n",
    "    urls = [\n",
    "        \"https://www.tunisianet.com.tn/559-repassage-accessoires\"\n",
    "    ]\n",
    "    \n",
    "    for page in range(2,5):\n",
    "        url = f\"https://www.tunisianet.com.tn/559-repassage-accessoires?page={page}\"\n",
    "        response = requests.get(url)\n",
    "        page_contents = response.text\n",
    "        if response.status_code != 200:\n",
    "            raise Exception('Failed to load page {}'.format(items_url))\n",
    "        doc = BeautifulSoup(page_contents, \"html.parser\")\n",
    "        for item in doc.find_all(\"a\", {'class': \"thumbnail product-thumbnail first-img\"}):\n",
    "            url_repassage_accessoires.append(item['href'])\n",
    "   \n",
    "    for page in urls:\n",
    "        url = page\n",
    "        response = requests.get(url)\n",
    "        page_contents = response.text\n",
    "        if response.status_code != 200:\n",
    "            raise Exception('Failed to load page {}'.format(items_url))\n",
    "        doc = BeautifulSoup(page_contents, \"html.parser\")\n",
    "        for item in doc.find_all(\"a\", {'class': \"thumbnail product-thumbnail first-img\"}):\n",
    "            url_repassage_accessoires.append(item['href'])\n",
    "        \n",
    "    return url_repassage_accessoires\n",
    "repassage_accessoire = get_url_repassage_accessoire_tunisianet()\n",
    "len(set(repassage_accessoire))"
   ]
  },
  {
   "cell_type": "code",
   "execution_count": 4,
   "id": "86b02a12-a857-41b5-a5a7-943928c77281",
   "metadata": {},
   "outputs": [],
   "source": [
    "def get_repassage_accessoire(items_url):\n",
    "    images_repassage_accessoires = []\n",
    "    # télécharger la page\n",
    "    response = requests.get(items_url)\n",
    "    # vérifier le succès de réponse\n",
    "    if response.status_code != 200:\n",
    "        raise Exception('Failed to load page {}'.format(items_url))\n",
    "    # Parser la réponse à l'aide de beaufifulSoup\n",
    "    doc = BeautifulSoup(response.text, 'html.parser')\n",
    "    for i, img in enumerate(doc.find_all('a', {'class': 'thumb-container'})):\n",
    "        if i>= 1 and len(doc.find_all('a', {'class': 'thumb-container'})) > 1:\n",
    "            images_repassage_accessoires.append(img['data-image'])\n",
    "    return images_repassage_accessoires"
   ]
  },
  {
   "cell_type": "code",
   "execution_count": 5,
   "id": "b84d2835-c628-4e7a-af0c-f73b7c58b5ec",
   "metadata": {},
   "outputs": [],
   "source": [
    "images_repassage_accessoires = []\n",
    "for url in repassage_accessoire:\n",
    "    for image in get_repassage_accessoire(url):\n",
    "        images_repassage_accessoires.append(image)"
   ]
  },
  {
   "cell_type": "code",
   "execution_count": 7,
   "id": "fc0b7452-a625-4ad7-b9f1-c6c69cd0ce04",
   "metadata": {},
   "outputs": [
    {
     "data": {
      "text/plain": [
       "295"
      ]
     },
     "execution_count": 7,
     "metadata": {},
     "output_type": "execute_result"
    }
   ],
   "source": [
    "len(images_repassage_accessoires)"
   ]
  },
  {
   "cell_type": "code",
   "execution_count": 8,
   "id": "597ddbe8-229c-4163-a92b-99bc6d9a2186",
   "metadata": {},
   "outputs": [],
   "source": [
    "import random\n",
    "import urllib.request\n",
    "import os\n",
    "\n",
    "def download_repassage_accessoires(urls, doc):\n",
    "    \n",
    "    os.makedirs(os.path.join('images', doc))\n",
    "    for i, url in enumerate(urls):\n",
    "        try:\n",
    "            fullname =  \"images/\" + doc + \"/\" + str((i+1))+\".jpg\"\n",
    "            urllib.request.urlretrieve(url,fullname)\n",
    "        except:\n",
    "            pass"
   ]
  },
  {
   "cell_type": "code",
   "execution_count": 9,
   "id": "4ce00084-212a-44fe-8bca-9389dee4dc3b",
   "metadata": {},
   "outputs": [],
   "source": [
    "download_repassage_accessoires(images_repassage_accessoires, 'repassage_accessoire')"
   ]
  },
  {
   "cell_type": "code",
   "execution_count": null,
   "id": "b2bfb6b1-0077-483c-bb79-2c99ce2a2be0",
   "metadata": {},
   "outputs": [],
   "source": []
  }
 ],
 "metadata": {
  "kernelspec": {
   "display_name": "Python 3",
   "language": "python",
   "name": "python3"
  },
  "language_info": {
   "codemirror_mode": {
    "name": "ipython",
    "version": 3
   },
   "file_extension": ".py",
   "mimetype": "text/x-python",
   "name": "python",
   "nbconvert_exporter": "python",
   "pygments_lexer": "ipython3",
   "version": "3.8.5"
  }
 },
 "nbformat": 4,
 "nbformat_minor": 5
}
