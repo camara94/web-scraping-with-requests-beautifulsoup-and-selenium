{
 "cells": [
  {
   "cell_type": "code",
   "execution_count": null,
   "id": "e07291e6",
   "metadata": {},
   "outputs": [],
   "source": [
    "# centrifugeuse\n",
    "import requests\n",
    "from random import randint\n",
    "from time import sleep\n",
    "from bs4 import BeautifulSoup\n",
    "import pandas as pd"
   ]
  },
  {
   "cell_type": "code",
   "execution_count": null,
   "id": "9e8d17a8",
   "metadata": {},
   "outputs": [],
   "source": [
    "# Maintenant nous avons un résumé au dessus de la fonction \n",
    "def get_url_centrifugeuse_tunisianet():\n",
    "    url_centrifugeuses = []\n",
    "    urls = [\n",
    "        \"https://www.tunisianet.com.tn/532-centrifugeuse-prix-tunisie\"\n",
    "    ]\n",
    "    \n",
    "#     for page in range(2,3):\n",
    "#         url = f\"https://www.tunisianet.com.tn/531-batteur-electrique-tunisie?page={page}\"\n",
    "#         response = requests.get(url)\n",
    "#         page_contents = response.text\n",
    "#         if response.status_code != 200:\n",
    "#             raise Exception('Failed to load page {}'.format(items_url))\n",
    "#         doc = BeautifulSoup(page_contents, \"html.parser\")\n",
    "#         for item in doc.find_all(\"a\", {'class': \"thumbnail product-thumbnail first-img\"}):\n",
    "#             url_centrifugeuses.append(item['href'])\n",
    "   \n",
    "    for page in urls:\n",
    "        url = page\n",
    "        response = requests.get(url)\n",
    "        page_contents = response.text\n",
    "        if response.status_code != 200:\n",
    "            raise Exception('Failed to load page {}'.format(items_url))\n",
    "        doc = BeautifulSoup(page_contents, \"html.parser\")\n",
    "        for item in doc.find_all(\"a\", {'class': \"thumbnail product-thumbnail first-img\"}):\n",
    "            url_centrifugeuses.append(item['href'])\n",
    "        \n",
    "    return url_centrifugeuses\n",
    "url_centrifugeuses = get_url_centrifugeuse_tunisianet()\n",
    "len(set(url_centrifugeuses))"
   ]
  },
  {
   "cell_type": "code",
   "execution_count": null,
   "id": "e62b1da5",
   "metadata": {},
   "outputs": [],
   "source": [
    "def get_centrifugeuse(items_url):\n",
    "    images_centrifugeuses = []\n",
    "    # télécharger la page\n",
    "    response = requests.get(items_url)\n",
    "    # vérifier le succès de réponse\n",
    "    if response.status_code != 200:\n",
    "        raise Exception('Failed to load page {}'.format(items_url))\n",
    "    # Parser la réponse à l'aide de beaufifulSoup\n",
    "    doc = BeautifulSoup(response.text, 'html.parser')\n",
    "    for i, img in enumerate(doc.find_all('a', {'class': 'thumb-container'})):\n",
    "        if i>= 1 and len(doc.find_all('a', {'class': 'thumb-container'})) > 1:\n",
    "            images_centrifugeuses.append(img['data-image'])\n",
    "    return images_centrifugeuses"
   ]
  },
  {
   "cell_type": "code",
   "execution_count": null,
   "id": "c1213574",
   "metadata": {},
   "outputs": [],
   "source": [
    "get_centrifugeuse(url_centrifugeuses[0])"
   ]
  },
  {
   "cell_type": "code",
   "execution_count": 5,
   "id": "b07d7453",
   "metadata": {},
   "outputs": [],
   "source": [
    "images_centrifugeuses = []\n",
    "for url in url_centrifugeuses:\n",
    "    for image in get_centrifugeuse(url):\n",
    "        images_centrifugeuses.append(image)"
   ]
  },
  {
   "cell_type": "code",
   "execution_count": 6,
   "id": "b6eb918d",
   "metadata": {},
   "outputs": [
    {
     "data": {
      "text/plain": [
       "51"
      ]
     },
     "execution_count": 6,
     "metadata": {},
     "output_type": "execute_result"
    }
   ],
   "source": [
    "len(images_centrifugeuses)"
   ]
  },
  {
   "cell_type": "code",
   "execution_count": 7,
   "id": "ba840336",
   "metadata": {},
   "outputs": [],
   "source": [
    "import random\n",
    "import urllib.request\n",
    "import os\n",
    "\n",
    "def download_centrifugeuses(urls, doc):\n",
    "    \n",
    "    os.makedirs(os.path.join('images', doc))\n",
    "    for i, url in enumerate(urls):\n",
    "        try:\n",
    "            fullname =  \"images/\" + doc + \"/\" + str((i+1))+\".jpg\"\n",
    "            urllib.request.urlretrieve(url,fullname)\n",
    "        except:\n",
    "            pass"
   ]
  },
  {
   "cell_type": "code",
   "execution_count": 8,
   "id": "54d0613a",
   "metadata": {},
   "outputs": [],
   "source": [
    "download_centrifugeuses(images_centrifugeuses, 'centrifugeuse')"
   ]
  },
  {
   "cell_type": "code",
   "execution_count": null,
   "id": "b82dae7e",
   "metadata": {},
   "outputs": [],
   "source": []
  }
 ],
 "metadata": {
  "kernelspec": {
   "display_name": "Python 3",
   "language": "python",
   "name": "python3"
  },
  "language_info": {
   "codemirror_mode": {
    "name": "ipython",
    "version": 3
   },
   "file_extension": ".py",
   "mimetype": "text/x-python",
   "name": "python",
   "nbconvert_exporter": "python",
   "pygments_lexer": "ipython3",
   "version": "3.8.5"
  }
 },
 "nbformat": 4,
 "nbformat_minor": 5
}
