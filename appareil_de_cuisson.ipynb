{
 "cells": [
  {
   "cell_type": "code",
   "execution_count": 1,
   "id": "e7e6e660",
   "metadata": {},
   "outputs": [],
   "source": [
    "import requests\n",
    "from random import randint\n",
    "from time import sleep\n",
    "from bs4 import BeautifulSoup\n",
    "import pandas as pd"
   ]
  },
  {
   "cell_type": "code",
   "execution_count": 2,
   "id": "7585eb22",
   "metadata": {},
   "outputs": [
    {
     "data": {
      "text/plain": [
       "168"
      ]
     },
     "execution_count": 2,
     "metadata": {},
     "output_type": "execute_result"
    }
   ],
   "source": [
    "# Maintenant nous avons un résumé au dessus de la fonction \n",
    "def get_url_appareil_de_cuisson_tunisianet():\n",
    "    url_appareil_de_cuisson_details = []\n",
    "    urls = [\n",
    "        \"https://www.tunisianet.com.tn/538-appareil-de-cuisson-convivial\"\n",
    "    ]\n",
    "    \n",
    "    for page in range(2,23):\n",
    "        url = f\"https://www.tunisianet.com.tn/538-appareil-de-cuisson-convivial?page={page}\"\n",
    "        response = requests.get(url)\n",
    "        page_contents = response.text\n",
    "        if response.status_code != 200:\n",
    "            raise Exception('Failed to load page {}'.format(items_url))\n",
    "        doc = BeautifulSoup(page_contents, \"html.parser\")\n",
    "        for item in doc.find_all(\"a\", {'class': \"thumbnail product-thumbnail first-img\"}):\n",
    "            url_appareil_de_cuisson_details.append(item['href'])\n",
    "   \n",
    "    for page in urls:\n",
    "        url = page\n",
    "        response = requests.get(url)\n",
    "        page_contents = response.text\n",
    "        if response.status_code != 200:\n",
    "            raise Exception('Failed to load page {}'.format(items_url))\n",
    "        doc = BeautifulSoup(page_contents, \"html.parser\")\n",
    "        for item in doc.find_all(\"a\", {'class': \"thumbnail product-thumbnail first-img\"}):\n",
    "            url_appareil_de_cuisson_details.append(item['href'])\n",
    "        \n",
    "    return url_appareil_de_cuisson_details\n",
    "url_appareil_de_cuisson = get_url_appareil_de_cuisson_tunisianet()\n",
    "len(url_appareil_de_cuisson)"
   ]
  },
  {
   "cell_type": "code",
   "execution_count": 5,
   "id": "47692ade",
   "metadata": {},
   "outputs": [],
   "source": [
    "def get_appareil_de_cuisson(items_url):\n",
    "    images_appareil_de_cuissons = []\n",
    "    # télécharger la page\n",
    "    response = requests.get(items_url)\n",
    "    # vérifier le succès de réponse\n",
    "    if response.status_code != 200:\n",
    "        raise Exception('Failed to load page {}'.format(items_url))\n",
    "    # Parser la réponse à l'aide de beaufifulSoup\n",
    "    doc = BeautifulSoup(response.text, 'html.parser')\n",
    "    for i, img in enumerate(doc.find_all('a', {'class': 'thumb-container'})):\n",
    "        if i>= 1 and len(doc.find_all('a', {'class': 'thumb-container'})) > 1:\n",
    "            images_appareil_de_cuissons.append(img['data-image'])\n",
    "    return images_appareil_de_cuissons"
   ]
  },
  {
   "cell_type": "code",
   "execution_count": 6,
   "id": "1fc6c2ba",
   "metadata": {},
   "outputs": [],
   "source": [
    "images_appareil_de_cuissons = []\n",
    "for url in url_appareil_de_cuisson:\n",
    "    for image in get_appareil_de_cuisson(url):\n",
    "        images_appareil_de_cuissons.append(image)"
   ]
  },
  {
   "cell_type": "code",
   "execution_count": 7,
   "id": "73f1efc8",
   "metadata": {},
   "outputs": [
    {
     "data": {
      "text/plain": [
       "858"
      ]
     },
     "execution_count": 7,
     "metadata": {},
     "output_type": "execute_result"
    }
   ],
   "source": [
    "len(images_appareil_de_cuissons)"
   ]
  },
  {
   "cell_type": "code",
   "execution_count": 8,
   "id": "ae9f5382",
   "metadata": {},
   "outputs": [],
   "source": [
    "import random\n",
    "import urllib.request\n",
    "import os\n",
    "\n",
    "def download_appareil_de_cuisson(urls, doc):\n",
    "    \n",
    "    os.makedirs(os.path.join('images', doc))\n",
    "    for i, url in enumerate(urls):\n",
    "        try:\n",
    "            fullname =  \"images/\" + doc + \"/\" + str((i+1))+\".jpg\"\n",
    "            urllib.request.urlretrieve(url,fullname)\n",
    "        except:\n",
    "            pass"
   ]
  },
  {
   "cell_type": "code",
   "execution_count": 9,
   "id": "a87ffd85",
   "metadata": {},
   "outputs": [],
   "source": [
    "download_appareil_de_cuisson(images_appareil_de_cuissons, 'appareil_de_cuisson')"
   ]
  },
  {
   "cell_type": "code",
   "execution_count": null,
   "id": "e8af786a",
   "metadata": {},
   "outputs": [],
   "source": []
  }
 ],
 "metadata": {
  "kernelspec": {
   "display_name": "Python 3",
   "language": "python",
   "name": "python3"
  },
  "language_info": {
   "codemirror_mode": {
    "name": "ipython",
    "version": 3
   },
   "file_extension": ".py",
   "mimetype": "text/x-python",
   "name": "python",
   "nbconvert_exporter": "python",
   "pygments_lexer": "ipython3",
   "version": "3.8.5"
  }
 },
 "nbformat": 4,
 "nbformat_minor": 5
}
