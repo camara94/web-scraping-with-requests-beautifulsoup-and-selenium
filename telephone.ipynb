{
 "cells": [
  {
   "cell_type": "code",
   "execution_count": 1,
   "id": "f7ce1bd8",
   "metadata": {},
   "outputs": [],
   "source": [
    "import requests\n",
    "from random import randint\n",
    "from time import sleep\n",
    "from bs4 import BeautifulSoup\n",
    "import pandas as pd"
   ]
  },
  {
   "cell_type": "code",
   "execution_count": 38,
   "id": "57962a0a",
   "metadata": {},
   "outputs": [
    {
     "name": "stdout",
     "output_type": "stream",
     "text": [
      "Téléchargement du nombre de page 1\n",
      "Téléchargement du nombre de page 2\n",
      "Téléchargement du nombre de page 3\n",
      "Téléchargement du nombre de page 4\n",
      "Téléchargement du nombre de page 5\n",
      "Téléchargement du nombre de page 6\n",
      "Téléchargement du nombre de page 7\n",
      "Téléchargement du nombre de page 8\n",
      "Téléchargement du nombre de page 9\n",
      "Téléchargement du nombre de page 10\n",
      "Téléchargement du nombre de page 11\n",
      "Téléchargement du nombre de page 12\n",
      "Téléchargement du nombre de page 13\n",
      "Téléchargement du nombre de page 14\n",
      "Téléchargement du nombre de page 15\n",
      "Téléchargement du nombre de page 16\n",
      "Téléchargement du nombre de page 17\n"
     ]
    },
    {
     "data": {
      "text/plain": [
       "288"
      ]
     },
     "execution_count": 38,
     "metadata": {},
     "output_type": "execute_result"
    }
   ],
   "source": [
    "# Maintenant nous avons un résumé au dessus de la fonction \n",
    "def get_url_telephone_detail_tunisianet():\n",
    "    url_telephone_details = []\n",
    "    for page in range(1,18):\n",
    "        items_url = f\"https://www.tunisianet.com.tn/596-smartphone-mobile-4g-tunisie?page={page}\"\n",
    "        response = requests.get(items_url)\n",
    "        page_contents = response.text\n",
    "        if response.status_code != 200:\n",
    "            raise Exception('Failed to load page {}'.format(items_url))\n",
    "        doc = BeautifulSoup(page_contents, \"html.parser\")\n",
    "        for item in doc.find_all(\"a\", {'class': \"thumbnail product-thumbnail first-img\"}):\n",
    "            url_telephone_details.append(item['href'])\n",
    "        sleep(randint(1,3))\n",
    "        print('Téléchargement du nombre de page', page)  \n",
    "    return url_telephone_details\n",
    "url_telephone = get_url_telephone_detail_tunisianet()\n",
    "len (url_telephone)"
   ]
  },
  {
   "cell_type": "code",
   "execution_count": 31,
   "id": "a1ee5bca",
   "metadata": {},
   "outputs": [],
   "source": [
    "def get_images_telephone(items_url):\n",
    "    images_telephones = []\n",
    "    # télécharger la page\n",
    "    response = requests.get(items_url)\n",
    "    # vérifier le succès de réponse\n",
    "    if response.status_code != 200:\n",
    "        raise Exception('Failed to load page {}'.format(items_url))\n",
    "    # Parser la réponse à l'aide de beaufifulSoup\n",
    "    doc = BeautifulSoup(response.text, 'html.parser')\n",
    "    for i, img in enumerate(doc.find_all('a', {'class': 'thumb-container'})):\n",
    "        if i>= 1 and len(doc.find_all('a', {'class': 'thumb-container'})) > 1:\n",
    "            images_telephones.append(img['data-image'])\n",
    "    return images_telephones"
   ]
  },
  {
   "cell_type": "code",
   "execution_count": 32,
   "id": "ad929afd",
   "metadata": {},
   "outputs": [],
   "source": [
    "image_telephones = []\n",
    "for url in url_ecrans:\n",
    "    for image in get_images_telephone(url):\n",
    "        image_telephones.append(image)"
   ]
  },
  {
   "cell_type": "code",
   "execution_count": 35,
   "id": "24d45cc6",
   "metadata": {},
   "outputs": [
    {
     "data": {
      "text/plain": [
       "761"
      ]
     },
     "execution_count": 35,
     "metadata": {},
     "output_type": "execute_result"
    }
   ],
   "source": [
    "len(image_telephones)"
   ]
  },
  {
   "cell_type": "code",
   "execution_count": 36,
   "id": "4c08abef",
   "metadata": {},
   "outputs": [],
   "source": [
    "import random\n",
    "import urllib.request\n",
    "import os\n",
    "\n",
    "def download_telephone(urls, doc):\n",
    "    \n",
    "    os.makedirs(os.path.join('images', doc))\n",
    "    for i, url in enumerate(urls):\n",
    "        try:\n",
    "            fullname =  \"images/\" + doc + \"/\" + str((i+1))+\".jpg\"\n",
    "            urllib.request.urlretrieve(url,fullname)\n",
    "        except:\n",
    "            pass"
   ]
  },
  {
   "cell_type": "code",
   "execution_count": 37,
   "id": "96099c5d",
   "metadata": {},
   "outputs": [],
   "source": [
    "download_telephone(image_telephones, 'telephone')"
   ]
  },
  {
   "cell_type": "code",
   "execution_count": null,
   "id": "e84c0364",
   "metadata": {},
   "outputs": [],
   "source": []
  }
 ],
 "metadata": {
  "kernelspec": {
   "display_name": "Python 3",
   "language": "python",
   "name": "python3"
  },
  "language_info": {
   "codemirror_mode": {
    "name": "ipython",
    "version": 3
   },
   "file_extension": ".py",
   "mimetype": "text/x-python",
   "name": "python",
   "nbconvert_exporter": "python",
   "pygments_lexer": "ipython3",
   "version": "3.8.5"
  }
 },
 "nbformat": 4,
 "nbformat_minor": 5
}
