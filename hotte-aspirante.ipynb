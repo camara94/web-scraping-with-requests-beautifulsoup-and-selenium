{
 "cells": [
  {
   "cell_type": "code",
   "execution_count": 1,
   "id": "dc9cf7d3",
   "metadata": {},
   "outputs": [],
   "source": [
    "import requests\n",
    "from random import randint\n",
    "from time import sleep\n",
    "from bs4 import BeautifulSoup\n",
    "import pandas as pd"
   ]
  },
  {
   "cell_type": "code",
   "execution_count": 4,
   "id": "f02e2ece",
   "metadata": {},
   "outputs": [
    {
     "data": {
      "text/plain": [
       "24"
      ]
     },
     "execution_count": 4,
     "metadata": {},
     "output_type": "execute_result"
    }
   ],
   "source": [
    "# Maintenant nous avons un résumé au dessus de la fonction \n",
    "def get_url_hotte_aspirante_tunisianet():\n",
    "    url_hotte_aspirante_details = []\n",
    "    urls = [\n",
    "        \"https://www.tunisianet.com.tn/527-hotte-aspirante-tunisie\"\n",
    "    ]\n",
    "    \n",
    "#     for page in range(2,8):\n",
    "#         url = f\"https://www.tunisianet.com.tn/525-refrigerateur-tunisie?page={page}\"\n",
    "#         response = requests.get(url)\n",
    "#         page_contents = response.text\n",
    "#         if response.status_code != 200:\n",
    "#             raise Exception('Failed to load page {}'.format(items_url))\n",
    "#         doc = BeautifulSoup(page_contents, \"html.parser\")\n",
    "#         for item in doc.find_all(\"a\", {'class': \"thumbnail product-thumbnail first-img\"}):\n",
    "#             url_congelateur_details.append(item['href'])\n",
    "   \n",
    "    for page in urls:\n",
    "        url = page\n",
    "        response = requests.get(url)\n",
    "        page_contents = response.text\n",
    "        if response.status_code != 200:\n",
    "            raise Exception('Failed to load page {}'.format(items_url))\n",
    "        doc = BeautifulSoup(page_contents, \"html.parser\")\n",
    "        for item in doc.find_all(\"a\", {'class': \"thumbnail product-thumbnail first-img\"}):\n",
    "            url_hotte_aspirante_details.append(item['href'])\n",
    "        \n",
    "    return url_hotte_aspirante_details\n",
    "url_hotte_aspirante = get_url_hotte_aspirante_tunisianet()\n",
    "len(url_hotte_aspirante)"
   ]
  },
  {
   "cell_type": "code",
   "execution_count": 5,
   "id": "f712e62f",
   "metadata": {},
   "outputs": [],
   "source": [
    "def get_hotte_aspirante(items_url):\n",
    "    images_hotte_aspirantes = []\n",
    "    # télécharger la page\n",
    "    response = requests.get(items_url)\n",
    "    # vérifier le succès de réponse\n",
    "    if response.status_code != 200:\n",
    "        raise Exception('Failed to load page {}'.format(items_url))\n",
    "    # Parser la réponse à l'aide de beaufifulSoup\n",
    "    doc = BeautifulSoup(response.text, 'html.parser')\n",
    "    for i, img in enumerate(doc.find_all('a', {'class': 'thumb-container'})):\n",
    "        if i>= 1 and len(doc.find_all('a', {'class': 'thumb-container'})) > 1:\n",
    "            images_hotte_aspirantes.append(img['data-image'])\n",
    "    return images_hotte_aspirantes"
   ]
  },
  {
   "cell_type": "code",
   "execution_count": 8,
   "id": "2bed1be3",
   "metadata": {},
   "outputs": [],
   "source": [
    "image_hotte_aspirantes = []\n",
    "for url in url_hotte_aspirante:\n",
    "    for image in get_hotte_aspirante(url):\n",
    "        image_hotte_aspirantes.append(image)"
   ]
  },
  {
   "cell_type": "code",
   "execution_count": 10,
   "id": "deb60cdc",
   "metadata": {},
   "outputs": [
    {
     "data": {
      "text/plain": [
       "8"
      ]
     },
     "execution_count": 10,
     "metadata": {},
     "output_type": "execute_result"
    }
   ],
   "source": [
    "len(image_hotte_aspirantes)"
   ]
  },
  {
   "cell_type": "code",
   "execution_count": 11,
   "id": "06962830",
   "metadata": {},
   "outputs": [],
   "source": [
    "import random\n",
    "import urllib.request\n",
    "import os\n",
    "\n",
    "def download_hotte_aspirante(urls, doc):\n",
    "    \n",
    "    os.makedirs(os.path.join('images', doc))\n",
    "    for i, url in enumerate(urls):\n",
    "        try:\n",
    "            fullname =  \"images/\" + doc + \"/\" + str((i+1))+\".jpg\"\n",
    "            urllib.request.urlretrieve(url,fullname)\n",
    "        except:\n",
    "            pass"
   ]
  },
  {
   "cell_type": "code",
   "execution_count": 12,
   "id": "bfc9a815",
   "metadata": {},
   "outputs": [],
   "source": [
    "download_hotte_aspirante(image_hotte_aspirantes, 'hotte_aspirante')"
   ]
  },
  {
   "cell_type": "code",
   "execution_count": null,
   "id": "50ba9e47",
   "metadata": {},
   "outputs": [],
   "source": []
  }
 ],
 "metadata": {
  "kernelspec": {
   "display_name": "Python 3",
   "language": "python",
   "name": "python3"
  },
  "language_info": {
   "codemirror_mode": {
    "name": "ipython",
    "version": 3
   },
   "file_extension": ".py",
   "mimetype": "text/x-python",
   "name": "python",
   "nbconvert_exporter": "python",
   "pygments_lexer": "ipython3",
   "version": "3.8.5"
  }
 },
 "nbformat": 4,
 "nbformat_minor": 5
}
