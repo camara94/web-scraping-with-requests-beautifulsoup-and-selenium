{
 "cells": [
  {
   "cell_type": "markdown",
   "id": "98f76ffd-b0c0-410d-9d0e-f84fb830edd0",
   "metadata": {},
   "source": [
    "# Requests et BeautifulSoup"
   ]
  },
  {
   "cell_type": "markdown",
   "id": "1daec809-f90b-4284-a372-1e4218fe949c",
   "metadata": {},
   "source": [
    "## Installation Des Packages"
   ]
  },
  {
   "cell_type": "code",
   "execution_count": 1,
   "id": "0799ce20-19e8-4225-aa45-aefa482222ff",
   "metadata": {},
   "outputs": [],
   "source": [
    "# Si nous n'avez pas encore installé ces packages il faut enlever les les lignes suivantes en commentaire etles executer\n",
    "# !pip install requests --upgrade --quiet\n",
    "# !pip install beautifulsoup4 --upgrade --quiet\n",
    "# !pip install pandas --quiet"
   ]
  },
  {
   "cell_type": "markdown",
   "id": "ee0970d7-e956-44d1-b517-f3bb927e2efd",
   "metadata": {},
   "source": [
    "## Importation des Packages"
   ]
  },
  {
   "cell_type": "code",
   "execution_count": 2,
   "id": "02f456c4-ce79-43e1-868d-8ac1737c10ce",
   "metadata": {},
   "outputs": [],
   "source": [
    "import requests\n",
    "from random import randint\n",
    "from time import sleep\n",
    "from bs4 import BeautifulSoup\n",
    "import pandas as pd"
   ]
  },
  {
   "cell_type": "markdown",
   "id": "9fda70c2-716d-4f81-aee4-6098a755c851",
   "metadata": {},
   "source": [
    "## Comment sa fonctionne\n",
    "\n",
    "La première étape consiste à utiliser le package <code>**Requests**</code> pour télécharger le code HTML de notre page Web (à l'aide de la fonction <code>**requests.get**</code>) qui donne un objet de réponse. Nous pouvons voir si nous pouvons télécharger la page Web ou non en vérifiant la réponse. Statut de notre objet. (Il devrait être compris entre <code>**200 et 299**</code>). Ensuite, nous allons convertir cet objet de réponse en un objet <code>**BeautifulSoup**</code> en utilisant le constructeur <code>**BeautifulSoup()**</code>. Nous utiliserons cet objet pour inspecter notre document et extraire les données souhaitées. <code>**BeautifulSoup**</code> nécessite un argument supplémentaire appelé <code>**parser**</code>. (En bref, **BeautifulSoup** peut également être utilisé pour extraire des informations d'autres langages de balisage. Le **parser** par défaut est <code>**\"html.parser\"**</code>). Trouvez ci-dessous une fonction d'exemple indépendante qui effectuera la tâche ci-dessus: \n",
    "* de téléchargement des pages, \n",
    "* de vérification des réponses\n",
    "d'analyse à l'aide de <code>**BeautifulSoup()**</code>."
   ]
  },
  {
   "cell_type": "code",
   "execution_count": 6,
   "id": "f5000412-4736-423b-859c-265e89114a90",
   "metadata": {},
   "outputs": [],
   "source": [
    "def get_item_page(items_url):\n",
    "    # télécharger la page\n",
    "    response = requests.get(items_url)\n",
    "    # vérifier le succès de réponse\n",
    "    if response.status_code != 200:\n",
    "        raise Exception('Failed to load page {}'.format(items_url))\n",
    "    # Parser la réponse à l'aide de beaufifulSoup\n",
    "    doc = BeautifulSoup(response.text, 'html.parser')\n",
    "    return doc"
   ]
  },
  {
   "cell_type": "markdown",
   "id": "7c7519f3-a43d-4443-90fb-fcafcb1e6b28",
   "metadata": {},
   "source": [
    "## Scraper la liste des articles de notre site Web cible\n",
    "Dans notre cas, nous allons scraper https://www.alibaba.com/trade/search?fsb=y&IndexArea=product_en&CatId=&SearchText=Inflight+Items&viewtype=G&tab={page} Nous obtiendrons une liste des produits en vol. Nous obtiendrons un **titre d'article principal**, un **prix**, **des notes** et une **URL** de page pour chaque article. Pour **chaque article**, nous obtiendrons plus de détails sur le produit à partir de la page de l'article (si nécessaire). Nous allons créer un dataframe de Pandas et un fichier **Json** avec les détails de l'élément. Pour chaque article, nous créerons également un fichier **CSV** au format indicatif suivant:\n",
    "\n",
    "nom, prix, URL\n",
    "Article JUNIO Fleur Préservée Avec Boîtes, 5.50 - 6.50, https://www.alibaba.com/product-detail/Item-JUNIO-Preserved-Flower-With-Boxes_62339028105.html?s=p"
   ]
  },
  {
   "cell_type": "code",
   "execution_count": 7,
   "id": "a3f2ec73-b4a9-417c-b07f-26278a9a8edd",
   "metadata": {},
   "outputs": [],
   "source": [
    "url = \"https://www.alibaba.com/trade/search?fsb=y&IndexArea=product_en&CatId=&SearchText=Inflight+Items&viewtype=G&tab=%7Bpage%7D\""
   ]
  },
  {
   "cell_type": "code",
   "execution_count": 13,
   "id": "e2469970-b188-46fc-a376-3d0ac479273a",
   "metadata": {},
   "outputs": [],
   "source": [
    "doc = get_item_page(url)"
   ]
  },
  {
   "cell_type": "markdown",
   "id": "bc1f2f41-cb1c-4471-a9fb-d0a5228e754f",
   "metadata": {},
   "source": [
    "## Comprendre les bases de BeautifulSoup\n",
    "\n",
    "**BeautifulSoup** a plusieurs méthodes pour extraire des informations de notre document analysé. La façon la plus simple de rechercher une balise dans notre document est d'appeler directement le nom de la balise que nous recherchons. Par exemple, si je veux la balise &lt;title&gt;, j'appellerai <code>doc.title</code>. Si je passe <code>doc.a</code>, il renverra l'occurrence de la première balise &lt;a&gt; présente dans mon document. Et si je voulais toutes les balises &lt;a&gt; ? Nous devons utiliser : « La méthode <code>find_all()</code> »."
   ]
  },
  {
   "cell_type": "markdown",
   "id": "18903233-6075-4ee7-af5a-9a92a87829bf",
   "metadata": {},
   "source": [
    "## BeautifulSoup: (.find_all() method)\n",
    "\n",
    "><code>doc.find_all(tag_name, attributes, limit, string, recursive=True)</code>:\n",
    "\n",
    "* tag_name: Le nom des éléments **HTML** ex: &lt;a&gt;, &lt;tr&gt;\n",
    "* attributes: un dict contenant les attributs d'une balise ex: {“class”: “abcabc”}\n",
    "* limit: un nombre pour limiter le nombre de balises sous cette correspondance.\n",
    "* text: une chaîne pour correspondre au contenu d'un élément \n",
    "* recursive: Par défaut, Beautiful Soup recherche tous les éléments enfants. Ainsi, le paramètre recursive = False limitera la recherche au premier élément trouvé et à son enfant uniquement."
   ]
  },
  {
   "cell_type": "code",
   "execution_count": 36,
   "id": "ca78a3ce-b5a7-427f-b97c-9810a827af3e",
   "metadata": {},
   "outputs": [],
   "source": [
    "tousLesDiv = doc.find_all('div')"
   ]
  },
  {
   "cell_type": "code",
   "execution_count": 37,
   "id": "9ee85e2f-16e4-4d5e-a175-cdeed0f43789",
   "metadata": {},
   "outputs": [
    {
     "data": {
      "text/plain": [
       "253"
      ]
     },
     "execution_count": 37,
     "metadata": {},
     "output_type": "execute_result"
    }
   ],
   "source": [
    "len(tousLesDiv)"
   ]
  },
  {
   "cell_type": "code",
   "execution_count": 38,
   "id": "a56d7863-8a44-442e-89df-310b901e4ff6",
   "metadata": {},
   "outputs": [],
   "source": [
    "tousLesDivAvecClass = doc.find_all('div',{'class': 'sc-hd'})"
   ]
  },
  {
   "cell_type": "code",
   "execution_count": 29,
   "id": "831ca8fc-443f-4507-bce1-96b195534181",
   "metadata": {},
   "outputs": [
    {
     "data": {
      "text/plain": [
       "1"
      ]
     },
     "execution_count": 29,
     "metadata": {},
     "output_type": "execute_result"
    }
   ],
   "source": [
    "len(tousLesDivAvecClass)"
   ]
  },
  {
   "cell_type": "code",
   "execution_count": 40,
   "id": "37a01bbd-bc76-4f14-bfad-e76f36ce7155",
   "metadata": {},
   "outputs": [
    {
     "data": {
      "text/plain": [
       "6"
      ]
     },
     "execution_count": 40,
     "metadata": {},
     "output_type": "execute_result"
    }
   ],
   "source": [
    "sixPremierDiv = doc.find_all('div', limit=6)\n",
    "len(sixPremierDiv)"
   ]
  },
  {
   "cell_type": "markdown",
   "id": "3e79cba6-9de5-480b-8da0-7f0c6624afb2",
   "metadata": {},
   "source": [
    "## BeautifulSoup: (.find() method)\n",
    "\n",
    "Une autre méthode répandue est, qui fonctionne comme mais ne renvoie que la première occurrence de la balise que nous avons demandée\n",
    "\n",
    "Dans notre recherche spécifique, nous avons des attributs dont la valeur est nulle. Donc, tout d'abord, nous organisons/analysons les données par rapport à la balise de liste d'éléments. En recherchant sur le site Web à l'aide de l'option Inspecter (clic droit sur les éléments), nous avons constaté que les informations sont disposées dans la balise div avec class = \"organic-gallery-offer-outter J-offer-wrapper\".\n",
    "\n",
    "![image](images/1.png)\n",
    "\n",
    "Le code du Web Scraping dépend de la structure de la page Web. Donc, si la conception change, votre code a également besoin d'une mise à jour. Nous utilisons une boucle for et une méthode append pour organiser les données en item_list_tags. Nous utilisons également une combinaison de [**sleep()**](https://www.programiz.com/python-programming/time/sleep, 'doc de sleep') et de [**randint**](https://www.geeksforgeeks.org/python-randint-function/, 'doc de randint') pour être doux sur le site Web. (La fonction randint() choisira un entier aléatoire entre les limites supérieures et inférieures données, dans ce cas, **10** et **2**, respectivement, pour chaque itération de la boucle. Utilisation de la fonction randint() en combinaison avec la fonction **sleep()** aidera à ajouter des pauses courtes et aléatoires dans la vitesse d'exploration du programme. La fonction sleep() arrêtera l'exécution du programme pendant le nombre de secondes donné. Le nombre de secondes sera introduit de manière aléatoire dans la fonction sleep à l'aide de randint( ). Reportez-vous au code ci-dessous pour faciliter la compréhension)"
   ]
  },
  {
   "cell_type": "code",
   "execution_count": 76,
   "id": "06bfdd54-5623-4efc-856c-25ff8a8c13f1",
   "metadata": {},
   "outputs": [
    {
     "name": "stdout",
     "output_type": "stream",
     "text": [
      "Téléchargement du nombre de page 1\n",
      "Téléchargement du nombre de page 2\n",
      "Téléchargement du nombre de page 3\n",
      "Téléchargement du nombre de page 4\n"
     ]
    },
    {
     "data": {
      "text/plain": [
       "32"
      ]
     },
     "execution_count": 76,
     "metadata": {},
     "output_type": "execute_result"
    }
   ],
   "source": [
    "# Maintenant nous avons un résumé au dessus de la fonction \n",
    "def get_item_list_tags():\n",
    "    item_list_tags = []\n",
    "    for page in range(1,5):\n",
    "        items_url = f\"https://www.alibaba.com/trade/search?fsb=y&IndexArea=product_en&CatId=&SearchText=Inflight+Items&viewtype=G&tab={page}\"\n",
    "        response = requests.get(items_url)\n",
    "        page_contents = response.text\n",
    "        if response.status_code != 200:\n",
    "            raise Exception('Failed to load page {}'.format(items_url))\n",
    "        doc = BeautifulSoup(page_contents, \"html.parser\")\n",
    "        for item in doc.find_all(\"div\", {'class': \"organic-gallery-offer-outter J-offer-wrapper\"}):\n",
    "                item_list_tags.append(item)\n",
    "        sleep(randint(2,10))\n",
    "        print('Téléchargement du nombre de page', page)  \n",
    "    return item_list_tags\n",
    "item_list_tags = get_item_list_tags()\n",
    "len (item_list_tags)"
   ]
  },
  {
   "cell_type": "code",
   "execution_count": 78,
   "id": "95503472-6c60-4a1a-abcb-b3417dd32878",
   "metadata": {},
   "outputs": [
    {
     "data": {
      "text/plain": [
       "['1/6Fashionable inflight items plastic sound insulation ear plugs$0.038500000.0 Sets(Min Order)10YRSCNSupplier4.8(2)|Contact Supplier',\n",
       " '1/6Wholesale Lowest Price China Children\\'s Birthday Party Items Supplies$0.01100.0 Pieces(MOQ)10YRSCNSupplier4.9(40)|\"excellent service\"Contact Supplier',\n",
       " '1/3Birthday party items gift decorations supplies$3.00500.0 Sets(MOQ)4YRSCNSupplier4.6(4)|\"good customer support\"Contact Supplier',\n",
       " '1/6Airline Blanket / Inflight Blanket/ Polyester Fleece Blanket fire retardant Item 040217$1.30-$5.501.0 Pieces(MOQ)4YRSCNSupplier4.9(17)|\"Fast delivery\"Contact Supplier',\n",
       " '1/6Airline Catering Equipment Buffet Accessories Food Carts Trolleys$40.001.0 Units(MOQ)5YRSCNSupplierContact Supplier',\n",
       " '1/6SmallOrders RF19 Game console mobile phone handle TV handle Hot selling practical wireless game controller promotional gift$5.921 Unit(MOQ)1YRSCNSupplier4.5(10)|\"great service\"Contact Supplier',\n",
       " '1/6SmallOrders G020603 Pet SuppliesDog ToysPuzzle Leaking Food Molar Cleaner Elastic Molar Ball Custom promotional toys and gifts$4.701 Unit(MOQ)1YRSCNSupplier4.5(10)|\"great service\"Contact Supplier',\n",
       " '1/6SmallOrders RF19 Hot selling practical wireless game controller game console mobile phone handle TV handle promotional gift$5.921 Unit(MOQ)1YRSCNSupplierContact Supplier',\n",
       " '1/6Fashionable inflight items plastic sound insulation ear plugsSample Available$0.038500000.0 Sets(Min Order)10YRSCNSupplier4.8(2)|Contact Supplier',\n",
       " '1/6Wholesale Lowest Price China Children\\'s Birthday Party Items Supplies$0.01100.0 Pieces(MOQ)10YRSCNSupplier4.9(40)|\"excellent service\"Contact Supplier',\n",
       " '1/3Birthday party items gift decorations suppliesEcommerce goods$3.00500.0 Sets(MOQ)4YRSCNSupplier4.6(4)|\"good customer support\"Contact Supplier',\n",
       " '1/6Airline Blanket / Inflight Blanket/ Polyester Fleece Blanket fire retardant Item 040217Sample Available$1.30-$5.501.0 Pieces(MOQ)4YRSCNSupplier4.9(17)|\"Fast delivery\"Contact Supplier',\n",
       " '1/6Airline Catering Equipment Buffet Accessories Food Carts TrolleysVideo$40.001.0 Units(MOQ)5YRSCNSupplierContact Supplier',\n",
       " 'Woven seagrass storage basket Serving Tray Square seagrass basket Food Snack decorOne-Stop ServiceSample Available$2.35100 Pieces(MOQ)11YRSCNSupplierContact Supplier',\n",
       " '1/6Happy Birthday Cake Topper Supplies Acrylic Decor Cupcake Birthday Party DecorationParty DecorationCake Accessory$0.10100 Pieces(MOQ)2YRSCNSupplier4.9(9)|\"fast shipping\"Contact Supplier',\n",
       " '1/3Hot Sales Handmade Bamboo Storage Basket Woven Bread Fruit Vegetables Egg Gift BasketOne-Stop ServiceSample Available$0.71100 Pieces(MOQ)11YRSCNSupplierContact Supplier',\n",
       " '1/6Fashionable inflight items plastic sound insulation ear plugs$0.038-$0.25500000.0 Sets(Min Order)10YRSCNSupplier4.8(2)|Contact Supplier',\n",
       " '1/6Wholesale Lowest Price China Children\\'s Birthday Party Items Supplies$0.01100.0 Pieces(MOQ)10YRSCNSupplier4.9(40)|\"excellent service\"Contact Supplier',\n",
       " '1/3Birthday party items gift decorations supplies$3.00-$5.00500.0 Sets(Min Order)4YRSCNSupplier4.6(4)|\"good customer support\"Contact Supplier',\n",
       " '1/6Airline Blanket / Inflight Blanket/ Polyester Fleece Blanket fire retardant Item 040217$1.30-$5.501.0 Pieces(MOQ)4YRSCNSupplier4.9(17)|\"Fast delivery\"Contact Supplier',\n",
       " '1/6Airline Catering Equipment Buffet Accessories Food Carts Trolleys$40.00-$90.001.0 Units(Min Order)5YRSCNSupplierContact Supplier',\n",
       " '1/3Hot Sales Handmade Bamboo Storage Basket Woven Bread Fruit Vegetables Egg Gift Basket$0.71100 Pieces(Min Order)11YRSCNSupplierContact Supplier',\n",
       " '1/5SmallOrders G020504 New golf indoor and outdoor swing practice net automatic return ball folding easy storage sporting goods$46.501 Unit(MOQ)1YRSCNSupplier4.5(10)|\"great service\"Contact Supplier',\n",
       " '1/6Acrylic Happy Birthday Cake Topper Feliz cumpleanos Cake Birthday Toppers Party Supplies DecorationReady to Ship$0.17+$1.55(Shipping)20 Pieces(Min Order)2YRSCNSupplier4.5(34)|\"Good service\"Contact Supplier',\n",
       " '1/6Fashionable inflight items plastic sound insulation ear plugsSample Available$0.038-$0.25500000.0 Sets(Min Order)10YRSCNSupplier4.8(2)|Contact Supplier',\n",
       " '1/6Wholesale Lowest Price China Children\\'s Birthday Party Items Supplies$0.01100.0 Pieces(MOQ)10YRSCNSupplier4.9(40)|\"excellent service\"Contact Supplier',\n",
       " '1/3Birthday party items gift decorations suppliesEcommerce goods$3.00-$5.00500.0 Sets(Min Order)4YRSCNSupplier4.6(4)|\"good customer support\"Contact Supplier',\n",
       " '1/6Airline Blanket / Inflight Blanket/ Polyester Fleece Blanket fire retardant Item 040217Sample Available$1.30-$5.501.0 Pieces(MOQ)4YRSCNSupplier4.9(17)|\"Fast delivery\"Contact Supplier',\n",
       " '1/6SmallOrders G020603 Pet SuppliesDog ToysPuzzle Leaking Food Molar Cleaner Elastic Molar Ball Custom promotional toys and giftsOnline customizationSample Available$4.70-$4.801 Unit(Min Order)1YRSCNSupplier4.5(10)|\"great service\"Contact Supplier',\n",
       " '1/6SmallOrders RF19 Game console mobile phone handle TV handle Hot selling practical wireless game controller promotional giftSample Available$5.92-$6.121 Unit(MOQ)1YRSCNSupplier4.5(10)|\"great service\"Contact Supplier',\n",
       " '1/6Airline Catering Equipment Buffet Accessories Food Carts TrolleysVideo$40.00-$90.001.0 Units(Min Order)5YRSCNSupplierContact Supplier',\n",
       " '1/6SmallOrders G020509 Company custom logo waterproof bicycle bag for outdoor cycling supplies Practical gifts sports goodsOnline customizationSample Available$3.52-$3.901 Unit(Min Order)1YRSCNSupplierContact Supplier']"
      ]
     },
     "execution_count": 78,
     "metadata": {},
     "output_type": "execute_result"
    }
   ],
   "source": [
    "[t.text for t in item_list_tags]"
   ]
  },
  {
   "cell_type": "markdown",
   "id": "ad37bc4b-fe8f-423b-bcb3-3b53417ba18d",
   "metadata": {},
   "source": [
    ">Si nous n'utilisons pas de boucle pour récupérer plus de pages du site Web, cela ne donne que 8 résultats. Dans ce cas; il y a deux options : nous pouvons simplement scraper plus de pages, avec 8 résultats (dans ce cas) dans chacune avec **Requests-Beautifulsoup** OU utiliser **Selenium**. Mais nous irons avec le premier choix puisque c'est facile.\n",
    "\n",
    "Le code Web Scraping dépend de la structure de la page Web. Ainsi, si la structure change, votre code et les balises sélectionnés doivent changer/être mis à jour.\n",
    "\n",
    ">**Remarque** : L'option correcte n'a pas besoin d'être uniquement la balise **div** sélectionnée ci-dessus. Il peut y avoir ou non plus d'une balise correcte pour obtenir les données requises après des essais et des erreurs minutieux. Notre objectif doit toujours être d'obtenir les données nécessaires de la meilleure façon possible.\n"
   ]
  },
  {
   "cell_type": "markdown",
   "id": "9cc0d39f-1015-4af4-906c-eb2eb038b9e7",
   "metadata": {},
   "source": [
    "## Obtenir les détails de la description du titre de l'élément"
   ]
  },
  {
   "cell_type": "markdown",
   "id": "12644d0d-8895-4d19-a2f6-23e85ee195a3",
   "metadata": {},
   "source": [
    "Après l'étape précédente d'extraction de tous les détails de l'élément, nous extrayons tous les titres requis dans un format de dictionnaire pour capturer la valeur nulle. (Nous pouvons également utiliser un bloc <code>try-except</code> qui est une instruction pour faire quelque chose sauf pour aucun cas, mais nous ferons de cette façon sur une autre instance sur ce même projet) Veuillez noter que **all_item_titledetail_list** peut être trouvé à partir de la balise **p** avec <code>class= 'elements-title-normal__content medium'</code> lors de l'inspection du site Web comme à l'étape précédente.\n",
    "\n",
    "Par expérience, nous savons qu'une combinaison de dictionnaires peut être difficile à gérer lors de la création de blocs de données. Ainsi, après avoir obtenu les dictionnaires de données primaires, nous convertissons la liste de dictionnaires ci-dessus en une simple liste comme ci-dessous :"
   ]
  },
  {
   "cell_type": "code",
   "execution_count": 80,
   "id": "774712fb-7bac-48a1-bc04-5f1246fc3cf6",
   "metadata": {},
   "outputs": [
    {
     "data": {
      "text/plain": [
       "['Fashionable inflight items plastic sound insulation ear plugs',\n",
       " \"Wholesale Lowest Price China Children's Birthday Party Items Supplies\",\n",
       " 'Birthday party items gift decorations supplies',\n",
       " 'Airline Blanket / Inflight Blanket/ Polyester Fleece Blanket fire retardant Item 040217',\n",
       " 'Airline Catering Equipment Buffet Accessories Food Carts Trolleys',\n",
       " 'SmallOrders RF19 Game console mobile phone handle TV handle Hot selling practical wireless game controller promotional gift',\n",
       " 'SmallOrders G020603 Pet SuppliesDog ToysPuzzle Leaking Food Molar Cleaner Elastic Molar Ball Custom promotional toys and gifts',\n",
       " 'SmallOrders RF19 Hot selling practical wireless game controller game console mobile phone handle TV handle promotional gift',\n",
       " 'Fashionable inflight items plastic sound insulation ear plugs',\n",
       " \"Wholesale Lowest Price China Children's Birthday Party Items Supplies\",\n",
       " 'Birthday party items gift decorations supplies',\n",
       " 'Airline Blanket / Inflight Blanket/ Polyester Fleece Blanket fire retardant Item 040217',\n",
       " 'Airline Catering Equipment Buffet Accessories Food Carts Trolleys',\n",
       " 'Woven seagrass storage basket Serving Tray Square seagrass basket Food Snack decor',\n",
       " 'Happy Birthday Cake Topper Supplies Acrylic Decor Cupcake Birthday Party Decoration',\n",
       " 'Hot Sales Handmade Bamboo Storage Basket Woven Bread Fruit Vegetables Egg Gift Basket',\n",
       " 'Fashionable inflight items plastic sound insulation ear plugs',\n",
       " \"Wholesale Lowest Price China Children's Birthday Party Items Supplies\",\n",
       " 'Birthday party items gift decorations supplies',\n",
       " 'Airline Blanket / Inflight Blanket/ Polyester Fleece Blanket fire retardant Item 040217',\n",
       " 'Airline Catering Equipment Buffet Accessories Food Carts Trolleys',\n",
       " 'Hot Sales Handmade Bamboo Storage Basket Woven Bread Fruit Vegetables Egg Gift Basket',\n",
       " 'SmallOrders G020504 New golf indoor and outdoor swing practice net automatic return ball folding easy storage sporting goods',\n",
       " 'Acrylic Happy Birthday Cake Topper Feliz cumpleanos Cake Birthday Toppers Party Supplies Decoration',\n",
       " 'Fashionable inflight items plastic sound insulation ear plugs',\n",
       " \"Wholesale Lowest Price China Children's Birthday Party Items Supplies\",\n",
       " 'Birthday party items gift decorations supplies',\n",
       " 'Airline Blanket / Inflight Blanket/ Polyester Fleece Blanket fire retardant Item 040217',\n",
       " 'SmallOrders G020603 Pet SuppliesDog ToysPuzzle Leaking Food Molar Cleaner Elastic Molar Ball Custom promotional toys and gifts',\n",
       " 'SmallOrders RF19 Game console mobile phone handle TV handle Hot selling practical wireless game controller promotional gift',\n",
       " 'Airline Catering Equipment Buffet Accessories Food Carts Trolleys',\n",
       " 'SmallOrders G020509 Company custom logo waterproof bicycle bag for outdoor cycling supplies Practical gifts sports goods']"
      ]
     },
     "execution_count": 80,
     "metadata": {},
     "output_type": "execute_result"
    }
   ],
   "source": [
    "# maintenant, nous allons suivre les étapes ci-dessus pour obtenir les détails \n",
    "# de l'en-tête dans une petite fonction\n",
    "def get_itemdetail(item_list_tags):\n",
    "    all_item_titledetail_list = []\n",
    "    for item in item_list_tags:\n",
    "        title = item.find ('p', {'class': 'elements-title-normal__content medium'})\n",
    "        all_item_titledetail_list.append({\"Title\":title.text.strip()})\n",
    "\n",
    "    itemdetail=[]\n",
    "    for tag in all_item_titledetail_list:\n",
    "        itemdetail.append(tag.get('Title'))\n",
    "    return itemdetail\n",
    "\n",
    "itemdetail = get_itemdetail(item_list_tags)\n",
    "len (itemdetail)#cela donnera de la longueur\n",
    "itemdetail #cela listera les détails de l'en-tête"
   ]
  },
  {
   "cell_type": "markdown",
   "id": "d1a2b23d-2130-4cc5-8bb3-380aed248c65",
   "metadata": {},
   "source": [
    "## Extracting the Item Price, Ratings, and URLs\n",
    "\n",
    "Nous devrons répéter en utilisant des codes personnalisés pour toutes les paires clé-valeur requises, comme indiqué ci-dessous."
   ]
  },
  {
   "cell_type": "code",
   "execution_count": 81,
   "id": "3cebe825-1f5f-4db8-b331-20627aff3e20",
   "metadata": {},
   "outputs": [
    {
     "data": {
      "text/plain": [
       "32"
      ]
     },
     "execution_count": 81,
     "metadata": {},
     "output_type": "execute_result"
    }
   ],
   "source": [
    "#nous résumerons les étapes ci-dessus pour obtenir le prix dans une fonction\n",
    "def get_itemprice(item_list_tags):\n",
    "    item_price_tags = []\n",
    "    for item in item_list_tags:\n",
    "        item_price = item.find ('span', {'class': 'elements-offer-price-normal__price'})\n",
    "        if item_price == None:\n",
    "            item_price_tags.append({\"ItemPrice\":item_price})\n",
    "        else:\n",
    "            item_price_tags.append({\"ItemPrice\":item_price.get_text(strip=True)})\n",
    "\n",
    "    itemprice=[]\n",
    "    for tag in item_price_tags:\n",
    "        itemprice.append(tag.get('ItemPrice'))\n",
    "    return itemprice\n",
    "\n",
    "#this name \"itemprice\" should match with the name used in key:value pair value which will be used later in dict for df\n",
    "itemprice = get_itemprice(item_list_tags)\n",
    "len(itemprice)"
   ]
  },
  {
   "cell_type": "markdown",
   "id": "65bb3bd6-5b8d-4c0b-ab6f-782f8027a572",
   "metadata": {},
   "source": [
    "Dans ce cas, le prix apparaît parfois comme **\"None\"** pour un article avec un prix d'offre, nous devons donc afficher le prix d'offre. (Pour certains autres articles, le prix de l'offre affichera une valeur **\"None\"** puisque le prix régulier est valide/disponible)\n",
    "\n",
    "Nous créerons une fonction pour obtenir la note/les étoiles également comme dans le cas ci-dessus."
   ]
  },
  {
   "cell_type": "code",
   "execution_count": 83,
   "id": "9348c45e-beb7-4b64-83c1-ce31d75610f5",
   "metadata": {},
   "outputs": [
    {
     "data": {
      "text/plain": [
       "[0,\n",
       " 2,\n",
       " 1,\n",
       " 3,\n",
       " 0,\n",
       " 2,\n",
       " 2,\n",
       " 0,\n",
       " 0,\n",
       " 2,\n",
       " 1,\n",
       " 3,\n",
       " 0,\n",
       " 0,\n",
       " 0,\n",
       " 0,\n",
       " 0,\n",
       " 2,\n",
       " 1,\n",
       " 3,\n",
       " 0,\n",
       " 0,\n",
       " 2,\n",
       " 1,\n",
       " 0,\n",
       " 2,\n",
       " 1,\n",
       " 3,\n",
       " 2,\n",
       " 2,\n",
       " 0,\n",
       " 0]"
      ]
     },
     "execution_count": 83,
     "metadata": {},
     "output_type": "execute_result"
    }
   ],
   "source": [
    "#nous allons créer une petite fonction pour effectuer les étapes ci-dessus\n",
    "def get_Stars(item_list_tags):\n",
    "    star_tags = []\n",
    "    for item in item_list_tags:\n",
    "        star = len(item.find_all('i', {'class': \"iconfont iconzuanshi seller-star-level__dm dm-orange\"}))\n",
    "        star_tags.append({\"Stars\":star})\n",
    "    star=[]\n",
    "    for tag in star_tags:\n",
    "        star.append(tag.get('Stars'))\n",
    "    return star\n",
    "star = get_Stars(item_list_tags)\n",
    "star #cela listera les détails de l'étoile"
   ]
  },
  {
   "cell_type": "markdown",
   "id": "548f6cfb-fcfb-43b1-a86d-21452ca53eed",
   "metadata": {},
   "source": [
    "Nous allons répéter les étapes ci-dessus mais les personnaliser pour obtenir l'URL comme ci-dessous."
   ]
  },
  {
   "cell_type": "code",
   "execution_count": 84,
   "id": "4b54091b-a641-49a8-8b45-2f634e3d57c3",
   "metadata": {},
   "outputs": [],
   "source": [
    "#nous allons résumer les étapes ci-dessus pour obtenir des URL dans une petite fonction\n",
    "def get_URLS(item_list_tags):\n",
    "    website_tags = []\n",
    "    base_url = 'https:'\n",
    "    for item in item_list_tags:\n",
    "        website = item.find ('a', {'class': 'organic-gallery-offer__img-section'})\n",
    "        website_tags.append({\"Website\":base_url+website['href']})\n",
    "    URLS=[]\n",
    "    for tag in website_tags:\n",
    "        URLS.append(tag.get('Website'))\n",
    "    return URLS\n",
    "URLS = get_URLS(item_list_tags)"
   ]
  },
  {
   "cell_type": "code",
   "execution_count": null,
   "id": "cf797ed0-5a65-4cee-90f0-132f84d780bd",
   "metadata": {},
   "outputs": [
    {
     "data": {
      "text/plain": [
       "['https://www.alibaba.com/product-detail/Fashionable-inflight-items-plastic-sound-insulation_60383877450.html',\n",
       " 'https://www.alibaba.com/product-detail/Wholesale-Lowest-Price-China-Children-s_60507339708.html',\n",
       " 'https://www.alibaba.com/product-detail/Birthday-party-items-gift-decorations-supplies_60826373825.html',\n",
       " 'https://www.alibaba.com/product-detail/Airline-Blanket-Inflight-Blanket-Polyester-Fleece_60753601852.html',\n",
       " 'https://www.alibaba.com/product-detail/Airline-Catering-Equipment-Buffet-Accessories-Food_62393995548.html',\n",
       " 'https://www.alibaba.com/product-detail/SmallOrders-RF19-Game-console-mobile-phone_1600438312626.html',\n",
       " 'https://www.alibaba.com/product-detail/SmallOrders-G020603-Pet-SuppliesDog-ToysPuzzle-Leaking_1600341345104.html',\n",
       " 'https://www.alibaba.com/product-detail/SmallOrders-RF19-Hot-selling-practical-wireless_1600436531873.html',\n",
       " 'https://www.alibaba.com/product-detail/Fashionable-inflight-items-plastic-sound-insulation_60383877450.html',\n",
       " 'https://www.alibaba.com/product-detail/Wholesale-Lowest-Price-China-Children-s_60507339708.html',\n",
       " 'https://www.alibaba.com/product-detail/Birthday-party-items-gift-decorations-supplies_60826373825.html',\n",
       " 'https://www.alibaba.com/product-detail/Airline-Blanket-Inflight-Blanket-Polyester-Fleece_60753601852.html',\n",
       " 'https://www.alibaba.com/product-detail/Airline-Catering-Equipment-Buffet-Accessories-Food_62393995548.html',\n",
       " 'https://www.alibaba.com/product-detail/Woven-seagrass-storage-basket-Serving-Tray_1600289177186.html',\n",
       " 'https://www.alibaba.com/product-detail/Happy-Birthday-Cake-Topper-Supplies-Acrylic_1600066797859.html',\n",
       " 'https://www.alibaba.com/product-detail/Hot-Sales-Handmade-Bamboo-Storage-Basket_1600289051442.html',\n",
       " 'https://www.alibaba.com/product-detail/Fashionable-inflight-items-plastic-sound-insulation_60383877450.html',\n",
       " 'https://www.alibaba.com/product-detail/Wholesale-Lowest-Price-China-Children-s_60507339708.html',\n",
       " 'https://www.alibaba.com/product-detail/Birthday-party-items-gift-decorations-supplies_60826373825.html',\n",
       " 'https://www.alibaba.com/product-detail/Airline-Blanket-Inflight-Blanket-Polyester-Fleece_60753601852.html',\n",
       " 'https://www.alibaba.com/product-detail/Airline-Catering-Equipment-Buffet-Accessories-Food_62393995548.html',\n",
       " 'https://www.alibaba.com/product-detail/Hot-Sales-Handmade-Bamboo-Storage-Basket_1600289051442.html',\n",
       " 'https://www.alibaba.com/product-detail/SmallOrders-G020504-New-golf-indoor-and_1600341991371.html',\n",
       " 'https://www.alibaba.com/product-detail/Acrylic-Happy-Birthday-Cake-Topper-Feliz_1600155975125.html',\n",
       " 'https://www.alibaba.com/product-detail/Fashionable-inflight-items-plastic-sound-insulation_60383877450.html',\n",
       " 'https://www.alibaba.com/product-detail/Wholesale-Lowest-Price-China-Children-s_60507339708.html',\n",
       " 'https://www.alibaba.com/product-detail/Birthday-party-items-gift-decorations-supplies_60826373825.html',\n",
       " 'https://www.alibaba.com/product-detail/Airline-Blanket-Inflight-Blanket-Polyester-Fleece_60753601852.html',\n",
       " 'https://www.alibaba.com/product-detail/SmallOrders-G020603-Pet-SuppliesDog-ToysPuzzle-Leaking_1600341345104.html',\n",
       " 'https://www.alibaba.com/product-detail/SmallOrders-RF19-Game-console-mobile-phone_1600438312626.html',\n",
       " 'https://www.alibaba.com/product-detail/Airline-Catering-Equipment-Buffet-Accessories-Food_62393995548.html',\n",
       " 'https://www.alibaba.com/product-detail/SmallOrders-G020509-Company-custom-logo-waterproof_1600427666645.html']"
      ]
     },
     "execution_count": 85,
     "metadata": {},
     "output_type": "execute_result"
    }
   ],
   "source": [
    "URLS"
   ]
  }
 ],
 "metadata": {
  "kernelspec": {
   "display_name": "Python 3",
   "language": "python",
   "name": "python3"
  },
  "language_info": {
   "codemirror_mode": {
    "name": "ipython",
    "version": 3
   },
   "file_extension": ".py",
   "mimetype": "text/x-python",
   "name": "python",
   "nbconvert_exporter": "python",
   "pygments_lexer": "ipython3",
   "version": "3.8.5"
  }
 },
 "nbformat": 4,
 "nbformat_minor": 5
}
