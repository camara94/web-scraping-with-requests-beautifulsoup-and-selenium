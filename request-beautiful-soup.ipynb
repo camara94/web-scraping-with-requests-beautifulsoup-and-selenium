{
 "cells": [
  {
   "cell_type": "markdown",
   "id": "98f76ffd-b0c0-410d-9d0e-f84fb830edd0",
   "metadata": {},
   "source": [
    "# Requests et BeautifulSoup"
   ]
  },
  {
   "cell_type": "markdown",
   "id": "1daec809-f90b-4284-a372-1e4218fe949c",
   "metadata": {},
   "source": [
    "## Installation Des Packages"
   ]
  },
  {
   "cell_type": "code",
   "execution_count": 1,
   "id": "0799ce20-19e8-4225-aa45-aefa482222ff",
   "metadata": {},
   "outputs": [],
   "source": [
    "# Si nous n'avez pas encore installé ces packages il faut enlever les les lignes suivantes en commentaire etles executer\n",
    "# !pip install requests --upgrade --quiet\n",
    "# !pip install beautifulsoup4 --upgrade --quiet\n",
    "# !pip install pandas --quiet"
   ]
  },
  {
   "cell_type": "markdown",
   "id": "ee0970d7-e956-44d1-b517-f3bb927e2efd",
   "metadata": {},
   "source": [
    "## Importation des Packages"
   ]
  },
  {
   "cell_type": "code",
   "execution_count": 2,
   "id": "02f456c4-ce79-43e1-868d-8ac1737c10ce",
   "metadata": {},
   "outputs": [],
   "source": [
    "import requests\n",
    "from random import randint\n",
    "from time import sleep\n",
    "from bs4 import BeautifulSoup\n",
    "import pandas as pd"
   ]
  },
  {
   "cell_type": "code",
   "execution_count": null,
   "id": "f54e4225-1950-48b5-aa56-f8369b14f29b",
   "metadata": {},
   "outputs": [],
   "source": []
  }
 ],
 "metadata": {
  "kernelspec": {
   "display_name": "Python 3",
   "language": "python",
   "name": "python3"
  },
  "language_info": {
   "codemirror_mode": {
    "name": "ipython",
    "version": 3
   },
   "file_extension": ".py",
   "mimetype": "text/x-python",
   "name": "python",
   "nbconvert_exporter": "python",
   "pygments_lexer": "ipython3",
   "version": "3.8.5"
  }
 },
 "nbformat": 4,
 "nbformat_minor": 5
}
