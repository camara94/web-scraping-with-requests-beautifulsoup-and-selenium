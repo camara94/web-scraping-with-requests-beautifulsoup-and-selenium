{
 "cells": [
  {
   "cell_type": "markdown",
   "id": "98f76ffd-b0c0-410d-9d0e-f84fb830edd0",
   "metadata": {},
   "source": [
    "# Requests et BeautifulSoup"
   ]
  },
  {
   "cell_type": "markdown",
   "id": "1daec809-f90b-4284-a372-1e4218fe949c",
   "metadata": {},
   "source": [
    "## Installation Des Packages"
   ]
  },
  {
   "cell_type": "code",
   "execution_count": null,
   "id": "0799ce20-19e8-4225-aa45-aefa482222ff",
   "metadata": {},
   "outputs": [],
   "source": [
    "# Si nous n'\n",
    "# !pip install requests --upgrade --quiet\n",
    "# !pip install beautifulsoup4 --upgrade --quiet\n",
    "# !pip install pandas --quiet"
   ]
  }
 ],
 "metadata": {
  "kernelspec": {
   "display_name": "Python 3",
   "language": "python",
   "name": "python3"
  },
  "language_info": {
   "codemirror_mode": {
    "name": "ipython",
    "version": 3
   },
   "file_extension": ".py",
   "mimetype": "text/x-python",
   "name": "python",
   "nbconvert_exporter": "python",
   "pygments_lexer": "ipython3",
   "version": "3.8.5"
  }
 },
 "nbformat": 4,
 "nbformat_minor": 5
}
