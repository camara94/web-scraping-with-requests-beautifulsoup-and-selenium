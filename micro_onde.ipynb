{
 "cells": [
  {
   "cell_type": "code",
   "execution_count": 6,
   "id": "a197e757",
   "metadata": {},
   "outputs": [],
   "source": [
    "import requests\n",
    "from random import randint\n",
    "from time import sleep\n",
    "from bs4 import BeautifulSoup\n",
    "import pandas as pd"
   ]
  },
  {
   "cell_type": "code",
   "execution_count": 16,
   "id": "980949b2",
   "metadata": {},
   "outputs": [
    {
     "data": {
      "text/plain": [
       "75"
      ]
     },
     "execution_count": 16,
     "metadata": {},
     "output_type": "execute_result"
    }
   ],
   "source": [
    "# Maintenant nous avons un résumé au dessus de la fonction \n",
    "def get_url_micro_onde_tunisianet():\n",
    "    url_micro_onde_details = []\n",
    "    urls = [\n",
    "        \"https://www.tunisianet.com.tn/564-four-electrique-tunisie-micro-onde\"\n",
    "    ]\n",
    "    \n",
    "    for page in range(2,5):\n",
    "        url = f\"https://www.tunisianet.com.tn/564-four-electrique-tunisie-micro-onde?page={page}\"\n",
    "        response = requests.get(url)\n",
    "        page_contents = response.text\n",
    "        if response.status_code != 200:\n",
    "            raise Exception('Failed to load page {}'.format(items_url))\n",
    "        doc = BeautifulSoup(page_contents, \"html.parser\")\n",
    "        for item in doc.find_all(\"a\", {'class': \"thumbnail product-thumbnail first-img\"}):\n",
    "            url_micro_onde_details.append(item['href'])\n",
    "   \n",
    "    for page in urls:\n",
    "        url = page\n",
    "        response = requests.get(url)\n",
    "        page_contents = response.text\n",
    "        if response.status_code != 200:\n",
    "            raise Exception('Failed to load page {}'.format(items_url))\n",
    "        doc = BeautifulSoup(page_contents, \"html.parser\")\n",
    "        for item in doc.find_all(\"a\", {'class': \"thumbnail product-thumbnail first-img\"}):\n",
    "            url_micro_onde_details.append(item['href'])\n",
    "        \n",
    "    return url_micro_onde_details\n",
    "url_micro_onde = get_url_micro_onde_tunisianet()\n",
    "len(url_micro_onde)"
   ]
  },
  {
   "cell_type": "code",
   "execution_count": 17,
   "id": "304bc526",
   "metadata": {},
   "outputs": [],
   "source": [
    "def get_micro_onde(items_url):\n",
    "    images_micro_ondes = []\n",
    "    # télécharger la page\n",
    "    response = requests.get(items_url)\n",
    "    # vérifier le succès de réponse\n",
    "    if response.status_code != 200:\n",
    "        raise Exception('Failed to load page {}'.format(items_url))\n",
    "    # Parser la réponse à l'aide de beaufifulSoup\n",
    "    doc = BeautifulSoup(response.text, 'html.parser')\n",
    "    for i, img in enumerate(doc.find_all('a', {'class': 'thumb-container'})):\n",
    "        if i>= 1 and len(doc.find_all('a', {'class': 'thumb-container'})) > 1:\n",
    "            images_micro_ondes.append(img['data-image'])\n",
    "    return images_micro_ondes"
   ]
  },
  {
   "cell_type": "code",
   "execution_count": 18,
   "id": "d1496c70",
   "metadata": {},
   "outputs": [],
   "source": [
    "images_micro_ondes = []\n",
    "for url in url_micro_onde:\n",
    "    for image in get_micro_onde(url):\n",
    "        images_micro_ondes.append(image)"
   ]
  },
  {
   "cell_type": "code",
   "execution_count": 10,
   "id": "ea06ecb0",
   "metadata": {},
   "outputs": [
    {
     "data": {
      "text/plain": [
       "53"
      ]
     },
     "execution_count": 10,
     "metadata": {},
     "output_type": "execute_result"
    }
   ],
   "source": [
    "len(images_micro_ondes)"
   ]
  },
  {
   "cell_type": "code",
   "execution_count": 13,
   "id": "fdff60ce",
   "metadata": {},
   "outputs": [],
   "source": [
    "import random\n",
    "import urllib.request\n",
    "import os\n",
    "\n",
    "def download_micro_ondes(urls, doc):\n",
    "    \n",
    "    os.makedirs(os.path.join('images', doc))\n",
    "    for i, url in enumerate(urls):\n",
    "        try:\n",
    "            fullname =  \"images/\" + doc + \"/\" + str((i+1))+\".jpg\"\n",
    "            urllib.request.urlretrieve(url,fullname)\n",
    "        except:\n",
    "            pass"
   ]
  },
  {
   "cell_type": "code",
   "execution_count": 15,
   "id": "706ad0cb",
   "metadata": {},
   "outputs": [],
   "source": [
    "download_micro_ondes(images_micro_ondes, 'micro_onde')"
   ]
  },
  {
   "cell_type": "code",
   "execution_count": null,
   "id": "da7e2ed9",
   "metadata": {},
   "outputs": [],
   "source": []
  }
 ],
 "metadata": {
  "kernelspec": {
   "display_name": "Python 3",
   "language": "python",
   "name": "python3"
  },
  "language_info": {
   "codemirror_mode": {
    "name": "ipython",
    "version": 3
   },
   "file_extension": ".py",
   "mimetype": "text/x-python",
   "name": "python",
   "nbconvert_exporter": "python",
   "pygments_lexer": "ipython3",
   "version": "3.8.5"
  }
 },
 "nbformat": 4,
 "nbformat_minor": 5
}
