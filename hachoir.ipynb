{
 "cells": [
  {
   "cell_type": "code",
   "execution_count": 1,
   "id": "d9051590",
   "metadata": {},
   "outputs": [],
   "source": [
    "#  hachoir\n",
    "import requests\n",
    "from random import randint\n",
    "from time import sleep\n",
    "from bs4 import BeautifulSoup\n",
    "import pandas as pd"
   ]
  },
  {
   "cell_type": "code",
   "execution_count": 2,
   "id": "c43b7968",
   "metadata": {},
   "outputs": [
    {
     "data": {
      "text/plain": [
       "42"
      ]
     },
     "execution_count": 2,
     "metadata": {},
     "output_type": "execute_result"
    }
   ],
   "source": [
    "# Maintenant nous avons un résumé au dessus de la fonction \n",
    "def get_url_hachoir_tunisianet():\n",
    "    url_hachoirs = []\n",
    "    urls = [\n",
    "        \"https://www.tunisianet.com.tn/530-hachoir-tunisie-a-viande\"\n",
    "    ]\n",
    "    \n",
    "    for page in range(2,3):\n",
    "        url = f\"https://www.tunisianet.com.tn/530-hachoir-tunisie-a-viande?page={page}\"\n",
    "        response = requests.get(url)\n",
    "        page_contents = response.text\n",
    "        if response.status_code != 200:\n",
    "            raise Exception('Failed to load page {}'.format(items_url))\n",
    "        doc = BeautifulSoup(page_contents, \"html.parser\")\n",
    "        for item in doc.find_all(\"a\", {'class': \"thumbnail product-thumbnail first-img\"}):\n",
    "            url_hachoirs.append(item['href'])\n",
    "   \n",
    "    for page in urls:\n",
    "        url = page\n",
    "        response = requests.get(url)\n",
    "        page_contents = response.text\n",
    "        if response.status_code != 200:\n",
    "            raise Exception('Failed to load page {}'.format(items_url))\n",
    "        doc = BeautifulSoup(page_contents, \"html.parser\")\n",
    "        for item in doc.find_all(\"a\", {'class': \"thumbnail product-thumbnail first-img\"}):\n",
    "            url_hachoirs.append(item['href'])\n",
    "        \n",
    "    return url_hachoirs\n",
    "url_hachoirs = get_url_hachoir_tunisianet()\n",
    "len(set(url_hachoirs))"
   ]
  },
  {
   "cell_type": "code",
   "execution_count": 3,
   "id": "e1548923",
   "metadata": {},
   "outputs": [],
   "source": [
    "def get_hachoir(items_url):\n",
    "    images_hachoirs = []\n",
    "    # télécharger la page\n",
    "    response = requests.get(items_url)\n",
    "    # vérifier le succès de réponse\n",
    "    if response.status_code != 200:\n",
    "        raise Exception('Failed to load page {}'.format(items_url))\n",
    "    # Parser la réponse à l'aide de beaufifulSoup\n",
    "    doc = BeautifulSoup(response.text, 'html.parser')\n",
    "    for i, img in enumerate(doc.find_all('a', {'class': 'thumb-container'})):\n",
    "        if i>= 1 and len(doc.find_all('a', {'class': 'thumb-container'})) > 1:\n",
    "            images_hachoirs.append(img['data-image'])\n",
    "    return images_hachoirs"
   ]
  },
  {
   "cell_type": "code",
   "execution_count": 5,
   "id": "36443167",
   "metadata": {},
   "outputs": [],
   "source": [
    "images_hachoirs = []\n",
    "for url in url_hachoirs:\n",
    "    for image in get_hachoir(url):\n",
    "        images_hachoirs.append(image)\n"
   ]
  },
  {
   "cell_type": "code",
   "execution_count": 7,
   "id": "7d6b5381",
   "metadata": {},
   "outputs": [
    {
     "data": {
      "text/plain": [
       "117"
      ]
     },
     "execution_count": 7,
     "metadata": {},
     "output_type": "execute_result"
    }
   ],
   "source": [
    "len(images_hachoirs)"
   ]
  },
  {
   "cell_type": "code",
   "execution_count": 8,
   "id": "6f711048",
   "metadata": {},
   "outputs": [],
   "source": [
    "import random\n",
    "import urllib.request\n",
    "import os\n",
    "\n",
    "def download_hachoirs(urls, doc):\n",
    "    \n",
    "    os.makedirs(os.path.join('images', doc))\n",
    "    for i, url in enumerate(urls):\n",
    "        try:\n",
    "            fullname =  \"images/\" + doc + \"/\" + str((i+1))+\".jpg\"\n",
    "            urllib.request.urlretrieve(url,fullname)\n",
    "        except:\n",
    "            pass"
   ]
  },
  {
   "cell_type": "code",
   "execution_count": 10,
   "id": "7f45de44",
   "metadata": {},
   "outputs": [],
   "source": [
    "download_hachoirs(images_hachoirs, 'hachoir')"
   ]
  },
  {
   "cell_type": "code",
   "execution_count": null,
   "id": "148c94e7",
   "metadata": {},
   "outputs": [],
   "source": []
  }
 ],
 "metadata": {
  "kernelspec": {
   "display_name": "Python 3",
   "language": "python",
   "name": "python3"
  },
  "language_info": {
   "codemirror_mode": {
    "name": "ipython",
    "version": 3
   },
   "file_extension": ".py",
   "mimetype": "text/x-python",
   "name": "python",
   "nbconvert_exporter": "python",
   "pygments_lexer": "ipython3",
   "version": "3.8.5"
  }
 },
 "nbformat": 4,
 "nbformat_minor": 5
}
