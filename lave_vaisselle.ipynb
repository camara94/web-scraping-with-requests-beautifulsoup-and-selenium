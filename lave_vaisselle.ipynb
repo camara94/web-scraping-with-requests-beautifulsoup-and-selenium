{
 "cells": [
  {
   "cell_type": "code",
   "execution_count": 1,
   "id": "0883d8c9",
   "metadata": {},
   "outputs": [],
   "source": [
    "# lave_vaisselle\n",
    "import requests\n",
    "from random import randint\n",
    "from time import sleep\n",
    "from bs4 import BeautifulSoup\n",
    "import pandas as pd"
   ]
  },
  {
   "cell_type": "code",
   "execution_count": 5,
   "id": "0b788b63",
   "metadata": {},
   "outputs": [
    {
     "data": {
      "text/plain": [
       "45"
      ]
     },
     "execution_count": 5,
     "metadata": {},
     "output_type": "execute_result"
    }
   ],
   "source": [
    "# Maintenant nous avons un résumé au dessus de la fonction \n",
    "def get_url_lave_vaisselle_tunisianet():\n",
    "    url_lave_vaisselle_details = []\n",
    "    urls = [\n",
    "        \"https://www.tunisianet.com.tn/541-lave-vaisselle\"\n",
    "    ]\n",
    "    \n",
    "    for page in range(2,3):\n",
    "        url = f\"https://www.tunisianet.com.tn/541-lave-vaisselle?page={page}\"\n",
    "        response = requests.get(url)\n",
    "        page_contents = response.text\n",
    "        if response.status_code != 200:\n",
    "            raise Exception('Failed to load page {}'.format(items_url))\n",
    "        doc = BeautifulSoup(page_contents, \"html.parser\")\n",
    "        for item in doc.find_all(\"a\", {'class': \"thumbnail product-thumbnail first-img\"}):\n",
    "            url_lave_vaisselle_details.append(item['href'])\n",
    "   \n",
    "    for page in urls:\n",
    "        url = page\n",
    "        response = requests.get(url)\n",
    "        page_contents = response.text\n",
    "        if response.status_code != 200:\n",
    "            raise Exception('Failed to load page {}'.format(items_url))\n",
    "        doc = BeautifulSoup(page_contents, \"html.parser\")\n",
    "        for item in doc.find_all(\"a\", {'class': \"thumbnail product-thumbnail first-img\"}):\n",
    "            url_lave_vaisselle_details.append(item['href'])\n",
    "        \n",
    "    return url_lave_vaisselle_details\n",
    "url_lave_vaisselle = get_url_lave_vaisselle_tunisianet()\n",
    "len(url_lave_vaisselle)"
   ]
  },
  {
   "cell_type": "code",
   "execution_count": 8,
   "id": "0933429c",
   "metadata": {},
   "outputs": [],
   "source": [
    "def get_lave_vaisselle(items_url):\n",
    "    images_lave_vaisselles = []\n",
    "    # télécharger la page\n",
    "    response = requests.get(items_url)\n",
    "    # vérifier le succès de réponse\n",
    "    if response.status_code != 200:\n",
    "        raise Exception('Failed to load page {}'.format(items_url))\n",
    "    # Parser la réponse à l'aide de beaufifulSoup\n",
    "    doc = BeautifulSoup(response.text, 'html.parser')\n",
    "    for i, img in enumerate(doc.find_all('a', {'class': 'thumb-container'})):\n",
    "        if i>= 1 and len(doc.find_all('a', {'class': 'thumb-container'})) > 1:\n",
    "            images_lave_vaisselles.append(img['data-image'])\n",
    "    return images_lave_vaisselles"
   ]
  },
  {
   "cell_type": "code",
   "execution_count": 10,
   "id": "8177633e",
   "metadata": {},
   "outputs": [],
   "source": [
    "image_lave_vaisselles = []\n",
    "for url in url_lave_vaisselle:\n",
    "    for image in get_lave_vaisselle(url):\n",
    "        image_lave_vaisselles.append(image)"
   ]
  },
  {
   "cell_type": "code",
   "execution_count": 12,
   "id": "3cb00e1e",
   "metadata": {},
   "outputs": [
    {
     "data": {
      "text/plain": [
       "81"
      ]
     },
     "execution_count": 12,
     "metadata": {},
     "output_type": "execute_result"
    }
   ],
   "source": [
    "len(image_lave_vaisselles)"
   ]
  },
  {
   "cell_type": "code",
   "execution_count": 13,
   "id": "e548bf62",
   "metadata": {},
   "outputs": [],
   "source": [
    "import random\n",
    "import urllib.request\n",
    "import os\n",
    "\n",
    "def download_lave_vaisselle(urls, doc):\n",
    "    \n",
    "    os.makedirs(os.path.join('images', doc))\n",
    "    for i, url in enumerate(urls):\n",
    "        try:\n",
    "            fullname =  \"images/\" + doc + \"/\" + str((i+1))+\".jpg\"\n",
    "            urllib.request.urlretrieve(url,fullname)\n",
    "        except:\n",
    "            pass"
   ]
  },
  {
   "cell_type": "code",
   "execution_count": 14,
   "id": "b82e629e",
   "metadata": {},
   "outputs": [],
   "source": [
    "download_lave_vaisselle(image_lave_vaisselles, 'lave_vaisselle')"
   ]
  },
  {
   "cell_type": "code",
   "execution_count": null,
   "id": "6966ed30",
   "metadata": {},
   "outputs": [],
   "source": [
    "urllib.request.urlretrieve(images[0],\"1.\")"
   ]
  }
 ],
 "metadata": {
  "kernelspec": {
   "display_name": "Python 3",
   "language": "python",
   "name": "python3"
  },
  "language_info": {
   "codemirror_mode": {
    "name": "ipython",
    "version": 3
   },
   "file_extension": ".py",
   "mimetype": "text/x-python",
   "name": "python",
   "nbconvert_exporter": "python",
   "pygments_lexer": "ipython3",
   "version": "3.8.5"
  }
 },
 "nbformat": 4,
 "nbformat_minor": 5
}
