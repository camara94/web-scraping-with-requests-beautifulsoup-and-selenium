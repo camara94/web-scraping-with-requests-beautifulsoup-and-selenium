{
 "cells": [
  {
   "cell_type": "code",
   "execution_count": 2,
   "id": "ea818d32",
   "metadata": {},
   "outputs": [],
   "source": [
    "import requests\n",
    "from random import randint\n",
    "from time import sleep\n",
    "from bs4 import BeautifulSoup\n",
    "import pandas as pd"
   ]
  },
  {
   "cell_type": "code",
   "execution_count": 3,
   "id": "0440a332",
   "metadata": {},
   "outputs": [
    {
     "data": {
      "text/plain": [
       "207"
      ]
     },
     "execution_count": 3,
     "metadata": {},
     "output_type": "execute_result"
    }
   ],
   "source": [
    "# Maintenant nous avons un résumé au dessus de la fonction \n",
    "def get_url_plaque_de_cuisson_tunisianet():\n",
    "    url_plaque_de_cuisson_details = []\n",
    "    urls = [\n",
    "        \"https://www.tunisianet.com.tn/540-plaque-de-cuisson\"\n",
    "    ]\n",
    "    \n",
    "    for page in range(2,10):\n",
    "        url = f\"https://www.tunisianet.com.tn/540-plaque-de-cuisson?page={page}\"\n",
    "        response = requests.get(url)\n",
    "        page_contents = response.text\n",
    "        if response.status_code != 200:\n",
    "            raise Exception('Failed to load page {}'.format(items_url))\n",
    "        doc = BeautifulSoup(page_contents, \"html.parser\")\n",
    "        for item in doc.find_all(\"a\", {'class': \"thumbnail product-thumbnail first-img\"}):\n",
    "            url_plaque_de_cuisson_details.append(item['href'])\n",
    "   \n",
    "    for page in urls:\n",
    "        url = page\n",
    "        response = requests.get(url)\n",
    "        page_contents = response.text\n",
    "        if response.status_code != 200:\n",
    "            raise Exception('Failed to load page {}'.format(items_url))\n",
    "        doc = BeautifulSoup(page_contents, \"html.parser\")\n",
    "        for item in doc.find_all(\"a\", {'class': \"thumbnail product-thumbnail first-img\"}):\n",
    "            url_plaque_de_cuisson_details.append(item['href'])\n",
    "        \n",
    "    return url_plaque_de_cuisson_details\n",
    "url_plaque_de_cuisson = get_url_plaque_de_cuisson_tunisianet()\n",
    "len(url_plaque_de_cuisson)"
   ]
  },
  {
   "cell_type": "code",
   "execution_count": 4,
   "id": "5d6744c2",
   "metadata": {},
   "outputs": [],
   "source": [
    "def get_plaque_de_cuisson(items_url):\n",
    "    images_plaque_de_cuissons = []\n",
    "    # télécharger la page\n",
    "    response = requests.get(items_url)\n",
    "    # vérifier le succès de réponse\n",
    "    if response.status_code != 200:\n",
    "        raise Exception('Failed to load page {}'.format(items_url))\n",
    "    # Parser la réponse à l'aide de beaufifulSoup\n",
    "    doc = BeautifulSoup(response.text, 'html.parser')\n",
    "    for i, img in enumerate(doc.find_all('a', {'class': 'thumb-container'})):\n",
    "        if i>= 1 and len(doc.find_all('a', {'class': 'thumb-container'})) > 1:\n",
    "            images_plaque_de_cuissons.append(img['data-image'])\n",
    "    return images_plaque_de_cuissons"
   ]
  },
  {
   "cell_type": "code",
   "execution_count": 5,
   "id": "320f55d9",
   "metadata": {},
   "outputs": [],
   "source": [
    "image_plaque_de_cuissons = []\n",
    "for url in url_plaque_de_cuisson:\n",
    "    for image in get_plaque_de_cuisson(url):\n",
    "        image_plaque_de_cuissons.append(image)"
   ]
  },
  {
   "cell_type": "code",
   "execution_count": 6,
   "id": "1a699989",
   "metadata": {},
   "outputs": [
    {
     "data": {
      "text/plain": [
       "128"
      ]
     },
     "execution_count": 6,
     "metadata": {},
     "output_type": "execute_result"
    }
   ],
   "source": [
    "len(image_plaque_de_cuissons)"
   ]
  },
  {
   "cell_type": "code",
   "execution_count": 7,
   "id": "969331f0",
   "metadata": {},
   "outputs": [],
   "source": [
    "import random\n",
    "import urllib.request\n",
    "import os\n",
    "\n",
    "def download_plaque_de_cuisson(urls, doc):\n",
    "    \n",
    "    os.makedirs(os.path.join('images', doc))\n",
    "    for i, url in enumerate(urls):\n",
    "        try:\n",
    "            fullname =  \"images/\" + doc + \"/\" + str((i+1))+\".jpg\"\n",
    "            urllib.request.urlretrieve(url,fullname)\n",
    "        except:\n",
    "            pass"
   ]
  },
  {
   "cell_type": "code",
   "execution_count": 8,
   "id": "646cad74",
   "metadata": {},
   "outputs": [],
   "source": [
    "download_plaque_de_cuisson(image_plaque_de_cuissons, 'plaque_de_cuisson')"
   ]
  },
  {
   "cell_type": "code",
   "execution_count": null,
   "id": "3ceb312f",
   "metadata": {},
   "outputs": [],
   "source": []
  }
 ],
 "metadata": {
  "kernelspec": {
   "display_name": "Python 3",
   "language": "python",
   "name": "python3"
  },
  "language_info": {
   "codemirror_mode": {
    "name": "ipython",
    "version": 3
   },
   "file_extension": ".py",
   "mimetype": "text/x-python",
   "name": "python",
   "nbconvert_exporter": "python",
   "pygments_lexer": "ipython3",
   "version": "3.8.5"
  }
 },
 "nbformat": 4,
 "nbformat_minor": 5
}
