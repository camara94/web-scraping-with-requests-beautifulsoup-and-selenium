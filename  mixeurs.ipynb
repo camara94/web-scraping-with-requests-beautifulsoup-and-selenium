{
 "cells": [
  {
   "cell_type": "code",
   "execution_count": 1,
   "id": "410e60a8",
   "metadata": {},
   "outputs": [],
   "source": [
    "#  mixeurs\n",
    "import requests\n",
    "from random import randint\n",
    "from time import sleep\n",
    "from bs4 import BeautifulSoup\n",
    "import pandas as pd"
   ]
  },
  {
   "cell_type": "code",
   "execution_count": 4,
   "id": "6f1aaa7f",
   "metadata": {},
   "outputs": [
    {
     "data": {
      "text/plain": [
       "110"
      ]
     },
     "execution_count": 4,
     "metadata": {},
     "output_type": "execute_result"
    }
   ],
   "source": [
    "# Maintenant nous avons un résumé au dessus de la fonction \n",
    "def get_url_mixeurs_tunisianet():\n",
    "    url_mixeurs_cuisines = []\n",
    "    urls = [\n",
    "        \"https://www.tunisianet.com.tn/568-balance-de-cuisine-tunisie\"\n",
    "    ]\n",
    "    \n",
    "    for page in range(1,6):\n",
    "        url = f\"https://www.tunisianet.com.tn/529-mixeur-plongeant-tunisie?page={page}\"\n",
    "        response = requests.get(url)\n",
    "        page_contents = response.text\n",
    "        if response.status_code != 200:\n",
    "            raise Exception('Failed to load page {}'.format(items_url))\n",
    "        doc = BeautifulSoup(page_contents, \"html.parser\")\n",
    "        for item in doc.find_all(\"a\", {'class': \"thumbnail product-thumbnail first-img\"}):\n",
    "            url_mixeurs_cuisines.append(item['href'])\n",
    "   \n",
    "    for page in urls:\n",
    "        url = page\n",
    "        response = requests.get(url)\n",
    "        page_contents = response.text\n",
    "        if response.status_code != 200:\n",
    "            raise Exception('Failed to load page {}'.format(items_url))\n",
    "        doc = BeautifulSoup(page_contents, \"html.parser\")\n",
    "        for item in doc.find_all(\"a\", {'class': \"thumbnail product-thumbnail first-img\"}):\n",
    "            url_mixeurs_cuisines.append(item['href'])\n",
    "        \n",
    "    return url_mixeurs_cuisines\n",
    "url_mixeurs = get_url_mixeurs_tunisianet()\n",
    "len(set(url_mixeurs))"
   ]
  },
  {
   "cell_type": "code",
   "execution_count": 6,
   "id": "d5846769",
   "metadata": {},
   "outputs": [],
   "source": [
    "def get_mixeur(items_url):\n",
    "    images_mixeurs = []\n",
    "    # télécharger la page\n",
    "    response = requests.get(items_url)\n",
    "    # vérifier le succès de réponse\n",
    "    if response.status_code != 200:\n",
    "        raise Exception('Failed to load page {}'.format(items_url))\n",
    "    # Parser la réponse à l'aide de beaufifulSoup\n",
    "    doc = BeautifulSoup(response.text, 'html.parser')\n",
    "    for i, img in enumerate(doc.find_all('a', {'class': 'thumb-container'})):\n",
    "        if i>= 1 and len(doc.find_all('a', {'class': 'thumb-container'})) > 1:\n",
    "            images_mixeurs.append(img['data-image'])\n",
    "    return images_mixeurs"
   ]
  },
  {
   "cell_type": "code",
   "execution_count": 8,
   "id": "0dbec589",
   "metadata": {},
   "outputs": [],
   "source": [
    "images_mixeurs = []\n",
    "for url in url_mixeurs:\n",
    "    for image in get_mixeur(url):\n",
    "        images_mixeurs.append(image)"
   ]
  },
  {
   "cell_type": "code",
   "execution_count": 9,
   "id": "0fd23edf",
   "metadata": {},
   "outputs": [
    {
     "data": {
      "text/plain": [
       "340"
      ]
     },
     "execution_count": 9,
     "metadata": {},
     "output_type": "execute_result"
    }
   ],
   "source": [
    "len(images_mixeurs)"
   ]
  },
  {
   "cell_type": "code",
   "execution_count": 10,
   "id": "c8d567a9",
   "metadata": {},
   "outputs": [],
   "source": [
    "import random\n",
    "import urllib.request\n",
    "import os\n",
    "\n",
    "def download_mixeurs(urls, doc):\n",
    "    \n",
    "    os.makedirs(os.path.join('images', doc))\n",
    "    for i, url in enumerate(urls):\n",
    "        try:\n",
    "            fullname =  \"images/\" + doc + \"/\" + str((i+1))+\".jpg\"\n",
    "            urllib.request.urlretrieve(url,fullname)\n",
    "        except:\n",
    "            pass"
   ]
  },
  {
   "cell_type": "code",
   "execution_count": 11,
   "id": "23ad1951",
   "metadata": {},
   "outputs": [],
   "source": [
    "download_mixeurs(images_mixeurs, 'mixeur')"
   ]
  },
  {
   "cell_type": "code",
   "execution_count": null,
   "id": "b078209a",
   "metadata": {},
   "outputs": [],
   "source": []
  }
 ],
 "metadata": {
  "kernelspec": {
   "display_name": "Python 3",
   "language": "python",
   "name": "python3"
  },
  "language_info": {
   "codemirror_mode": {
    "name": "ipython",
    "version": 3
   },
   "file_extension": ".py",
   "mimetype": "text/x-python",
   "name": "python",
   "nbconvert_exporter": "python",
   "pygments_lexer": "ipython3",
   "version": "3.8.5"
  }
 },
 "nbformat": 4,
 "nbformat_minor": 5
}
