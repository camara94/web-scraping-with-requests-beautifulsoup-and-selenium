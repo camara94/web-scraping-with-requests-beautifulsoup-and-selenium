{
 "cells": [
  {
   "cell_type": "code",
   "execution_count": 1,
   "id": "8f346fd9",
   "metadata": {},
   "outputs": [],
   "source": [
    "# cafetiere\n",
    "import requests\n",
    "from random import randint\n",
    "from time import sleep\n",
    "from bs4 import BeautifulSoup\n",
    "import pandas as pd"
   ]
  },
  {
   "cell_type": "code",
   "execution_count": 2,
   "id": "06ed1bc5",
   "metadata": {},
   "outputs": [
    {
     "data": {
      "text/plain": [
       "66"
      ]
     },
     "execution_count": 2,
     "metadata": {},
     "output_type": "execute_result"
    }
   ],
   "source": [
    "# Maintenant nous avons un résumé au dessus de la fonction \n",
    "def get_url_cafetiere_tunisianet():\n",
    "    url_cafetieres = []\n",
    "    urls = [\n",
    "        \"https://www.tunisianet.com.tn/537-cafetiere-tunisie\"\n",
    "    ]\n",
    "    \n",
    "    for page in range(2,4):\n",
    "        url = f\"https://www.tunisianet.com.tn/537-cafetiere-tunisie?page={page}\"\n",
    "        response = requests.get(url)\n",
    "        page_contents = response.text\n",
    "        if response.status_code != 200:\n",
    "            raise Exception('Failed to load page {}'.format(items_url))\n",
    "        doc = BeautifulSoup(page_contents, \"html.parser\")\n",
    "        for item in doc.find_all(\"a\", {'class': \"thumbnail product-thumbnail first-img\"}):\n",
    "            url_cafetieres.append(item['href'])\n",
    "   \n",
    "    for page in urls:\n",
    "        url = page\n",
    "        response = requests.get(url)\n",
    "        page_contents = response.text\n",
    "        if response.status_code != 200:\n",
    "            raise Exception('Failed to load page {}'.format(items_url))\n",
    "        doc = BeautifulSoup(page_contents, \"html.parser\")\n",
    "        for item in doc.find_all(\"a\", {'class': \"thumbnail product-thumbnail first-img\"}):\n",
    "            url_cafetieres.append(item['href'])\n",
    "        \n",
    "    return url_cafetieres\n",
    "url_cafetieres = get_url_cafetiere_tunisianet()\n",
    "len(set(url_cafetieres))"
   ]
  },
  {
   "cell_type": "code",
   "execution_count": 3,
   "id": "8b592f01",
   "metadata": {},
   "outputs": [],
   "source": [
    "def get_cafetieres(items_url):\n",
    "    images_cafetieres = []\n",
    "    # télécharger la page\n",
    "    response = requests.get(items_url)\n",
    "    # vérifier le succès de réponse\n",
    "    if response.status_code != 200:\n",
    "        raise Exception('Failed to load page {}'.format(items_url))\n",
    "    # Parser la réponse à l'aide de beaufifulSoup\n",
    "    doc = BeautifulSoup(response.text, 'html.parser')\n",
    "    for i, img in enumerate(doc.find_all('a', {'class': 'thumb-container'})):\n",
    "        if i>= 1 and len(doc.find_all('a', {'class': 'thumb-container'})) > 1:\n",
    "            images_cafetieres.append(img['data-image'])\n",
    "    return images_cafetieres"
   ]
  },
  {
   "cell_type": "code",
   "execution_count": 6,
   "id": "7bb1a0a9",
   "metadata": {},
   "outputs": [],
   "source": [
    "images_cafetieres = []\n",
    "for url in url_cafetieres:\n",
    "    for image in get_cafetieres(url):\n",
    "        images_cafetieres.append(image)"
   ]
  },
  {
   "cell_type": "code",
   "execution_count": 7,
   "id": "bc5dd86a",
   "metadata": {},
   "outputs": [
    {
     "data": {
      "text/plain": [
       "152"
      ]
     },
     "execution_count": 7,
     "metadata": {},
     "output_type": "execute_result"
    }
   ],
   "source": [
    "len(images_cafetieres)"
   ]
  },
  {
   "cell_type": "code",
   "execution_count": 8,
   "id": "2f051669",
   "metadata": {},
   "outputs": [],
   "source": [
    "import random\n",
    "import urllib.request\n",
    "import os\n",
    "\n",
    "def download_cafetieres(urls, doc):  \n",
    "    os.makedirs(os.path.join('images', doc))\n",
    "    for i, url in enumerate(urls):\n",
    "        try:\n",
    "            fullname =  \"images/\" + doc + \"/\" + str((i+1))+\".jpg\"\n",
    "            urllib.request.urlretrieve(url,fullname)\n",
    "        except:\n",
    "            pass"
   ]
  },
  {
   "cell_type": "code",
   "execution_count": 9,
   "id": "8743ca58",
   "metadata": {},
   "outputs": [],
   "source": [
    "download_cafetieres(images_cafetieres, 'cafetiere')"
   ]
  },
  {
   "cell_type": "code",
   "execution_count": null,
   "id": "9ed488cf",
   "metadata": {},
   "outputs": [],
   "source": []
  }
 ],
 "metadata": {
  "kernelspec": {
   "display_name": "Python 3",
   "language": "python",
   "name": "python3"
  },
  "language_info": {
   "codemirror_mode": {
    "name": "ipython",
    "version": 3
   },
   "file_extension": ".py",
   "mimetype": "text/x-python",
   "name": "python",
   "nbconvert_exporter": "python",
   "pygments_lexer": "ipython3",
   "version": "3.8.5"
  }
 },
 "nbformat": 4,
 "nbformat_minor": 5
}
