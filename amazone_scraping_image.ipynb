{
 "cells": [
  {
   "cell_type": "code",
   "execution_count": 7,
   "id": "591a0b40",
   "metadata": {},
   "outputs": [],
   "source": [
    "import requests\n",
    "from random import randint\n",
    "from time import sleep\n",
    "from bs4 import BeautifulSoup\n",
    "import pandas as pd"
   ]
  },
  {
   "cell_type": "code",
   "execution_count": 8,
   "id": "3850a304",
   "metadata": {},
   "outputs": [],
   "source": [
    "# !pip install --upgrade pip -U --user\n",
    "# !pip install -U --user freeze\n",
    "# !pip install lxml -U --user"
   ]
  },
  {
   "cell_type": "code",
   "execution_count": 13,
   "id": "5c8011d7",
   "metadata": {},
   "outputs": [],
   "source": [
    "# Maintenant nous avons un résumé au dessus de la fonction \n",
    "def get_url_amazon(urls=[]):\n",
    "    url_articles = []\n",
    "    File = open(\"out.csv\", \"a\")\n",
    " \n",
    "    HEADERS = ({'User-Agent':'Mozilla/5.0 (Windows NT 10.0; Win64; x64) AppleWebKit/537.36 (KHTML, like Gecko) Chrome/99.0.4844.84 Safari/537.36',\n",
    "                'Accept-Language': 'en-US, en;q=0.5'})\n",
    "    for url in urls:\n",
    "        webpage = requests.get(urls[0], headers=HEADERS)\n",
    "        if webpage.status_code != 200:\n",
    "            raise Exception('Failed to load page {}'.format(url))\n",
    "        doc = BeautifulSoup(webpage.content, \"lxml\")\n",
    "        for item in doc.find_all(\"a\", {'class': \"a-link-normal s-no-outline\"}):\n",
    "            url_articles.append('https://www.amazon.fr' + item['href'])\n",
    "        \n",
    "    return url_articles"
   ]
  },
  {
   "cell_type": "code",
   "execution_count": 14,
   "id": "71da44f9",
   "metadata": {},
   "outputs": [],
   "source": [
    "urls = [\n",
    "'https://www.amazon.fr/s?i=fashion&bbn=12725743031&rh=n%3A11961521031%2Cn%3A12725743031%2Cn%3A%2111961522031%2Cn%3A12422072031%2Cn%3A1765056031%2Cn%3A1765058031&8rw_html_to_wsrp=1&ref=sv_ap_gender_9_1_1_2',\n",
    "'https://www.amazon.fr/s?i=shoes&bbn=12725743031&rh=n%3A11961521031%2Cn%3A12725743031%2Cn%3A11961522031%2Cn%3A12422072031%2Cn%3A1765056031%2Cn%3A1765058031&page=2&8rw_html_to_wsrp=1&qid=1648774452&ref=sr_pg_1'\n",
    "'https://www.amazon.fr/s?i=shoes&bbn=12725743031&rh=n%3A11961521031%2Cn%3A12725743031%2Cn%3A11961522031%2Cn%3A12422072031%2Cn%3A1765056031%2Cn%3A1765058031&page=3&8rw_html_to_wsrp=1&qid=1648774976&ref=sr_pg_3',\n",
    "'https://www.amazon.fr/s?i=shoes&bbn=12725743031&rh=n%3A11961521031%2Cn%3A12725743031%2Cn%3A11961522031%2Cn%3A12422072031%2Cn%3A1765056031%2Cn%3A1765058031&page=4&8rw_html_to_wsrp=1&qid=1648775133&ref=sr_pg_4',\n",
    "'https://www.amazon.fr/s?i=shoes&bbn=12725743031&rh=n%3A11961521031%2Cn%3A12725743031%2Cn%3A11961522031%2Cn%3A12422072031%2Cn%3A1765056031%2Cn%3A1765058031&page=5&8rw_html_to_wsrp=1&qid=1648775156&ref=sr_pg_5',\n",
    "'https://www.amazon.fr/s?i=shoes&bbn=12725743031&rh=n%3A11961521031%2Cn%3A12725743031%2Cn%3A11961522031%2Cn%3A12422072031%2Cn%3A1765056031%2Cn%3A1765058031&page=6&8rw_html_to_wsrp=1&qid=1648775180&ref=sr_pg_6',   \n",
    "'https://www.amazon.fr/s?i=shoes&bbn=12725743031&rh=n%3A11961521031%2Cn%3A12725743031%2Cn%3A11961522031%2Cn%3A12422072031%2Cn%3A1765056031%2Cn%3A1765058031&page=7&8rw_html_to_wsrp=1&qid=1648775212&ref=sr_pg_7',\n",
    "'https://www.amazon.fr/s?i=shoes&bbn=12725743031&rh=n%3A11961521031%2Cn%3A12725743031%2Cn%3A11961522031%2Cn%3A12422072031%2Cn%3A1765056031%2Cn%3A1765058031&page=8&8rw_html_to_wsrp=1&qid=1648775254&ref=sr_pg_8',\n",
    "'https://www.amazon.fr/s?i=shoes&bbn=12725743031&rh=n%3A11961521031%2Cn%3A12725743031%2Cn%3A11961522031%2Cn%3A12422072031%2Cn%3A1765056031%2Cn%3A1765058031&page=9&8rw_html_to_wsrp=1&qid=1648775264&ref=sr_pg_9',\n",
    "'https://www.amazon.fr/s?i=shoes&bbn=12725743031&rh=n%3A11961521031%2Cn%3A12725743031%2Cn%3A11961522031%2Cn%3A12422072031%2Cn%3A1765056031%2Cn%3A1765058031&page=10&8rw_html_to_wsrp=1&qid=1648775316&ref=sr_pg_10',\n",
    "'https://www.amazon.fr/s?i=shoes&bbn=12725743031&rh=n%3A11961521031%2Cn%3A12725743031%2Cn%3A11961522031%2Cn%3A12422072031%2Cn%3A1765056031%2Cn%3A1765058031&page=11&8rw_html_to_wsrp=1&qid=1648775356&ref=sr_pg_11',\n",
    "'https://www.amazon.fr/s?i=shoes&bbn=12725743031&rh=n%3A11961521031%2Cn%3A12725743031%2Cn%3A11961522031%2Cn%3A12422072031%2Cn%3A1765056031%2Cn%3A1765058031&page=12&8rw_html_to_wsrp=1&qid=1648775371&ref=sr_pg_12'   \n",
    "]\n"
   ]
  },
  {
   "cell_type": "code",
   "execution_count": 15,
   "id": "65707058",
   "metadata": {},
   "outputs": [],
   "source": [
    "def get_article(items_url):\n",
    "    images_articles = \"\"\n",
    "    HEADERS = ({'User-Agent':'Mozilla/5.0 (Windows NT 10.0; Win64; x64) AppleWebKit/537.36 (KHTML, like Gecko) Chrome/99.0.4844.84 Safari/537.36',\n",
    "                'Accept-Language': 'en-US, en;q=0.5'})\n",
    "    # télécharger la page\n",
    "    response = requests.get(items_url, headers=HEADERS)\n",
    "    # vérifier le succès de réponse\n",
    "    if response.status_code != 200:\n",
    "        raise Exception('Failed to load page {}'.format(items_url))\n",
    "    # Parser la réponse à l'aide de beaufifulSoup\n",
    "    doc = BeautifulSoup(response.text, 'html.parser')\n",
    "    for i, img in enumerate(doc.find_all('img', {'class': 'a-dynamic-image'})):\n",
    "        images_articles = img['src']\n",
    "    return images_articles"
   ]
  },
  {
   "cell_type": "code",
   "execution_count": 16,
   "id": "a3711c72",
   "metadata": {},
   "outputs": [
    {
     "ename": "Exception",
     "evalue": "Failed to load page https://www.amazon.fr/s?i=shoes&bbn=12725743031&rh=n%3A11961521031%2Cn%3A12725743031%2Cn%3A11961522031%2Cn%3A12422072031%2Cn%3A1765056031%2Cn%3A1765058031&page=5&8rw_html_to_wsrp=1&qid=1648775156&ref=sr_pg_5",
     "output_type": "error",
     "traceback": [
      "\u001b[1;31m---------------------------------------------------------------------------\u001b[0m",
      "\u001b[1;31mException\u001b[0m                                 Traceback (most recent call last)",
      "\u001b[1;32m<ipython-input-16-1016ce52dd5f>\u001b[0m in \u001b[0;36m<module>\u001b[1;34m\u001b[0m\n\u001b[1;32m----> 1\u001b[1;33m \u001b[0murls\u001b[0m \u001b[1;33m=\u001b[0m \u001b[0mget_url_amazon\u001b[0m\u001b[1;33m(\u001b[0m\u001b[0murls\u001b[0m\u001b[1;33m[\u001b[0m\u001b[1;36m3\u001b[0m\u001b[1;33m:\u001b[0m\u001b[1;33m]\u001b[0m\u001b[1;33m)\u001b[0m\u001b[1;33m\u001b[0m\u001b[1;33m\u001b[0m\u001b[0m\n\u001b[0m",
      "\u001b[1;32m<ipython-input-13-8c9e9eaab303>\u001b[0m in \u001b[0;36mget_url_amazon\u001b[1;34m(urls)\u001b[0m\n\u001b[0;32m      9\u001b[0m         \u001b[0mwebpage\u001b[0m \u001b[1;33m=\u001b[0m \u001b[0mrequests\u001b[0m\u001b[1;33m.\u001b[0m\u001b[0mget\u001b[0m\u001b[1;33m(\u001b[0m\u001b[0murls\u001b[0m\u001b[1;33m[\u001b[0m\u001b[1;36m0\u001b[0m\u001b[1;33m]\u001b[0m\u001b[1;33m,\u001b[0m \u001b[0mheaders\u001b[0m\u001b[1;33m=\u001b[0m\u001b[0mHEADERS\u001b[0m\u001b[1;33m)\u001b[0m\u001b[1;33m\u001b[0m\u001b[1;33m\u001b[0m\u001b[0m\n\u001b[0;32m     10\u001b[0m         \u001b[1;32mif\u001b[0m \u001b[0mwebpage\u001b[0m\u001b[1;33m.\u001b[0m\u001b[0mstatus_code\u001b[0m \u001b[1;33m!=\u001b[0m \u001b[1;36m200\u001b[0m\u001b[1;33m:\u001b[0m\u001b[1;33m\u001b[0m\u001b[1;33m\u001b[0m\u001b[0m\n\u001b[1;32m---> 11\u001b[1;33m             \u001b[1;32mraise\u001b[0m \u001b[0mException\u001b[0m\u001b[1;33m(\u001b[0m\u001b[1;34m'Failed to load page {}'\u001b[0m\u001b[1;33m.\u001b[0m\u001b[0mformat\u001b[0m\u001b[1;33m(\u001b[0m\u001b[0murl\u001b[0m\u001b[1;33m)\u001b[0m\u001b[1;33m)\u001b[0m\u001b[1;33m\u001b[0m\u001b[1;33m\u001b[0m\u001b[0m\n\u001b[0m\u001b[0;32m     12\u001b[0m         \u001b[0mdoc\u001b[0m \u001b[1;33m=\u001b[0m \u001b[0mBeautifulSoup\u001b[0m\u001b[1;33m(\u001b[0m\u001b[0mwebpage\u001b[0m\u001b[1;33m.\u001b[0m\u001b[0mcontent\u001b[0m\u001b[1;33m,\u001b[0m \u001b[1;34m\"lxml\"\u001b[0m\u001b[1;33m)\u001b[0m\u001b[1;33m\u001b[0m\u001b[1;33m\u001b[0m\u001b[0m\n\u001b[0;32m     13\u001b[0m         \u001b[1;32mfor\u001b[0m \u001b[0mitem\u001b[0m \u001b[1;32min\u001b[0m \u001b[0mdoc\u001b[0m\u001b[1;33m.\u001b[0m\u001b[0mfind_all\u001b[0m\u001b[1;33m(\u001b[0m\u001b[1;34m\"a\"\u001b[0m\u001b[1;33m,\u001b[0m \u001b[1;33m{\u001b[0m\u001b[1;34m'class'\u001b[0m\u001b[1;33m:\u001b[0m \u001b[1;34m\"a-link-normal s-no-outline\"\u001b[0m\u001b[1;33m}\u001b[0m\u001b[1;33m)\u001b[0m\u001b[1;33m:\u001b[0m\u001b[1;33m\u001b[0m\u001b[1;33m\u001b[0m\u001b[0m\n",
      "\u001b[1;31mException\u001b[0m: Failed to load page https://www.amazon.fr/s?i=shoes&bbn=12725743031&rh=n%3A11961521031%2Cn%3A12725743031%2Cn%3A11961522031%2Cn%3A12422072031%2Cn%3A1765056031%2Cn%3A1765058031&page=5&8rw_html_to_wsrp=1&qid=1648775156&ref=sr_pg_5"
     ]
    }
   ],
   "source": [
    "urls = get_url_amazon(urls[3:])"
   ]
  },
  {
   "cell_type": "code",
   "execution_count": 6,
   "id": "e2f48801",
   "metadata": {},
   "outputs": [
    {
     "ename": "NameError",
     "evalue": "name 'requests' is not defined",
     "output_type": "error",
     "traceback": [
      "\u001b[1;31m---------------------------------------------------------------------------\u001b[0m",
      "\u001b[1;31mNameError\u001b[0m                                 Traceback (most recent call last)",
      "\u001b[1;32m<ipython-input-6-c5c459a8038e>\u001b[0m in \u001b[0;36m<module>\u001b[1;34m\u001b[0m\n\u001b[1;32m----> 1\u001b[1;33m \u001b[0mimages\u001b[0m \u001b[1;33m=\u001b[0m \u001b[0mget_article\u001b[0m\u001b[1;33m(\u001b[0m\u001b[0murls\u001b[0m\u001b[1;33m[\u001b[0m\u001b[1;36m0\u001b[0m\u001b[1;33m]\u001b[0m\u001b[1;33m)\u001b[0m\u001b[1;33m\u001b[0m\u001b[1;33m\u001b[0m\u001b[0m\n\u001b[0m",
      "\u001b[1;32m<ipython-input-4-f1546fa15e7c>\u001b[0m in \u001b[0;36mget_article\u001b[1;34m(items_url)\u001b[0m\n\u001b[0;32m      4\u001b[0m                 'Accept-Language': 'en-US, en;q=0.5'})\n\u001b[0;32m      5\u001b[0m     \u001b[1;31m# télécharger la page\u001b[0m\u001b[1;33m\u001b[0m\u001b[1;33m\u001b[0m\u001b[1;33m\u001b[0m\u001b[0m\n\u001b[1;32m----> 6\u001b[1;33m     \u001b[0mresponse\u001b[0m \u001b[1;33m=\u001b[0m \u001b[0mrequests\u001b[0m\u001b[1;33m.\u001b[0m\u001b[0mget\u001b[0m\u001b[1;33m(\u001b[0m\u001b[0mitems_url\u001b[0m\u001b[1;33m,\u001b[0m \u001b[0mheaders\u001b[0m\u001b[1;33m=\u001b[0m\u001b[0mHEADERS\u001b[0m\u001b[1;33m)\u001b[0m\u001b[1;33m\u001b[0m\u001b[1;33m\u001b[0m\u001b[0m\n\u001b[0m\u001b[0;32m      7\u001b[0m     \u001b[1;31m# vérifier le succès de réponse\u001b[0m\u001b[1;33m\u001b[0m\u001b[1;33m\u001b[0m\u001b[1;33m\u001b[0m\u001b[0m\n\u001b[0;32m      8\u001b[0m     \u001b[1;32mif\u001b[0m \u001b[0mresponse\u001b[0m\u001b[1;33m.\u001b[0m\u001b[0mstatus_code\u001b[0m \u001b[1;33m!=\u001b[0m \u001b[1;36m200\u001b[0m\u001b[1;33m:\u001b[0m\u001b[1;33m\u001b[0m\u001b[1;33m\u001b[0m\u001b[0m\n",
      "\u001b[1;31mNameError\u001b[0m: name 'requests' is not defined"
     ]
    }
   ],
   "source": [
    "images = get_article(urls[0])"
   ]
  },
  {
   "cell_type": "code",
   "execution_count": null,
   "id": "1c617f52",
   "metadata": {},
   "outputs": [],
   "source": [
    "response = requests.get('https://www.amazon.fr/Victoria-112558-WOMEN-Basket-Paillettes-Plateau/dp/B09QCP3B4W/ref=sr_1_1?8rw_html_to_wsrp=1&qid=1649569761&s=shoes&sr=1-1')"
   ]
  },
  {
   "cell_type": "code",
   "execution_count": null,
   "id": "3f6cd666",
   "metadata": {},
   "outputs": [],
   "source": [
    "images"
   ]
  },
  {
   "cell_type": "code",
   "execution_count": null,
   "id": "5d8c1b61",
   "metadata": {},
   "outputs": [],
   "source": [
    "import random\n",
    "import urllib.request\n",
    "import os\n",
    "\n",
    "def download_artciles(urls, doc):\n",
    "    \n",
    "    os.makedirs(os.path.join('images', doc))\n",
    "    for i, url in enumerate(urls):\n",
    "        try:\n",
    "            fullname =  \"images/\" + doc + \"/\" + str((i+1))+\".jpg\"\n",
    "            urllib.request.urlretrieve(url,fullname)\n",
    "        except:\n",
    "            pass"
   ]
  },
  {
   "cell_type": "code",
   "execution_count": null,
   "id": "9ec04f17",
   "metadata": {},
   "outputs": [],
   "source": [
    "images"
   ]
  },
  {
   "cell_type": "code",
   "execution_count": null,
   "id": "1e4536c2",
   "metadata": {},
   "outputs": [],
   "source": []
  }
 ],
 "metadata": {
  "kernelspec": {
   "display_name": "Python 3",
   "language": "python",
   "name": "python3"
  },
  "language_info": {
   "codemirror_mode": {
    "name": "ipython",
    "version": 3
   },
   "file_extension": ".py",
   "mimetype": "text/x-python",
   "name": "python",
   "nbconvert_exporter": "python",
   "pygments_lexer": "ipython3",
   "version": "3.8.5"
  }
 },
 "nbformat": 4,
 "nbformat_minor": 5
}
