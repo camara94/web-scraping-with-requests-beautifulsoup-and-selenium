{
 "cells": [
  {
   "cell_type": "code",
   "execution_count": 4,
   "id": "b5a6414e",
   "metadata": {},
   "outputs": [],
   "source": [
    "import requests\n",
    "from random import randint\n",
    "from time import sleep\n",
    "from bs4 import BeautifulSoup\n",
    "import pandas as pd"
   ]
  },
  {
   "cell_type": "code",
   "execution_count": 2,
   "id": "bfb03f74",
   "metadata": {},
   "outputs": [],
   "source": [
    "# !pip install --upgrade pip -U --user\n",
    "# !pip install -U --user freeze\n",
    "# !pip install lxml -U --user"
   ]
  },
  {
   "cell_type": "code",
   "execution_count": 16,
   "id": "ec5eb6c5",
   "metadata": {},
   "outputs": [],
   "source": [
    "# Maintenant nous avons un résumé au dessus de la fonction \n",
    "def get_url_amazon(urls=[]):\n",
    "    url_articles = []\n",
    "    File = open(\"out.csv\", \"a\")\n",
    " \n",
    "    HEADERS = ({'User-Agent':'Mozilla/5.0 (Windows NT 10.0; Win64; x64) AppleWebKit/537.36 (KHTML, like Gecko) Chrome/99.0.4844.84 Safari/537.36',\n",
    "                'Accept-Language': 'en-US, en;q=0.5'})\n",
    "    for url in urls:\n",
    "        webpage = requests.get(urls[0], headers=HEADERS)\n",
    "        if webpage.status_code != 200:\n",
    "            raise Exception('Failed to load page {}'.format(url))\n",
    "        doc = BeautifulSoup(webpage.content, \"lxml\")\n",
    "        for item in doc.find_all(\"a\", {'class': \"a-link-normal s-no-outline\"}):\n",
    "            url_articles.append('https://www.amazon.fr' + item['href'])\n",
    "        \n",
    "    return url_articles"
   ]
  },
  {
   "cell_type": "code",
   "execution_count": 17,
   "id": "99e7fb6c",
   "metadata": {},
   "outputs": [],
   "source": [
    "urls = [\n",
    "'https://www.amazon.fr/s?i=fashion&bbn=12725743031&rh=n%3A11961521031%2Cn%3A12725743031%2Cn%3A%2111961522031%2Cn%3A12422072031%2Cn%3A1765056031%2Cn%3A1765058031&8rw_html_to_wsrp=1&ref=sv_ap_gender_9_1_1_2',\n",
    "'https://www.amazon.fr/s?i=shoes&bbn=12725743031&rh=n%3A11961521031%2Cn%3A12725743031%2Cn%3A11961522031%2Cn%3A12422072031%2Cn%3A1765056031%2Cn%3A1765058031&page=2&8rw_html_to_wsrp=1&qid=1648774452&ref=sr_pg_1'\n",
    "'https://www.amazon.fr/s?i=shoes&bbn=12725743031&rh=n%3A11961521031%2Cn%3A12725743031%2Cn%3A11961522031%2Cn%3A12422072031%2Cn%3A1765056031%2Cn%3A1765058031&page=3&8rw_html_to_wsrp=1&qid=1648774976&ref=sr_pg_3',\n",
    "'https://www.amazon.fr/s?i=shoes&bbn=12725743031&rh=n%3A11961521031%2Cn%3A12725743031%2Cn%3A11961522031%2Cn%3A12422072031%2Cn%3A1765056031%2Cn%3A1765058031&page=4&8rw_html_to_wsrp=1&qid=1648775133&ref=sr_pg_4',\n",
    "'https://www.amazon.fr/s?i=shoes&bbn=12725743031&rh=n%3A11961521031%2Cn%3A12725743031%2Cn%3A11961522031%2Cn%3A12422072031%2Cn%3A1765056031%2Cn%3A1765058031&page=5&8rw_html_to_wsrp=1&qid=1648775156&ref=sr_pg_5',\n",
    "'https://www.amazon.fr/s?i=shoes&bbn=12725743031&rh=n%3A11961521031%2Cn%3A12725743031%2Cn%3A11961522031%2Cn%3A12422072031%2Cn%3A1765056031%2Cn%3A1765058031&page=6&8rw_html_to_wsrp=1&qid=1648775180&ref=sr_pg_6',   \n",
    "'https://www.amazon.fr/s?i=shoes&bbn=12725743031&rh=n%3A11961521031%2Cn%3A12725743031%2Cn%3A11961522031%2Cn%3A12422072031%2Cn%3A1765056031%2Cn%3A1765058031&page=7&8rw_html_to_wsrp=1&qid=1648775212&ref=sr_pg_7',\n",
    "'https://www.amazon.fr/s?i=shoes&bbn=12725743031&rh=n%3A11961521031%2Cn%3A12725743031%2Cn%3A11961522031%2Cn%3A12422072031%2Cn%3A1765056031%2Cn%3A1765058031&page=8&8rw_html_to_wsrp=1&qid=1648775254&ref=sr_pg_8',\n",
    "'https://www.amazon.fr/s?i=shoes&bbn=12725743031&rh=n%3A11961521031%2Cn%3A12725743031%2Cn%3A11961522031%2Cn%3A12422072031%2Cn%3A1765056031%2Cn%3A1765058031&page=9&8rw_html_to_wsrp=1&qid=1648775264&ref=sr_pg_9',\n",
    "'https://www.amazon.fr/s?i=shoes&bbn=12725743031&rh=n%3A11961521031%2Cn%3A12725743031%2Cn%3A11961522031%2Cn%3A12422072031%2Cn%3A1765056031%2Cn%3A1765058031&page=10&8rw_html_to_wsrp=1&qid=1648775316&ref=sr_pg_10',\n",
    "'https://www.amazon.fr/s?i=shoes&bbn=12725743031&rh=n%3A11961521031%2Cn%3A12725743031%2Cn%3A11961522031%2Cn%3A12422072031%2Cn%3A1765056031%2Cn%3A1765058031&page=11&8rw_html_to_wsrp=1&qid=1648775356&ref=sr_pg_11',\n",
    "'https://www.amazon.fr/s?i=shoes&bbn=12725743031&rh=n%3A11961521031%2Cn%3A12725743031%2Cn%3A11961522031%2Cn%3A12422072031%2Cn%3A1765056031%2Cn%3A1765058031&page=12&8rw_html_to_wsrp=1&qid=1648775371&ref=sr_pg_12'   \n",
    "]\n"
   ]
  },
  {
   "cell_type": "code",
   "execution_count": 18,
   "id": "950f8702",
   "metadata": {},
   "outputs": [],
   "source": [
    "File = open(\"out.csv\", \"a\")\n",
    " \n",
    "HEADERS = ({'User-Agent':'Mozilla/5.0 (Windows NT 10.0; Win64; x64) AppleWebKit/537.36 (KHTML, like Gecko) Chrome/99.0.4844.84 Safari/537.36',\n",
    "            'Accept-Language': 'en-US, en;q=0.5'})\n",
    " \n",
    "webpage = requests.get(urls[0], headers=HEADERS)\n",
    "soup = BeautifulSoup(webpage.content, \"lxml\")"
   ]
  },
  {
   "cell_type": "code",
   "execution_count": 19,
   "id": "1a15c0b1",
   "metadata": {},
   "outputs": [
    {
     "data": {
      "text/plain": [
       "['https://www.amazon.fr/Victoria-112558-WOMEN-Basket-Paillettes-Plateau/dp/B09QCP3B4W/ref=sr_1_1?8rw_html_to_wsrp=1&qid=1648840245&s=shoes&sr=1-1',\n",
       " 'https://www.amazon.fr/Vans-Canvas-Baskets-Femme-Cheetah/dp/B09NY4NG4N/ref=sr_1_2?8rw_html_to_wsrp=1&qid=1648840245&s=shoes&sr=1-2',\n",
       " 'https://www.amazon.fr/Converse-Star-Hike-Recycled-Clair/dp/B09MSN6ZN4/ref=sr_1_3?8rw_html_to_wsrp=1&qid=1648840245&s=shoes&sr=1-3',\n",
       " 'https://www.amazon.fr/Converse-Chuck-Taylors-Stars-Lift/dp/B09T6JPWYZ/ref=sr_1_4?8rw_html_to_wsrp=1&qid=1648840245&s=shoes&sr=1-4',\n",
       " 'https://www.amazon.fr/Bensimon-Elast-Femme-Basket-Curcuma/dp/B09G6WL1DC/ref=sr_1_5?8rw_html_to_wsrp=1&qid=1648840245&s=shoes&sr=1-5',\n",
       " 'https://www.amazon.fr/Puma-Mayze-Womens-White-Trainers-UK/dp/B09KNPYSCH/ref=sr_1_6?8rw_html_to_wsrp=1&qid=1648840245&s=shoes&sr=1-6',\n",
       " 'https://www.amazon.fr/Victoria-106623-WOMEN-Anglaise-%C3%89COLOGIQUE-%C3%89LASTIQUE/dp/B09NYMT5YN/ref=sr_1_7?8rw_html_to_wsrp=1&qid=1648840245&s=shoes&sr=1-7',\n",
       " 'https://www.amazon.fr/PUMA-Rider-Basket-Marshmallow-Lavande/dp/B097CBW836/ref=sr_1_8?8rw_html_to_wsrp=1&qid=1648840245&s=shoes&sr=1-8',\n",
       " 'https://www.amazon.fr/Reebok-Ripple-Basket-Porcelain-Collegiate/dp/B096H8MV92/ref=sr_1_9?8rw_html_to_wsrp=1&qid=1648840245&s=shoes&sr=1-9',\n",
       " 'https://www.amazon.fr/ASICS-Gel-Nimbus-Baskets-Femme-Barely/dp/B09MWJDXMR/ref=sr_1_10?8rw_html_to_wsrp=1&qid=1648840245&s=shoes&sr=1-10',\n",
       " 'https://www.amazon.fr/Bensimon-Lacets-FEM-Basket-Femme/dp/B09G6WL1DH/ref=sr_1_11?8rw_html_to_wsrp=1&qid=1648840245&s=shoes&sr=1-11',\n",
       " 'https://www.amazon.fr/ASICS-Dynablast-Baskets-Femme-Champagne/dp/B095W4YMNH/ref=sr_1_12?8rw_html_to_wsrp=1&qid=1648840245&s=shoes&sr=1-12',\n",
       " 'https://www.amazon.fr/Pataugas-Basket-Basique-Jayo-F2h/dp/B09SP8H72M/ref=sr_1_13?8rw_html_to_wsrp=1&qid=1648840245&s=shoes&sr=1-13',\n",
       " 'https://www.amazon.fr/Trop%C3%A9ziennes-par-M-Belarbi-Mafalda/dp/B09H67HCKD/ref=sr_1_14?8rw_html_to_wsrp=1&qid=1648840245&s=shoes&sr=1-14',\n",
       " 'https://www.amazon.fr/Nike-Blazer-Nature-Sneaker-Orewood/dp/B09RMWLGXJ/ref=sr_1_15?8rw_html_to_wsrp=1&qid=1648840245&s=shoes&sr=1-15',\n",
       " 'https://www.amazon.fr/Victoria-1141131-WOMEN-Multi-MAT%C3%89RIAUX-Paillettes-Plateau/dp/B09R4V1S3M/ref=sr_1_16?8rw_html_to_wsrp=1&qid=1648840245&s=shoes&sr=1-16',\n",
       " 'https://www.amazon.fr/Geox-D-SUKIE-Basket-Sukie/dp/B09RBGFFD6/ref=sr_1_17?8rw_html_to_wsrp=1&qid=1648840245&s=shoes&sr=1-17',\n",
       " 'https://www.amazon.fr/Reebok-Ripple-Basket-Black-White-Silver/dp/B096H1LSBC/ref=sr_1_18?8rw_html_to_wsrp=1&qid=1648840245&s=shoes&sr=1-18',\n",
       " 'https://www.amazon.fr/Rieker-Baskets-basses-lacets-L0314/dp/B09M56LQGX/ref=sr_1_19?8rw_html_to_wsrp=1&qid=1648840245&s=shoes&sr=1-19',\n",
       " 'https://www.amazon.fr/LAURA-VITA-Original-Confortable-ESTAMPADA/dp/B09V4M3N75/ref=sr_1_20?8rw_html_to_wsrp=1&qid=1648840245&s=shoes&sr=1-20',\n",
       " 'https://www.amazon.fr/ASICS-Tiger-Runner-Baskets-Breeze/dp/B09MWJ814J/ref=sr_1_21?8rw_html_to_wsrp=1&qid=1648840245&s=shoes&sr=1-21',\n",
       " 'https://www.amazon.fr/PUMA-Karmen-Basket-Femme-Blanc/dp/B09L5JGVC8/ref=sr_1_22?8rw_html_to_wsrp=1&qid=1648840245&s=shoes&sr=1-22',\n",
       " 'https://www.amazon.fr/Hey-Dude-Wendy-Rise-d%C3%A9contract%C3%A9es/dp/B08TZVFGDT/ref=sr_1_23?8rw_html_to_wsrp=1&qid=1648840245&s=shoes&sr=1-23',\n",
       " 'https://www.amazon.fr/Fila-ELECTROVE-Basket-Violet-Chausson/dp/B096XR5P89/ref=sr_1_24?8rw_html_to_wsrp=1&qid=1648840245&s=shoes&sr=1-24',\n",
       " 'https://www.amazon.fr/Gabor-Baskets-semelle-amovible-Coquillage/dp/B09QMJF7ZS/ref=sr_1_25?8rw_html_to_wsrp=1&qid=1648840245&s=shoes&sr=1-25',\n",
       " 'https://www.amazon.fr/Clarks-Baskets-dentelle-Nalle-femme/dp/B09T6Z9C9N/ref=sr_1_26?8rw_html_to_wsrp=1&qid=1648840245&s=shoes&sr=1-26',\n",
       " 'https://www.amazon.fr/Converse-Chuck-Taylor-Recycle-Matcha/dp/B09QKDYFFX/ref=sr_1_27?8rw_html_to_wsrp=1&qid=1648840245&s=shoes&sr=1-27',\n",
       " 'https://www.amazon.fr/PUMA-Chaussure-Piste-dathltisme-Femme/dp/B08B2JWSWP/ref=sr_1_28?8rw_html_to_wsrp=1&qid=1648840245&s=shoes&sr=1-28',\n",
       " 'https://www.amazon.fr/Gabor-interchangeable-meilleur-ajustement-cacahu%C3%A8te/dp/B09QJ5DWSP/ref=sr_1_29?8rw_html_to_wsrp=1&qid=1648840245&s=shoes&sr=1-29',\n",
       " 'https://www.amazon.fr/Gabor-interchangeable-meilleur-ajustement-cacahu%C3%A8te/dp/B09QJ4XMM4/ref=sr_1_30?8rw_html_to_wsrp=1&qid=1648840245&s=shoes&sr=1-30',\n",
       " 'https://www.amazon.fr/Reebok-Vegan-Basket-Femme-Quartz/dp/B096HJW1N7/ref=sr_1_31?8rw_html_to_wsrp=1&qid=1648840245&s=shoes&sr=1-31',\n",
       " 'https://www.amazon.fr/Crocs-Baskets-Literide-Pacer-multicolore/dp/B097J2JR2H/ref=sr_1_32?8rw_html_to_wsrp=1&qid=1648840245&s=shoes&sr=1-32',\n",
       " 'https://www.amazon.fr/Victoria-1141133-WOMEN-Multicolore-D%C3%89TAILS-IMPRIM%C3%89/dp/B09R4VMR47/ref=sr_1_33?8rw_html_to_wsrp=1&qid=1648840245&s=shoes&sr=1-33',\n",
       " 'https://www.amazon.fr/Geox-ALLENIEE-Basket-Femme-Blanc/dp/B096MVV1JM/ref=sr_1_34?8rw_html_to_wsrp=1&qid=1648840245&s=shoes&sr=1-34',\n",
       " 'https://www.amazon.fr/Victoria-1270110-WOMEN-Bottine-TEINT%C3%89E-Plateforme/dp/B09R4TKCJL/ref=sr_1_35?8rw_html_to_wsrp=1&qid=1648840245&s=shoes&sr=1-35',\n",
       " 'https://www.amazon.fr/Skechers-GO-FIT-Delora-Violet/dp/B09SDN1HNF/ref=sr_1_36?8rw_html_to_wsrp=1&qid=1648840245&s=shoes&sr=1-36',\n",
       " 'https://www.amazon.fr/Liu-Jo-Chaussures-Sneakers-Blanches/dp/B09TGBG6SP/ref=sr_1_37?8rw_html_to_wsrp=1&qid=1648840245&s=shoes&sr=1-37',\n",
       " 'https://www.amazon.fr/Reebok-TECHQUE-Elastic-Basket-Canyon/dp/B096GT2ZY1/ref=sr_1_38?8rw_html_to_wsrp=1&qid=1648840245&s=shoes&sr=1-38',\n",
       " 'https://www.amazon.fr/Crocs-Baskets-Literide-Presque-presque/dp/B09627JSVT/ref=sr_1_39?8rw_html_to_wsrp=1&qid=1648840245&s=shoes&sr=1-39',\n",
       " 'https://www.amazon.fr/Nike-Chaussures-course-Chrom%C3%A9-argent%C3%A9/dp/B0893K9FH8/ref=sr_1_40?8rw_html_to_wsrp=1&qid=1648840245&s=shoes&sr=1-40',\n",
       " 'https://www.amazon.fr/Rieker-N4750-Basket-Femme-wei%C3%9F/dp/B09DG4BCMX/ref=sr_1_41?8rw_html_to_wsrp=1&qid=1648840245&s=shoes&sr=1-41',\n",
       " 'https://www.amazon.fr/ASICS-Nimbus-Basket-Femme-Vert/dp/B09S33THNX/ref=sr_1_42?8rw_html_to_wsrp=1&qid=1648840245&s=shoes&sr=1-42',\n",
       " 'https://www.amazon.fr/New-Balance-WS327SD-Chaussures-d%C3%A9contract%C3%A9es/dp/B09T6TYCVF/ref=sr_1_43?8rw_html_to_wsrp=1&qid=1648840245&s=shoes&sr=1-43',\n",
       " 'https://www.amazon.fr/Dockers-Gerli-42VE201-Basket-allblack/dp/B099ZTSWF5/ref=sr_1_44?8rw_html_to_wsrp=1&qid=1648840245&s=shoes&sr=1-44',\n",
       " 'https://www.amazon.fr/Bensimon-B79-Denim-Basket-Femme/dp/B09G6VFYHP/ref=sr_1_45?8rw_html_to_wsrp=1&qid=1648840245&s=shoes&sr=1-45',\n",
       " 'https://www.amazon.fr/Vans-SK8-HI-Chaussures-Violet-VN0A5JMJARO1/dp/B09MZ292QG/ref=sr_1_46?8rw_html_to_wsrp=1&qid=1648840245&s=shoes&sr=1-46',\n",
       " 'https://www.amazon.fr/Pepe-Jeans-London-Basket-595NAVY/dp/B098FFKVTY/ref=sr_1_47?8rw_html_to_wsrp=1&qid=1648840245&s=shoes&sr=1-47',\n",
       " 'https://www.amazon.fr/New-Balance-Basket-Femme-Am%C3%A9thyste/dp/B093X691BD/ref=sr_1_48?8rw_html_to_wsrp=1&qid=1648840245&s=shoes&sr=1-48']"
      ]
     },
     "execution_count": 19,
     "metadata": {},
     "output_type": "execute_result"
    }
   ],
   "source": [
    "get_url_amazon([urls[0]])"
   ]
  },
  {
   "cell_type": "code",
   "execution_count": null,
   "id": "f7f5485e",
   "metadata": {},
   "outputs": [],
   "source": [
    "from selectorlib import Extractor\n",
    "import requests \n",
    "import json \n",
    "from time import sleep\n",
    "# Create an Extractor by reading from the YAML file\n",
    "e = Extractor.from_yaml_file('search_results.yml')\n",
    "def scrape(url):  \n",
    "headers = {\n",
    "'dnt': '1',\n",
    "'upgrade-insecure-requests': '1',\n",
    "'user-agent': 'Mozilla/5.0 (Macintosh; Intel Mac OS X 10_15_4) AppleWebKit/537.36 (KHTML, like Gecko) Chrome/83.0.4103.61 Safari/537.36',\n",
    "'accept': 'text/html,application/xhtml+xml,application/xml;q=0.9,image/webp,image/apng,*/*;q=0.8,application/signed-exchange;v=b3;q=0.9',\n",
    "'sec-fetch-site': 'same-origin',\n",
    "'sec-fetch-mode': 'navigate',\n",
    "'sec-fetch-user': '?1',\n",
    "'sec-fetch-dest': 'document',\n",
    "'referer': 'https://www.amazon.com/',\n",
    "'accept-language': 'en-GB,en-US;q=0.9,en;q=0.8',\n",
    "}\n",
    "# Download the page using requests\n",
    "print(\"Downloading %s\"%url)\n",
    "r = requests.get(url, headers=headers)\n",
    "# Simple check to check if page was blocked (Usually 503)\n",
    "if r.status_code > 500:\n",
    "if \"To discuss automated access to Amazon data please contact\" in r.text:\n",
    "print(\"Page %s was blocked by Amazon. Please try using better proxies\\n\"%url)\n",
    "else:\n",
    "print(\"Page %s must have been blocked by Amazon as the status code was %d\"%(url,r.status_code))\n",
    "return None\n",
    "# Pass the HTML of the page and create \n",
    "return e.extract(r.text)\n",
    "# product_data = []\n",
    "with open(\"search_results_urls.txt\",'r') as urllist, open('search_results_output.jsonl','w') as outfile:\n",
    "for url in urllist.read().splitlines():\n",
    "data = scrape(url) \n",
    "if data:\n",
    "for product in data['products']:\n",
    "product['search_url'] = url\n",
    "print(\"Saving Product: %s\"%product['title'])\n",
    "json.dump(product,outfile)\n",
    "outfile.write(\"\\n\")\n",
    "# sleep(5)"
   ]
  }
 ],
 "metadata": {
  "kernelspec": {
   "display_name": "Python 3",
   "language": "python",
   "name": "python3"
  },
  "language_info": {
   "codemirror_mode": {
    "name": "ipython",
    "version": 3
   },
   "file_extension": ".py",
   "mimetype": "text/x-python",
   "name": "python",
   "nbconvert_exporter": "python",
   "pygments_lexer": "ipython3",
   "version": "3.8.5"
  }
 },
 "nbformat": 4,
 "nbformat_minor": 5
}
