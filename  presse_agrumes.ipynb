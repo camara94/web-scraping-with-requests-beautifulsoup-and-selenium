{
 "cells": [
  {
   "cell_type": "code",
   "execution_count": 1,
   "id": "d0ed84cc",
   "metadata": {},
   "outputs": [],
   "source": [
    " # Presse Agrumes\n",
    "import requests\n",
    "from random import randint\n",
    "from time import sleep\n",
    "from bs4 import BeautifulSoup\n",
    "import pandas as pd"
   ]
  },
  {
   "cell_type": "code",
   "execution_count": 3,
   "id": "c83eda3f",
   "metadata": {},
   "outputs": [
    {
     "data": {
      "text/plain": [
       "21"
      ]
     },
     "execution_count": 3,
     "metadata": {},
     "output_type": "execute_result"
    }
   ],
   "source": [
    "# Maintenant nous avons un résumé au dessus de la fonction \n",
    "def get_url_presse_agrume_tunisianet():\n",
    "    url_presse_agrumes = []\n",
    "    urls = [\n",
    "        \"https://www.tunisianet.com.tn/533-presse-agrumes-tunisie\"\n",
    "    ]\n",
    "    \n",
    "#     for page in range(2,3):\n",
    "#         url = f\"https://www.tunisianet.com.tn/531-batteur-electrique-tunisie?page={page}\"\n",
    "#         response = requests.get(url)\n",
    "#         page_contents = response.text\n",
    "#         if response.status_code != 200:\n",
    "#             raise Exception('Failed to load page {}'.format(items_url))\n",
    "#         doc = BeautifulSoup(page_contents, \"html.parser\")\n",
    "#         for item in doc.find_all(\"a\", {'class': \"thumbnail product-thumbnail first-img\"}):\n",
    "#             url_centrifugeuses.append(item['href'])\n",
    "   \n",
    "    for page in urls:\n",
    "        url = page\n",
    "        response = requests.get(url)\n",
    "        page_contents = response.text\n",
    "        if response.status_code != 200:\n",
    "            raise Exception('Failed to load page {}'.format(items_url))\n",
    "        doc = BeautifulSoup(page_contents, \"html.parser\")\n",
    "        for item in doc.find_all(\"a\", {'class': \"thumbnail product-thumbnail first-img\"}):\n",
    "            url_presse_agrumes.append(item['href'])\n",
    "        \n",
    "    return url_presse_agrumes\n",
    "url_presse_agrumes = get_url_presse_agrume_tunisianet()\n",
    "len(set(url_presse_agrumes))"
   ]
  },
  {
   "cell_type": "code",
   "execution_count": 4,
   "id": "91dc227c",
   "metadata": {},
   "outputs": [],
   "source": [
    "def get_presse_agrumes(items_url):\n",
    "    images_presse_agrumes = []\n",
    "    # télécharger la page\n",
    "    response = requests.get(items_url)\n",
    "    # vérifier le succès de réponse\n",
    "    if response.status_code != 200:\n",
    "        raise Exception('Failed to load page {}'.format(items_url))\n",
    "    # Parser la réponse à l'aide de beaufifulSoup\n",
    "    doc = BeautifulSoup(response.text, 'html.parser')\n",
    "    for i, img in enumerate(doc.find_all('a', {'class': 'thumb-container'})):\n",
    "        if i>= 1 and len(doc.find_all('a', {'class': 'thumb-container'})) > 1:\n",
    "            images_presse_agrumes.append(img['data-image'])\n",
    "    return images_presse_agrumes"
   ]
  },
  {
   "cell_type": "code",
   "execution_count": 6,
   "id": "a3694622",
   "metadata": {},
   "outputs": [],
   "source": [
    "images_presse_agrumes = []\n",
    "for url in url_presse_agrumes:\n",
    "    for image in get_presse_agrumes(url):\n",
    "        images_presse_agrumes.append(image)"
   ]
  },
  {
   "cell_type": "code",
   "execution_count": 7,
   "id": "5afd88f8",
   "metadata": {},
   "outputs": [
    {
     "data": {
      "text/plain": [
       "81"
      ]
     },
     "execution_count": 7,
     "metadata": {},
     "output_type": "execute_result"
    }
   ],
   "source": [
    "len(images_presse_agrumes)"
   ]
  },
  {
   "cell_type": "code",
   "execution_count": 9,
   "id": "655d6fe0",
   "metadata": {},
   "outputs": [],
   "source": [
    "import random\n",
    "import urllib.request\n",
    "import os\n",
    "\n",
    "def download_presse_agrumes(urls, doc):\n",
    "    \n",
    "    os.makedirs(os.path.join('images', doc))\n",
    "    for i, url in enumerate(urls):\n",
    "        try:\n",
    "            fullname =  \"images/\" + doc + \"/\" + str((i+1))+\".jpg\"\n",
    "            urllib.request.urlretrieve(url,fullname)\n",
    "        except:\n",
    "            pass"
   ]
  },
  {
   "cell_type": "code",
   "execution_count": 10,
   "id": "84986f97",
   "metadata": {},
   "outputs": [],
   "source": [
    "download_presse_agrumes(images_presse_agrumes, 'presse_agrume')"
   ]
  },
  {
   "cell_type": "code",
   "execution_count": null,
   "id": "c234ba2b",
   "metadata": {},
   "outputs": [],
   "source": []
  }
 ],
 "metadata": {
  "kernelspec": {
   "display_name": "Python 3",
   "language": "python",
   "name": "python3"
  },
  "language_info": {
   "codemirror_mode": {
    "name": "ipython",
    "version": 3
   },
   "file_extension": ".py",
   "mimetype": "text/x-python",
   "name": "python",
   "nbconvert_exporter": "python",
   "pygments_lexer": "ipython3",
   "version": "3.8.5"
  }
 },
 "nbformat": 4,
 "nbformat_minor": 5
}
