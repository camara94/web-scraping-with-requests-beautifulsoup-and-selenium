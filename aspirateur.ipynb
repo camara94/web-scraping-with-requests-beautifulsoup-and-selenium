{
 "cells": [
  {
   "cell_type": "code",
   "execution_count": 1,
   "id": "1c0e3a24-3e8f-45fa-a310-7294391cacff",
   "metadata": {},
   "outputs": [],
   "source": [
    "#  hachoir\n",
    "import requests\n",
    "from random import randint\n",
    "from time import sleep\n",
    "from bs4 import BeautifulSoup\n",
    "import pandas as pd"
   ]
  },
  {
   "cell_type": "code",
   "execution_count": 3,
   "id": "59f0b517-fc88-488b-b6a5-634db63d11e9",
   "metadata": {},
   "outputs": [
    {
     "data": {
      "text/plain": [
       "96"
      ]
     },
     "execution_count": 3,
     "metadata": {},
     "output_type": "execute_result"
    }
   ],
   "source": [
    "# Maintenant nous avons un résumé au dessus de la fonction \n",
    "def get_url_aspirateur_tunisianet():\n",
    "    url_aspirateur_detailes = []\n",
    "    urls = [\n",
    "        \"https://www.tunisianet.com.tn/558-aspirateur-tunisie-vapeur\"\n",
    "    ]\n",
    "    \n",
    "    for page in range(2,5):\n",
    "        url = f\"https://www.tunisianet.com.tn/558-aspirateur-tunisie-vapeur?page={page}\"\n",
    "        response = requests.get(url)\n",
    "        page_contents = response.text\n",
    "        if response.status_code != 200:\n",
    "            raise Exception('Failed to load page {}'.format(items_url))\n",
    "        doc = BeautifulSoup(page_contents, \"html.parser\")\n",
    "        for item in doc.find_all(\"a\", {'class': \"thumbnail product-thumbnail first-img\"}):\n",
    "            url_aspirateur_detailes.append(item['href'])\n",
    "   \n",
    "    for page in urls:\n",
    "        url = page\n",
    "        response = requests.get(url)\n",
    "        page_contents = response.text\n",
    "        if response.status_code != 200:\n",
    "            raise Exception('Failed to load page {}'.format(items_url))\n",
    "        doc = BeautifulSoup(page_contents, \"html.parser\")\n",
    "        for item in doc.find_all(\"a\", {'class': \"thumbnail product-thumbnail first-img\"}):\n",
    "            url_aspirateur_detailes.append(item['href'])\n",
    "        \n",
    "    return url_aspirateur_detailes\n",
    "url_aspirateur = get_url_aspirateur_tunisianet()\n",
    "len(set(url_aspirateur))"
   ]
  },
  {
   "cell_type": "code",
   "execution_count": 4,
   "id": "2829761c-f88b-401e-912e-f38c9c026b9e",
   "metadata": {},
   "outputs": [],
   "source": [
    "def get_aspirateur(items_url):\n",
    "    images_aspirateurs = []\n",
    "    # télécharger la page\n",
    "    response = requests.get(items_url)\n",
    "    # vérifier le succès de réponse\n",
    "    if response.status_code != 200:\n",
    "        raise Exception('Failed to load page {}'.format(items_url))\n",
    "    # Parser la réponse à l'aide de beaufifulSoup\n",
    "    doc = BeautifulSoup(response.text, 'html.parser')\n",
    "    for i, img in enumerate(doc.find_all('a', {'class': 'thumb-container'})):\n",
    "        if i>= 1 and len(doc.find_all('a', {'class': 'thumb-container'})) > 1:\n",
    "            images_aspirateurs.append(img['data-image'])\n",
    "    return images_aspirateurs"
   ]
  },
  {
   "cell_type": "code",
   "execution_count": 6,
   "id": "ac0ce22f-0d00-47fd-a098-317ded4357da",
   "metadata": {},
   "outputs": [],
   "source": [
    "images_aspirateurs = []\n",
    "for url in url_aspirateur:\n",
    "    for image in get_aspirateur(url):\n",
    "        images_aspirateurs.append(image)"
   ]
  },
  {
   "cell_type": "code",
   "execution_count": 8,
   "id": "f1aa07ca-4308-4d9b-92d0-f18a101fdcc2",
   "metadata": {},
   "outputs": [
    {
     "data": {
      "text/plain": [
       "335"
      ]
     },
     "execution_count": 8,
     "metadata": {},
     "output_type": "execute_result"
    }
   ],
   "source": [
    "len(images_aspirateurs)"
   ]
  },
  {
   "cell_type": "code",
   "execution_count": 9,
   "id": "7e400e34-bffb-41ee-ac2c-43392579839a",
   "metadata": {},
   "outputs": [],
   "source": [
    "import random\n",
    "import urllib.request\n",
    "import os\n",
    "\n",
    "def download_aspirateurs(urls, doc):\n",
    "    \n",
    "    os.makedirs(os.path.join('images', doc))\n",
    "    for i, url in enumerate(urls):\n",
    "        try:\n",
    "            fullname =  \"images/\" + doc + \"/\" + str((i+1))+\".jpg\"\n",
    "            urllib.request.urlretrieve(url,fullname)\n",
    "        except:\n",
    "            pass"
   ]
  },
  {
   "cell_type": "code",
   "execution_count": 10,
   "id": "22766ee2-751b-4bb5-b5bf-7e99d0dc1f7a",
   "metadata": {},
   "outputs": [],
   "source": [
    "download_aspirateurs(images_aspirateurs, 'aspirateur')"
   ]
  },
  {
   "cell_type": "code",
   "execution_count": null,
   "id": "91517e52-1b30-44d7-9939-d06b1f2925e5",
   "metadata": {},
   "outputs": [],
   "source": []
  }
 ],
 "metadata": {
  "kernelspec": {
   "display_name": "Python 3",
   "language": "python",
   "name": "python3"
  },
  "language_info": {
   "codemirror_mode": {
    "name": "ipython",
    "version": 3
   },
   "file_extension": ".py",
   "mimetype": "text/x-python",
   "name": "python",
   "nbconvert_exporter": "python",
   "pygments_lexer": "ipython3",
   "version": "3.8.5"
  }
 },
 "nbformat": 4,
 "nbformat_minor": 5
}
