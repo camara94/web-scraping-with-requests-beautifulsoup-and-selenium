{
 "cells": [
  {
   "cell_type": "markdown",
   "id": "da05d309-bdab-4307-9285-55592687bd29",
   "metadata": {},
   "source": [
    "## Web scraping sur Jumia\n",
    "## Importation des Packages"
   ]
  },
  {
   "cell_type": "code",
   "execution_count": 1,
   "id": "735192fc-2709-4e44-8546-ba48e31f9f4b",
   "metadata": {},
   "outputs": [],
   "source": [
    "import requests\n",
    "from random import randint\n",
    "from time import sleep\n",
    "from bs4 import BeautifulSoup\n",
    "import pandas as pd"
   ]
  },
  {
   "cell_type": "code",
   "execution_count": 2,
   "id": "549a1118-1de7-4e10-97c9-db8aad2e217a",
   "metadata": {},
   "outputs": [],
   "source": [
    "def get_item_page(items_url):\n",
    "    # télécharger la page\n",
    "    response = requests.get(items_url)\n",
    "    # vérifier le succès de réponse\n",
    "    if response.status_code != 200:\n",
    "        raise Exception('Failed to load page {}'.format(items_url))\n",
    "    # Parser la réponse à l'aide de beaufifulSoup\n",
    "    doc = BeautifulSoup(response.text, 'html.parser')\n",
    "    return doc"
   ]
  },
  {
   "cell_type": "code",
   "execution_count": 4,
   "id": "53a4f0bb-d440-4a4a-adeb-acf0ce4e1cf5",
   "metadata": {},
   "outputs": [],
   "source": [
    "url_jumia = 'https://www.jumia.com.tn/'"
   ]
  },
  {
   "cell_type": "code",
   "execution_count": 23,
   "id": "964436f3-95d5-42c6-9b36-a1fd7c7ae33e",
   "metadata": {},
   "outputs": [],
   "source": [
    "doc = get_item_page(url_jumia)\n",
    "\n",
    "menu = doc.find_all('a', {'role': 'menuitem'})\n",
    "\n",
    "## Ici je récupère les attrs href\n",
    "def get_links(doc):\n",
    "    links = []\n",
    "    for tag in doc.findAll(\"a\",{'role': 'menuitem'}, href=True):\n",
    "        if img := tag.img:\n",
    "            img = img.get(\"src\")\n",
    "        links.append(dict(url=tag.get(\"href\"), text=tag.text, img=img)['url'])\n",
    "    return links"
   ]
  },
  {
   "cell_type": "code",
   "execution_count": 22,
   "id": "2df4e188-8edc-4033-ab55-399bd9c295bc",
   "metadata": {},
   "outputs": [
    {
     "name": "stdout",
     "output_type": "stream",
     "text": [
      "Téléchargement du nombre de page 1\n",
      "Téléchargement du nombre de page 2\n",
      "Téléchargement du nombre de page 3\n",
      "Téléchargement du nombre de page 4\n",
      "Téléchargement du nombre de page 5\n",
      "Téléchargement du nombre de page 6\n",
      "Téléchargement du nombre de page 7\n",
      "Téléchargement du nombre de page 8\n",
      "Téléchargement du nombre de page 9\n"
     ]
    },
    {
     "data": {
      "text/plain": [
       "72"
      ]
     },
     "execution_count": 22,
     "metadata": {},
     "output_type": "execute_result"
    }
   ],
   "source": [
    "# Maintenant nous avons un résumé au dessus de la fonction \n",
    "def get_item_list_categories():\n",
    "    item_list_tags = []\n",
    "    for link in links:\n",
    "        items_url = f\"https://www.jumia.com.tn/maison-cuisine-jardin{page}\"\n",
    "        response = requests.get(items_url)\n",
    "        page_contents = response.text\n",
    "        if response.status_code != 200:\n",
    "            raise Exception('Failed to load page {}'.format(items_url))\n",
    "        doc = BeautifulSoup(page_contents, \"html.parser\")\n",
    "        for item in doc.find_all(\"div\", {'class': \"organic-gallery-offer-outter J-offer-wrapper\"}):\n",
    "                item_list_tags.append(item)\n",
    "        sleep(randint(2,10))\n",
    "        print('Téléchargement du nombre de page', page)  \n",
    "    return item_list_tags\n",
    "item_list_tags = get_item_list_categories()\n",
    "len (item_list_tags)"
   ]
  },
  {
   "cell_type": "code",
   "execution_count": null,
   "id": "f52c4f5b-bb73-4f86-b6c5-2c07568cbdda",
   "metadata": {},
   "outputs": [],
   "source": []
  }
 ],
 "metadata": {
  "kernelspec": {
   "display_name": "Python 3",
   "language": "python",
   "name": "python3"
  },
  "language_info": {
   "codemirror_mode": {
    "name": "ipython",
    "version": 3
   },
   "file_extension": ".py",
   "mimetype": "text/x-python",
   "name": "python",
   "nbconvert_exporter": "python",
   "pygments_lexer": "ipython3",
   "version": "3.8.5"
  }
 },
 "nbformat": 4,
 "nbformat_minor": 5
}
