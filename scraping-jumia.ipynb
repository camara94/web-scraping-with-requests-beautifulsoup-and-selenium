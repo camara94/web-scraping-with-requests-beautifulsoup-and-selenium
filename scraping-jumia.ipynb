{
 "cells": [
  {
   "cell_type": "markdown",
   "id": "da05d309-bdab-4307-9285-55592687bd29",
   "metadata": {},
   "source": [
    "## Web scraping sur Jumia\n",
    "## Importation des Packages"
   ]
  },
  {
   "cell_type": "code",
   "execution_count": null,
   "id": "735192fc-2709-4e44-8546-ba48e31f9f4b",
   "metadata": {},
   "outputs": [],
   "source": [
    "import requests\n",
    "from random import randint\n",
    "from time import sleep\n",
    "from bs4 import BeautifulSoup\n",
    "import pandas as pd"
   ]
  }
 ],
 "metadata": {
  "kernelspec": {
   "display_name": "Python 3",
   "language": "python",
   "name": "python3"
  },
  "language_info": {
   "codemirror_mode": {
    "name": "ipython",
    "version": 3
   },
   "file_extension": ".py",
   "mimetype": "text/x-python",
   "name": "python",
   "nbconvert_exporter": "python",
   "pygments_lexer": "ipython3",
   "version": "3.8.5"
  }
 },
 "nbformat": 4,
 "nbformat_minor": 5
}
