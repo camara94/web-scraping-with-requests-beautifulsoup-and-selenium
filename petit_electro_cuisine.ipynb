{
 "cells": [
  {
   "cell_type": "code",
   "execution_count": 1,
   "id": "10125023",
   "metadata": {},
   "outputs": [],
   "source": [
    "# petit_electro_cuisine\n",
    "import requests\n",
    "from random import randint\n",
    "from time import sleep\n",
    "from bs4 import BeautifulSoup\n",
    "import pandas as pd"
   ]
  },
  {
   "cell_type": "code",
   "execution_count": 3,
   "id": "b8a8e4b2",
   "metadata": {},
   "outputs": [
    {
     "data": {
      "text/plain": [
       "508"
      ]
     },
     "execution_count": 3,
     "metadata": {},
     "output_type": "execute_result"
    }
   ],
   "source": [
    "# Maintenant nous avons un résumé au dessus de la fonction \n",
    "def get_url_petit_electro_cuisine_tunisianet():\n",
    "    url_petit_electro_cuisine_details = []\n",
    "    urls = [\n",
    "        \"https://www.tunisianet.com.tn/522-petit-electromenager-tunisie-cuisine\"\n",
    "    ]\n",
    "    \n",
    "    for page in range(2,23):\n",
    "        url = f\"https://www.tunisianet.com.tn/522-petit-electromenager-tunisie-cuisine?page={page}\"\n",
    "        response = requests.get(url)\n",
    "        page_contents = response.text\n",
    "        if response.status_code != 200:\n",
    "            raise Exception('Failed to load page {}'.format(items_url))\n",
    "        doc = BeautifulSoup(page_contents, \"html.parser\")\n",
    "        for item in doc.find_all(\"a\", {'class': \"thumbnail product-thumbnail first-img\"}):\n",
    "            url_petit_electro_cuisine_details.append(item['href'])\n",
    "   \n",
    "    for page in urls:\n",
    "        url = page\n",
    "        response = requests.get(url)\n",
    "        page_contents = response.text\n",
    "        if response.status_code != 200:\n",
    "            raise Exception('Failed to load page {}'.format(items_url))\n",
    "        doc = BeautifulSoup(page_contents, \"html.parser\")\n",
    "        for item in doc.find_all(\"a\", {'class': \"thumbnail product-thumbnail first-img\"}):\n",
    "            url_petit_electro_cuisine_details.append(item['href'])\n",
    "        \n",
    "    return url_petit_electro_cuisine_details\n",
    "url_petit_electro_cuisine = get_url_petit_electro_cuisine_tunisianet()\n",
    "len(url_petit_electro_cuisine)"
   ]
  },
  {
   "cell_type": "code",
   "execution_count": 4,
   "id": "31cf980a",
   "metadata": {},
   "outputs": [],
   "source": [
    "def get_petit_electro_cuisine(items_url):\n",
    "    images_petit_electro_cuisines = []\n",
    "    # télécharger la page\n",
    "    response = requests.get(items_url)\n",
    "    # vérifier le succès de réponse\n",
    "    if response.status_code != 200:\n",
    "        raise Exception('Failed to load page {}'.format(items_url))\n",
    "    # Parser la réponse à l'aide de beaufifulSoup\n",
    "    doc = BeautifulSoup(response.text, 'html.parser')\n",
    "    for i, img in enumerate(doc.find_all('a', {'class': 'thumb-container'})):\n",
    "        if i>= 1 and len(doc.find_all('a', {'class': 'thumb-container'})) > 1:\n",
    "            images_petit_electro_cuisines.append(img['data-image'])\n",
    "    return images_petit_electro_cuisines"
   ]
  },
  {
   "cell_type": "code",
   "execution_count": 5,
   "id": "0a6fc87d",
   "metadata": {},
   "outputs": [],
   "source": [
    "images_petit_electro_cuisines = []\n",
    "for url in url_petit_electro_cuisine:\n",
    "    for image in get_petit_electro_cuisine(url):\n",
    "        images_petit_electro_cuisines.append(image)"
   ]
  },
  {
   "cell_type": "code",
   "execution_count": 6,
   "id": "03dc4993",
   "metadata": {},
   "outputs": [
    {
     "data": {
      "text/plain": [
       "1345"
      ]
     },
     "execution_count": 6,
     "metadata": {},
     "output_type": "execute_result"
    }
   ],
   "source": [
    "len(images_petit_electro_cuisines)"
   ]
  },
  {
   "cell_type": "code",
   "execution_count": 11,
   "id": "36e5d07f",
   "metadata": {},
   "outputs": [],
   "source": [
    "import random\n",
    "import urllib.request\n",
    "import os\n",
    "\n",
    "def download_petit_electro_cuisine(urls, doc):\n",
    "    \n",
    "    os.makedirs(os.path.join('images', doc))\n",
    "    for i, url in enumerate(urls):\n",
    "        try:\n",
    "            fullname =  \"images/\" + doc + \"/\" + str((i+1))+\".jpg\"\n",
    "            urllib.request.urlretrieve(url,fullname)\n",
    "        except:\n",
    "            pass"
   ]
  },
  {
   "cell_type": "code",
   "execution_count": 14,
   "id": "ce88f55d",
   "metadata": {},
   "outputs": [],
   "source": [
    "download_petit_electro_cuisine(images_petit_electro_cuisines, 'petit_electro_cuisine')"
   ]
  },
  {
   "cell_type": "code",
   "execution_count": null,
   "id": "d8646f96",
   "metadata": {},
   "outputs": [],
   "source": []
  }
 ],
 "metadata": {
  "kernelspec": {
   "display_name": "Python 3",
   "language": "python",
   "name": "python3"
  },
  "language_info": {
   "codemirror_mode": {
    "name": "ipython",
    "version": 3
   },
   "file_extension": ".py",
   "mimetype": "text/x-python",
   "name": "python",
   "nbconvert_exporter": "python",
   "pygments_lexer": "ipython3",
   "version": "3.8.5"
  }
 },
 "nbformat": 4,
 "nbformat_minor": 5
}
