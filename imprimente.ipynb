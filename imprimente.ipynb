{
 "cells": [
  {
   "cell_type": "code",
   "execution_count": 1,
   "id": "cac0a9db",
   "metadata": {},
   "outputs": [],
   "source": [
    "import requests\n",
    "from random import randint\n",
    "from time import sleep\n",
    "from bs4 import BeautifulSoup\n",
    "import pandas as pd"
   ]
  },
  {
   "cell_type": "code",
   "execution_count": 4,
   "id": "095476ee",
   "metadata": {},
   "outputs": [
    {
     "data": {
      "text/plain": [
       "222"
      ]
     },
     "execution_count": 4,
     "metadata": {},
     "output_type": "execute_result"
    }
   ],
   "source": [
    "# Maintenant nous avons un résumé au dessus de la fonction \n",
    "def get_url_imprimente_tunisianet():\n",
    "    url_imprimente_details = []\n",
    "    urls = [\n",
    "        \"https://www.tunisianet.com.tn/316-imprimante-en-tunisie\",\n",
    "        \"https://www.tunisianet.com.tn/455-imprimante-a-reservoir-integre\",\n",
    "        \"https://www.tunisianet.com.tn/318-imprimante-et-multifonction-laser\",\n",
    "        \"https://www.tunisianet.com.tn/436-imprimante-professionnelle\",\n",
    "        \"https://www.tunisianet.com.tn/324-appareil-fax-telephone-tunisie\",\n",
    "        \"https://www.tunisianet.com.tn/326-scanner-informatique\",\n",
    "        \"https://www.tunisianet.com.tn/444-photocopieur-tunisie\",\n",
    "        \"https://www.tunisianet.com.tn/445-photocopieurs-a4-tunisie\",\n",
    "        \"https://www.tunisianet.com.tn/447-accessoires-photocopieurs\"\n",
    "    ]\n",
    "    \n",
    "    for page in range(2,5):\n",
    "        url = f\"https://www.tunisianet.com.tn/316-imprimante-en-tunisie?page={page}\"\n",
    "        response = requests.get(url)\n",
    "        page_contents = response.text\n",
    "        if response.status_code != 200:\n",
    "            raise Exception('Failed to load page {}'.format(items_url))\n",
    "        doc = BeautifulSoup(page_contents, \"html.parser\")\n",
    "        for item in doc.find_all(\"a\", {'class': \"thumbnail product-thumbnail first-img\"}):\n",
    "            url_imprimente_details.append(item['href'])\n",
    "   \n",
    "    for page in urls:\n",
    "        url = page\n",
    "        response = requests.get(url)\n",
    "        page_contents = response.text\n",
    "        if response.status_code != 200:\n",
    "            raise Exception('Failed to load page {}'.format(items_url))\n",
    "        doc = BeautifulSoup(page_contents, \"html.parser\")\n",
    "        for item in doc.find_all(\"a\", {'class': \"thumbnail product-thumbnail first-img\"}):\n",
    "            url_imprimente_details.append(item['href'])\n",
    "        \n",
    "    return url_imprimente_details\n",
    "url_imprimente = get_url_imprimente_tunisianet()\n",
    "len(url_imprimente)"
   ]
  },
  {
   "cell_type": "code",
   "execution_count": 5,
   "id": "61c8c982",
   "metadata": {},
   "outputs": [],
   "source": [
    "def get_imprimente(items_url):\n",
    "    images_imprimentes = []\n",
    "    # télécharger la page\n",
    "    response = requests.get(items_url)\n",
    "    # vérifier le succès de réponse\n",
    "    if response.status_code != 200:\n",
    "        raise Exception('Failed to load page {}'.format(items_url))\n",
    "    # Parser la réponse à l'aide de beaufifulSoup\n",
    "    doc = BeautifulSoup(response.text, 'html.parser')\n",
    "    for i, img in enumerate(doc.find_all('a', {'class': 'thumb-container'})):\n",
    "        if i>= 1 and len(doc.find_all('a', {'class': 'thumb-container'})) > 1:\n",
    "            images_imprimentes.append(img['data-image'])\n",
    "    return images_imprimentes"
   ]
  },
  {
   "cell_type": "code",
   "execution_count": 9,
   "id": "c5f578d3",
   "metadata": {},
   "outputs": [],
   "source": [
    "image_imprimentes = []\n",
    "for url in url_imprimente:\n",
    "    for image in get_imprimente(url):\n",
    "        image_imprimentes.append(image)"
   ]
  },
  {
   "cell_type": "code",
   "execution_count": 10,
   "id": "20381150",
   "metadata": {},
   "outputs": [],
   "source": [
    "import random\n",
    "import urllib.request\n",
    "import os\n",
    "\n",
    "def download_montre(urls, doc):\n",
    "    \n",
    "    os.makedirs(os.path.join('images', doc))\n",
    "    for i, url in enumerate(urls):\n",
    "        try:\n",
    "            fullname =  \"images/\" + doc + \"/\" + str((i+1))+\".jpg\"\n",
    "            urllib.request.urlretrieve(url,fullname)\n",
    "        except:\n",
    "            pass"
   ]
  },
  {
   "cell_type": "code",
   "execution_count": 11,
   "id": "8d692216",
   "metadata": {},
   "outputs": [
    {
     "data": {
      "text/plain": [
       "616"
      ]
     },
     "execution_count": 11,
     "metadata": {},
     "output_type": "execute_result"
    }
   ],
   "source": [
    "len(image_imprimentes)"
   ]
  },
  {
   "cell_type": "code",
   "execution_count": 12,
   "id": "3cf052e3",
   "metadata": {},
   "outputs": [],
   "source": [
    "download_montre(image_imprimentes, 'imprimente')"
   ]
  },
  {
   "cell_type": "code",
   "execution_count": null,
   "id": "13f19651",
   "metadata": {},
   "outputs": [],
   "source": []
  }
 ],
 "metadata": {
  "kernelspec": {
   "display_name": "Python 3",
   "language": "python",
   "name": "python3"
  },
  "language_info": {
   "codemirror_mode": {
    "name": "ipython",
    "version": 3
   },
   "file_extension": ".py",
   "mimetype": "text/x-python",
   "name": "python",
   "nbconvert_exporter": "python",
   "pygments_lexer": "ipython3",
   "version": "3.8.5"
  }
 },
 "nbformat": 4,
 "nbformat_minor": 5
}
