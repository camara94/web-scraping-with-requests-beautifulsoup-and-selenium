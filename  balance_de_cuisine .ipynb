{
 "cells": [
  {
   "cell_type": "code",
   "execution_count": 1,
   "id": "83006243",
   "metadata": {},
   "outputs": [],
   "source": [
    "# balance_de_cuisine \n",
    "import requests\n",
    "from random import randint\n",
    "from time import sleep\n",
    "from bs4 import BeautifulSoup\n",
    "import pandas as pd"
   ]
  },
  {
   "cell_type": "code",
   "execution_count": 3,
   "id": "3f2d2550",
   "metadata": {},
   "outputs": [
    {
     "data": {
      "text/plain": [
       "8"
      ]
     },
     "execution_count": 3,
     "metadata": {},
     "output_type": "execute_result"
    }
   ],
   "source": [
    "# Maintenant nous avons un résumé au dessus de la fonction \n",
    "def get_url_balance_de_cuisine_tunisianet():\n",
    "    url_balance_de_cuisines = []\n",
    "    urls = [\n",
    "        \"https://www.tunisianet.com.tn/568-balance-de-cuisine-tunisie\"\n",
    "    ]\n",
    "    \n",
    "#     for page in range(2,5):\n",
    "#         url = f\"https://www.tunisianet.com.tn/564-four-electrique-tunisie-micro-onde?page={page}\"\n",
    "#         response = requests.get(url)\n",
    "#         page_contents = response.text\n",
    "#         if response.status_code != 200:\n",
    "#             raise Exception('Failed to load page {}'.format(items_url))\n",
    "#         doc = BeautifulSoup(page_contents, \"html.parser\")\n",
    "#         for item in doc.find_all(\"a\", {'class': \"thumbnail product-thumbnail first-img\"}):\n",
    "#             url_balance_de_cuisines.append(item['href'])\n",
    "   \n",
    "    for page in urls:\n",
    "        url = page\n",
    "        response = requests.get(url)\n",
    "        page_contents = response.text\n",
    "        if response.status_code != 200:\n",
    "            raise Exception('Failed to load page {}'.format(items_url))\n",
    "        doc = BeautifulSoup(page_contents, \"html.parser\")\n",
    "        for item in doc.find_all(\"a\", {'class': \"thumbnail product-thumbnail first-img\"}):\n",
    "            url_balance_de_cuisines.append(item['href'])\n",
    "        \n",
    "    return url_balance_de_cuisines\n",
    "url_balance_de_cuisine = get_url_balance_de_cuisine_tunisianet()\n",
    "len(url_balance_de_cuisine)"
   ]
  },
  {
   "cell_type": "code",
   "execution_count": 4,
   "id": "6606ecae",
   "metadata": {},
   "outputs": [],
   "source": [
    "def get_balance_de_cuisine(items_url):\n",
    "    images_balance_de_cuisines = []\n",
    "    # télécharger la page\n",
    "    response = requests.get(items_url)\n",
    "    # vérifier le succès de réponse\n",
    "    if response.status_code != 200:\n",
    "        raise Exception('Failed to load page {}'.format(items_url))\n",
    "    # Parser la réponse à l'aide de beaufifulSoup\n",
    "    doc = BeautifulSoup(response.text, 'html.parser')\n",
    "    for i, img in enumerate(doc.find_all('a', {'class': 'thumb-container'})):\n",
    "        if i>= 1 and len(doc.find_all('a', {'class': 'thumb-container'})) > 1:\n",
    "            images_balance_de_cuisines.append(img['data-image'])\n",
    "    return images_balance_de_cuisines"
   ]
  },
  {
   "cell_type": "code",
   "execution_count": 6,
   "id": "db051420",
   "metadata": {},
   "outputs": [],
   "source": [
    "images_balance_de_cuisines = []\n",
    "for url in url_balance_de_cuisine:\n",
    "    for image in get_balance_de_cuisine(url):\n",
    "        images_balance_de_cuisines.append(image)"
   ]
  },
  {
   "cell_type": "code",
   "execution_count": 9,
   "id": "dfe592bb",
   "metadata": {},
   "outputs": [
    {
     "data": {
      "text/plain": [
       "20"
      ]
     },
     "execution_count": 9,
     "metadata": {},
     "output_type": "execute_result"
    }
   ],
   "source": [
    "len(images_balance_de_cuisines)"
   ]
  },
  {
   "cell_type": "code",
   "execution_count": 10,
   "id": "23ccad5d",
   "metadata": {},
   "outputs": [],
   "source": [
    "import random\n",
    "import urllib.request\n",
    "import os\n",
    "\n",
    "def download_balance_de_cuisines(urls, doc):\n",
    "    \n",
    "    os.makedirs(os.path.join('images', doc))\n",
    "    for i, url in enumerate(urls):\n",
    "        try:\n",
    "            fullname =  \"images/\" + doc + \"/\" + str((i+1))+\".jpg\"\n",
    "            urllib.request.urlretrieve(url,fullname)\n",
    "        except:\n",
    "            pass"
   ]
  },
  {
   "cell_type": "code",
   "execution_count": 11,
   "id": "54c7d955",
   "metadata": {},
   "outputs": [],
   "source": [
    "download_balance_de_cuisines(images_balance_de_cuisines, 'balance_de_cuisine')"
   ]
  },
  {
   "cell_type": "code",
   "execution_count": null,
   "id": "f08f17b6",
   "metadata": {},
   "outputs": [],
   "source": []
  }
 ],
 "metadata": {
  "kernelspec": {
   "display_name": "Python 3",
   "language": "python",
   "name": "python3"
  },
  "language_info": {
   "codemirror_mode": {
    "name": "ipython",
    "version": 3
   },
   "file_extension": ".py",
   "mimetype": "text/x-python",
   "name": "python",
   "nbconvert_exporter": "python",
   "pygments_lexer": "ipython3",
   "version": "3.8.5"
  }
 },
 "nbformat": 4,
 "nbformat_minor": 5
}
