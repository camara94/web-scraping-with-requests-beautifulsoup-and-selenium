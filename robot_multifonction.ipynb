{
 "cells": [
  {
   "cell_type": "code",
   "execution_count": 1,
   "id": "56fb7e7f",
   "metadata": {},
   "outputs": [],
   "source": [
    "# robot_multifonction\n",
    "import requests\n",
    "from random import randint\n",
    "from time import sleep\n",
    "from bs4 import BeautifulSoup\n",
    "import pandas as pd"
   ]
  },
  {
   "cell_type": "code",
   "execution_count": 2,
   "id": "dec65cf6",
   "metadata": {},
   "outputs": [
    {
     "data": {
      "text/plain": [
       "49"
      ]
     },
     "execution_count": 2,
     "metadata": {},
     "output_type": "execute_result"
    }
   ],
   "source": [
    "# Maintenant nous avons un résumé au dessus de la fonction \n",
    "def get_url_robot_multifonction_tunisianet():\n",
    "    url_robot_multifonctions = []\n",
    "    urls = [\n",
    "        \"https://www.tunisianet.com.tn/534-robot-multifonction-tunisie\"\n",
    "    ]\n",
    "    \n",
    "    for page in range(2,4):\n",
    "        url = f\"https://www.tunisianet.com.tn/534-robot-multifonction-tunisie?page={page}\"\n",
    "        response = requests.get(url)\n",
    "        page_contents = response.text\n",
    "        if response.status_code != 200:\n",
    "            raise Exception('Failed to load page {}'.format(items_url))\n",
    "        doc = BeautifulSoup(page_contents, \"html.parser\")\n",
    "        for item in doc.find_all(\"a\", {'class': \"thumbnail product-thumbnail first-img\"}):\n",
    "            url_robot_multifonctions.append(item['href'])\n",
    "   \n",
    "    for page in urls:\n",
    "        url = page\n",
    "        response = requests.get(url)\n",
    "        page_contents = response.text\n",
    "        if response.status_code != 200:\n",
    "            raise Exception('Failed to load page {}'.format(items_url))\n",
    "        doc = BeautifulSoup(page_contents, \"html.parser\")\n",
    "        for item in doc.find_all(\"a\", {'class': \"thumbnail product-thumbnail first-img\"}):\n",
    "            url_robot_multifonctions.append(item['href'])\n",
    "        \n",
    "    return url_robot_multifonctions\n",
    "url_robot_multifonctions = get_url_robot_multifonction_tunisianet()\n",
    "len(set(url_robot_multifonctions))"
   ]
  },
  {
   "cell_type": "code",
   "execution_count": 3,
   "id": "d6b1c135",
   "metadata": {},
   "outputs": [],
   "source": [
    "def get_robot_multifonctions(items_url):\n",
    "    images_robot_multifonctions = []\n",
    "    # télécharger la page\n",
    "    response = requests.get(items_url)\n",
    "    # vérifier le succès de réponse\n",
    "    if response.status_code != 200:\n",
    "        raise Exception('Failed to load page {}'.format(items_url))\n",
    "    # Parser la réponse à l'aide de beaufifulSoup\n",
    "    doc = BeautifulSoup(response.text, 'html.parser')\n",
    "    for i, img in enumerate(doc.find_all('a', {'class': 'thumb-container'})):\n",
    "        if i>= 1 and len(doc.find_all('a', {'class': 'thumb-container'})) > 1:\n",
    "            images_robot_multifonctions.append(img['data-image'])\n",
    "    return images_robot_multifonctions"
   ]
  },
  {
   "cell_type": "code",
   "execution_count": 4,
   "id": "d0bb23a6",
   "metadata": {},
   "outputs": [],
   "source": [
    "images_robot_multifonctions = []\n",
    "for url in url_robot_multifonctions:\n",
    "    for image in get_robot_multifonctions(url):\n",
    "        images_robot_multifonctions.append(image)"
   ]
  },
  {
   "cell_type": "code",
   "execution_count": 5,
   "id": "0542d2be",
   "metadata": {},
   "outputs": [
    {
     "data": {
      "text/plain": [
       "169"
      ]
     },
     "execution_count": 5,
     "metadata": {},
     "output_type": "execute_result"
    }
   ],
   "source": [
    "len(images_robot_multifonctions)"
   ]
  },
  {
   "cell_type": "code",
   "execution_count": 6,
   "id": "b079f446",
   "metadata": {},
   "outputs": [],
   "source": [
    "import random\n",
    "import urllib.request\n",
    "import os\n",
    "\n",
    "def download_robot_multifonctions(urls, doc):\n",
    "    \n",
    "    os.makedirs(os.path.join('images', doc))\n",
    "    for i, url in enumerate(urls):\n",
    "        try:\n",
    "            fullname =  \"images/\" + doc + \"/\" + str((i+1))+\".jpg\"\n",
    "            urllib.request.urlretrieve(url,fullname)\n",
    "        except:\n",
    "            pass"
   ]
  },
  {
   "cell_type": "code",
   "execution_count": 7,
   "id": "c4e5c680",
   "metadata": {},
   "outputs": [],
   "source": [
    "download_robot_multifonctions(images_robot_multifonctions, 'robot_multifonction')"
   ]
  },
  {
   "cell_type": "code",
   "execution_count": null,
   "id": "71665aa4",
   "metadata": {},
   "outputs": [],
   "source": []
  },
  {
   "cell_type": "code",
   "execution_count": null,
   "id": "70c1149b",
   "metadata": {},
   "outputs": [],
   "source": []
  }
 ],
 "metadata": {
  "kernelspec": {
   "display_name": "Python 3",
   "language": "python",
   "name": "python3"
  },
  "language_info": {
   "codemirror_mode": {
    "name": "ipython",
    "version": 3
   },
   "file_extension": ".py",
   "mimetype": "text/x-python",
   "name": "python",
   "nbconvert_exporter": "python",
   "pygments_lexer": "ipython3",
   "version": "3.8.5"
  }
 },
 "nbformat": 4,
 "nbformat_minor": 5
}
