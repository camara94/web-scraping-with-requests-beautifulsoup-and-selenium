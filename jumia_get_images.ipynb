{
 "cells": [
  {
   "cell_type": "code",
   "execution_count": 1,
   "id": "aedc03c5",
   "metadata": {},
   "outputs": [],
   "source": [
    "import requests\n",
    "from random import randint\n",
    "from time import sleep\n",
    "from bs4 import BeautifulSoup\n",
    "import pandas as pd"
   ]
  },
  {
   "cell_type": "code",
   "execution_count": 2,
   "id": "efbf29b2",
   "metadata": {},
   "outputs": [],
   "source": [
    "# Maintenant nous avons un résumé au dessus de la fonction \n",
    "def get_url_article_alibaba(urls, url, nbr_page):\n",
    "    url_camera_surveillance_details = []\n",
    "    \n",
    "    for page in range(2,nbr_page):\n",
    "        url = f\"{url}={page}#catalog-listing\"\n",
    "        response = requests.get(url)\n",
    "        page_contents = response.text\n",
    "        if response.status_code != 200:\n",
    "            raise Exception('Failed to load page {}'.format(url))\n",
    "        doc = BeautifulSoup(page_contents, \"html.parser\")\n",
    "        for item in doc.find_all(\"a\", {'class': \"core\"}):\n",
    "            try:\n",
    "                url_camera_surveillance_details.append(f\"https://www.jumia.com.tn{item['href']}\")\n",
    "            except:\n",
    "                pass\n",
    "\n",
    "            \n",
    "    for page in urls:\n",
    "        url = page\n",
    "        response = requests.get(url)\n",
    "        page_contents = response.text\n",
    "        if response.status_code != 200:\n",
    "            raise Exception('Failed to load page {}'.format(items_url))\n",
    "        doc = BeautifulSoup(page_contents, \"html.parser\")\n",
    "        for item in doc.find_all(\"a\", {'class': \"core\"}):\n",
    "            try:\n",
    "                url_camera_surveillance_details.append(f\"https://www.jumia.com.tn//{item['href']}\")\n",
    "            except:\n",
    "                pass\n",
    "        \n",
    "    return url_camera_surveillance_details"
   ]
  },
  {
   "cell_type": "code",
   "execution_count": 3,
   "id": "4f5bb7e6",
   "metadata": {},
   "outputs": [
    {
     "data": {
      "text/plain": [
       "80"
      ]
     },
     "execution_count": 3,
     "metadata": {},
     "output_type": "execute_result"
    }
   ],
   "source": [
    "urls = [\n",
    "        \"https://www.jumia.com.tn/catalog/?q=camera+surveillance\"\n",
    "    ]\n",
    "url_camera = get_url_article_jumia(urls,\"https://www.jumia.com.tn/catalog/?q=camera+surveillance&page\", 3)\n",
    "len(url_camera)"
   ]
  },
  {
   "cell_type": "code",
   "execution_count": 6,
   "id": "ad267a71",
   "metadata": {},
   "outputs": [],
   "source": [
    "def get_url_article_details(items_url):\n",
    "    images_lave_vaisselles = []\n",
    "    # télécharger la page\n",
    "    response = requests.get(items_url)\n",
    "    # vérifier le succès de réponse\n",
    "    if response.status_code != 200:\n",
    "        raise Exception('Failed to load page {}'.format(items_url))\n",
    "    # Parser la réponse à l'aide de beaufifulSoup\n",
    "    doc = BeautifulSoup(response.text, 'html.parser')\n",
    "    for i, img in enumerate(doc.find_all('img', {'class': '-fw _ni'})):\n",
    "        images_lave_vaisselles.append(img['data-src'])\n",
    "    return images_lave_vaisselles"
   ]
  },
  {
   "cell_type": "code",
   "execution_count": 11,
   "id": "32aeee3c",
   "metadata": {},
   "outputs": [],
   "source": [
    "url = \"https://www.jumia.com.tn/star-max-camera-surveillance-wifi-suivie-mouvement-automatique-10x-zoom-24h24h-couleur-autotracking-colorvu-469801.html\""
   ]
  },
  {
   "cell_type": "code",
   "execution_count": 12,
   "id": "65e7d490",
   "metadata": {},
   "outputs": [
    {
     "data": {
      "text/plain": [
       "['https://tn.jumia.is/unsafe/fit-in/150x150/filters:fill(white)/product/10/8964/1.jpg?2468',\n",
       " 'https://tn.jumia.is/unsafe/fit-in/150x150/filters:fill(white)/product/10/8964/2.jpg?2468',\n",
       " 'https://tn.jumia.is/unsafe/fit-in/150x150/filters:fill(white)/product/10/8964/3.jpg?2468',\n",
       " 'https://tn.jumia.is/unsafe/fit-in/150x150/filters:fill(white)/product/10/8964/4.jpg?2468',\n",
       " 'https://tn.jumia.is/unsafe/fit-in/150x150/filters:fill(white)/product/10/8964/5.jpg?2468',\n",
       " 'https://tn.jumia.is/unsafe/fit-in/150x150/filters:fill(white)/product/10/8964/6.jpg?2468',\n",
       " 'https://tn.jumia.is/unsafe/fit-in/150x150/filters:fill(white)/product/10/8964/7.jpg?2468']"
      ]
     },
     "execution_count": 12,
     "metadata": {},
     "output_type": "execute_result"
    }
   ],
   "source": [
    "get_url_article_details()"
   ]
  },
  {
   "cell_type": "code",
   "execution_count": 13,
   "id": "2740ab8e",
   "metadata": {},
   "outputs": [],
   "source": [
    "def get_images_article_urls(urls, url, nbr_page):\n",
    "    url_articles = get_url_article_jumia(urls, url, nbr_page)\n",
    "    image_articles = []\n",
    "    for url in url_articles:\n",
    "        for image in get_url_article_details(url):\n",
    "            image_articles.append(image)\n",
    "    return image_articles"
   ]
  },
  {
   "cell_type": "code",
   "execution_count": 14,
   "id": "f18bb4d9",
   "metadata": {},
   "outputs": [
    {
     "data": {
      "text/plain": [
       "['https://tn.jumia.is/unsafe/fit-in/150x150/filters:fill(white)/product/73/1515/1.jpg?8129',\n",
       " 'https://tn.jumia.is/unsafe/fit-in/150x150/filters:fill(white)/product/73/1515/2.jpg?8129',\n",
       " 'https://tn.jumia.is/unsafe/fit-in/150x150/filters:fill(white)/product/73/1515/3.jpg?8129',\n",
       " 'https://tn.jumia.is/unsafe/fit-in/150x150/filters:fill(white)/product/17/9055/1.jpg?8529',\n",
       " 'https://tn.jumia.is/unsafe/fit-in/150x150/filters:fill(white)/product/17/9055/2.jpg?8529',\n",
       " 'https://tn.jumia.is/unsafe/fit-in/150x150/filters:fill(white)/product/17/9055/3.jpg?8529',\n",
       " 'https://tn.jumia.is/unsafe/fit-in/150x150/filters:fill(white)/product/85/2512/1.jpg?1103',\n",
       " 'https://tn.jumia.is/unsafe/fit-in/150x150/filters:fill(white)/product/85/2512/2.jpg?1103',\n",
       " 'https://tn.jumia.is/unsafe/fit-in/150x150/filters:fill(white)/product/76/5184/1.jpg?8967',\n",
       " 'https://tn.jumia.is/unsafe/fit-in/150x150/filters:fill(white)/product/76/5184/2.jpg?8967',\n",
       " 'https://tn.jumia.is/unsafe/fit-in/150x150/filters:fill(white)/product/76/5184/3.jpg?8967',\n",
       " 'https://tn.jumia.is/unsafe/fit-in/150x150/filters:fill(white)/product/76/5184/4.jpg?8967',\n",
       " 'https://tn.jumia.is/unsafe/fit-in/150x150/filters:fill(white)/product/76/5184/5.jpg?8967',\n",
       " 'https://tn.jumia.is/unsafe/fit-in/150x150/filters:fill(white)/product/43/1074/1.jpg?0506',\n",
       " 'https://tn.jumia.is/unsafe/fit-in/150x150/filters:fill(white)/product/43/1074/2.jpg?0506',\n",
       " 'https://tn.jumia.is/unsafe/fit-in/150x150/filters:fill(white)/product/91/5964/1.jpg?3807',\n",
       " 'https://tn.jumia.is/unsafe/fit-in/150x150/filters:fill(white)/product/91/5964/2.jpg?3807',\n",
       " 'https://tn.jumia.is/unsafe/fit-in/150x150/filters:fill(white)/product/43/4753/1.jpg?0623',\n",
       " 'https://tn.jumia.is/unsafe/fit-in/150x150/filters:fill(white)/product/43/4753/2.jpg?0623',\n",
       " 'https://tn.jumia.is/unsafe/fit-in/150x150/filters:fill(white)/product/43/4753/3.jpg?0623',\n",
       " 'https://tn.jumia.is/unsafe/fit-in/150x150/filters:fill(white)/product/43/4753/4.jpg?0623',\n",
       " 'https://tn.jumia.is/unsafe/fit-in/150x150/filters:fill(white)/product/43/4753/5.jpg?0624',\n",
       " 'https://tn.jumia.is/unsafe/fit-in/150x150/filters:fill(white)/product/06/2263/1.jpg?8185',\n",
       " 'https://tn.jumia.is/unsafe/fit-in/150x150/filters:fill(white)/product/06/2263/2.jpg?8185',\n",
       " 'https://tn.jumia.is/unsafe/fit-in/150x150/filters:fill(white)/product/06/2263/3.jpg?8185',\n",
       " 'https://tn.jumia.is/unsafe/fit-in/150x150/filters:fill(white)/product/06/2263/4.jpg?8185',\n",
       " 'https://tn.jumia.is/unsafe/fit-in/150x150/filters:fill(white)/product/06/2263/5.jpg?8185',\n",
       " 'https://tn.jumia.is/unsafe/fit-in/150x150/filters:fill(white)/product/34/9264/1.jpg?6007',\n",
       " 'https://tn.jumia.is/unsafe/fit-in/150x150/filters:fill(white)/product/34/9264/2.jpg?6007',\n",
       " 'https://tn.jumia.is/unsafe/fit-in/150x150/filters:fill(white)/product/96/5553/1.jpg?2829',\n",
       " 'https://tn.jumia.is/unsafe/fit-in/150x150/filters:fill(white)/product/96/5553/2.jpg?2829',\n",
       " 'https://tn.jumia.is/unsafe/fit-in/150x150/filters:fill(white)/product/96/5553/3.jpg?2829',\n",
       " 'https://tn.jumia.is/unsafe/fit-in/150x150/filters:fill(white)/product/96/5553/4.jpg?2829',\n",
       " 'https://tn.jumia.is/unsafe/fit-in/150x150/filters:fill(white)/product/96/5553/5.jpg?2829',\n",
       " 'https://tn.jumia.is/unsafe/fit-in/150x150/filters:fill(white)/product/16/2263/1.jpg?8183',\n",
       " 'https://tn.jumia.is/unsafe/fit-in/150x150/filters:fill(white)/product/16/2263/2.jpg?8183',\n",
       " 'https://tn.jumia.is/unsafe/fit-in/150x150/filters:fill(white)/product/16/2263/3.jpg?8183',\n",
       " 'https://tn.jumia.is/unsafe/fit-in/150x150/filters:fill(white)/product/16/2263/4.jpg?8183',\n",
       " 'https://tn.jumia.is/unsafe/fit-in/150x150/filters:fill(white)/product/16/2263/5.jpg?8183',\n",
       " 'https://tn.jumia.is/unsafe/fit-in/150x150/filters:fill(white)/product/16/2263/6.jpg?8183',\n",
       " 'https://tn.jumia.is/unsafe/fit-in/150x150/filters:fill(white)/product/25/451/1.jpg?2200',\n",
       " 'https://tn.jumia.is/unsafe/fit-in/150x150/filters:fill(white)/product/25/451/2.jpg?2200',\n",
       " 'https://tn.jumia.is/unsafe/fit-in/150x150/filters:fill(white)/product/25/451/3.jpg?2200',\n",
       " 'https://tn.jumia.is/unsafe/fit-in/150x150/filters:fill(white)/product/55/0563/1.jpg?2787',\n",
       " 'https://tn.jumia.is/unsafe/fit-in/150x150/filters:fill(white)/product/55/0563/2.jpg?2787',\n",
       " 'https://tn.jumia.is/unsafe/fit-in/150x150/filters:fill(white)/product/55/0563/3.jpg?2787',\n",
       " 'https://tn.jumia.is/unsafe/fit-in/150x150/filters:fill(white)/product/55/0563/4.jpg?2787',\n",
       " 'https://tn.jumia.is/unsafe/fit-in/150x150/filters:fill(white)/product/69/2754/1.jpg?6607',\n",
       " 'https://tn.jumia.is/unsafe/fit-in/150x150/filters:fill(white)/product/69/2754/2.jpg?6607',\n",
       " 'https://tn.jumia.is/unsafe/fit-in/150x150/filters:fill(white)/product/98/2584/1.jpg?5410',\n",
       " 'https://tn.jumia.is/unsafe/fit-in/150x150/filters:fill(white)/product/98/2584/2.jpg?2505',\n",
       " 'https://tn.jumia.is/unsafe/fit-in/150x150/filters:fill(white)/product/98/2584/3.jpg?2505',\n",
       " 'https://tn.jumia.is/unsafe/fit-in/150x150/filters:fill(white)/product/96/5184/1.jpg?8967',\n",
       " 'https://tn.jumia.is/unsafe/fit-in/150x150/filters:fill(white)/product/96/5184/2.jpg?8967',\n",
       " 'https://tn.jumia.is/unsafe/fit-in/150x150/filters:fill(white)/product/96/5184/3.jpg?8967',\n",
       " 'https://tn.jumia.is/unsafe/fit-in/150x150/filters:fill(white)/product/01/0794/1.jpg?1865',\n",
       " 'https://tn.jumia.is/unsafe/fit-in/150x150/filters:fill(white)/product/01/0794/2.jpg?1865',\n",
       " 'https://tn.jumia.is/unsafe/fit-in/150x150/filters:fill(white)/product/01/0794/3.jpg?1865',\n",
       " 'https://tn.jumia.is/unsafe/fit-in/150x150/filters:fill(white)/product/01/0794/4.jpg?1865',\n",
       " 'https://tn.jumia.is/unsafe/fit-in/150x150/filters:fill(white)/product/01/0794/5.jpg?1865',\n",
       " 'https://tn.jumia.is/unsafe/fit-in/150x150/filters:fill(white)/product/71/4611/1.jpg?2624',\n",
       " 'https://tn.jumia.is/unsafe/fit-in/150x150/filters:fill(white)/product/71/4611/1.jpg?2561',\n",
       " 'https://tn.jumia.is/unsafe/fit-in/150x150/filters:fill(white)/product/26/5594/1.jpg?0266',\n",
       " 'https://tn.jumia.is/unsafe/fit-in/150x150/filters:fill(white)/product/26/5594/2.jpg?0266',\n",
       " 'https://tn.jumia.is/unsafe/fit-in/150x150/filters:fill(white)/product/26/5594/3.jpg?0266',\n",
       " 'https://tn.jumia.is/unsafe/fit-in/150x150/filters:fill(white)/product/70/1515/1.jpg?6626',\n",
       " 'https://tn.jumia.is/unsafe/fit-in/150x150/filters:fill(white)/product/70/1515/2.jpg?6626',\n",
       " 'https://tn.jumia.is/unsafe/fit-in/150x150/filters:fill(white)/product/70/1515/3.jpg?6626',\n",
       " 'https://tn.jumia.is/unsafe/fit-in/150x150/filters:fill(white)/product/16/5594/1.jpg?0445',\n",
       " 'https://tn.jumia.is/unsafe/fit-in/150x150/filters:fill(white)/product/16/5594/2.jpg?0445',\n",
       " 'https://tn.jumia.is/unsafe/fit-in/150x150/filters:fill(white)/product/16/5594/3.jpg?0445',\n",
       " 'https://tn.jumia.is/unsafe/fit-in/150x150/filters:fill(white)/product/27/9464/1.jpg?2130',\n",
       " 'https://tn.jumia.is/unsafe/fit-in/150x150/filters:fill(white)/product/27/9464/2.jpg?2130',\n",
       " 'https://tn.jumia.is/unsafe/fit-in/150x150/filters:fill(white)/product/27/9464/3.jpg?2130',\n",
       " 'https://tn.jumia.is/unsafe/fit-in/150x150/filters:fill(white)/product/27/9464/4.jpg?2130',\n",
       " 'https://tn.jumia.is/unsafe/fit-in/150x150/filters:fill(white)/product/76/8504/1.jpg?5578',\n",
       " 'https://tn.jumia.is/unsafe/fit-in/150x150/filters:fill(white)/product/76/8504/2.jpg?5578',\n",
       " 'https://tn.jumia.is/unsafe/fit-in/150x150/filters:fill(white)/product/76/8504/3.jpg?5578',\n",
       " 'https://tn.jumia.is/unsafe/fit-in/150x150/filters:fill(white)/product/97/2424/1.jpg?5587',\n",
       " 'https://tn.jumia.is/unsafe/fit-in/150x150/filters:fill(white)/product/97/2424/2.jpg?5587',\n",
       " 'https://tn.jumia.is/unsafe/fit-in/150x150/filters:fill(white)/product/20/4274/1.jpg?5298',\n",
       " 'https://tn.jumia.is/unsafe/fit-in/150x150/filters:fill(white)/product/20/4274/2.jpg?5298',\n",
       " 'https://tn.jumia.is/unsafe/fit-in/150x150/filters:fill(white)/product/69/029/1.jpg?9564',\n",
       " 'https://tn.jumia.is/unsafe/fit-in/150x150/filters:fill(white)/product/69/029/2.jpg?9564',\n",
       " 'https://tn.jumia.is/unsafe/fit-in/150x150/filters:fill(white)/product/69/029/3.jpg?9564',\n",
       " 'https://tn.jumia.is/unsafe/fit-in/150x150/filters:fill(white)/product/81/4611/1.jpg?2685',\n",
       " 'https://tn.jumia.is/unsafe/fit-in/150x150/filters:fill(white)/product/81/4611/1.jpg?2625',\n",
       " 'https://tn.jumia.is/unsafe/fit-in/150x150/filters:fill(white)/product/13/7694/1.jpg?8385',\n",
       " 'https://tn.jumia.is/unsafe/fit-in/150x150/filters:fill(white)/product/13/7694/2.jpg?8385',\n",
       " 'https://tn.jumia.is/unsafe/fit-in/150x150/filters:fill(white)/product/13/7694/3.jpg?8385',\n",
       " 'https://tn.jumia.is/unsafe/fit-in/150x150/filters:fill(white)/product/63/1515/1.jpg?8310',\n",
       " 'https://tn.jumia.is/unsafe/fit-in/150x150/filters:fill(white)/product/63/1515/2.jpg?8310',\n",
       " 'https://tn.jumia.is/unsafe/fit-in/150x150/filters:fill(white)/product/63/1515/3.jpg?8310',\n",
       " 'https://tn.jumia.is/unsafe/fit-in/150x150/filters:fill(white)/product/00/0274/1.jpg?9905',\n",
       " 'https://tn.jumia.is/unsafe/fit-in/150x150/filters:fill(white)/product/00/0274/2.jpg?9905',\n",
       " 'https://tn.jumia.is/unsafe/fit-in/150x150/filters:fill(white)/product/00/0274/3.jpg?9905',\n",
       " 'https://tn.jumia.is/unsafe/fit-in/150x150/filters:fill(white)/product/00/0274/4.jpg?9905',\n",
       " 'https://tn.jumia.is/unsafe/fit-in/150x150/filters:fill(white)/product/00/0274/5.jpg?9905',\n",
       " 'https://tn.jumia.is/unsafe/fit-in/150x150/filters:fill(white)/product/00/0274/6.jpg?9905',\n",
       " 'https://tn.jumia.is/unsafe/fit-in/150x150/filters:fill(white)/product/00/0274/7.jpg?9905',\n",
       " 'https://tn.jumia.is/unsafe/fit-in/150x150/filters:fill(white)/product/69/4581/1.jpg?7246',\n",
       " 'https://tn.jumia.is/unsafe/fit-in/150x150/filters:fill(white)/product/69/4581/2.jpg?7246',\n",
       " 'https://tn.jumia.is/unsafe/fit-in/150x150/filters:fill(white)/product/69/4581/3.jpg?7246',\n",
       " 'https://tn.jumia.is/unsafe/fit-in/150x150/filters:fill(white)/product/69/4581/4.jpg?7246',\n",
       " 'https://tn.jumia.is/unsafe/fit-in/150x150/filters:fill(white)/product/69/4581/5.jpg?7246',\n",
       " 'https://tn.jumia.is/unsafe/fit-in/150x150/filters:fill(white)/product/81/2545/1.jpg?6627',\n",
       " 'https://tn.jumia.is/unsafe/fit-in/150x150/filters:fill(white)/product/81/2545/2.jpg?6627',\n",
       " 'https://tn.jumia.is/unsafe/fit-in/150x150/filters:fill(white)/product/81/2545/3.jpg?6627',\n",
       " 'https://tn.jumia.is/unsafe/fit-in/150x150/filters:fill(white)/product/81/2545/4.jpg?6627',\n",
       " 'https://tn.jumia.is/unsafe/fit-in/150x150/filters:fill(white)/product/81/2545/5.jpg?6627']"
      ]
     },
     "execution_count": 14,
     "metadata": {},
     "output_type": "execute_result"
    }
   ],
   "source": [
    "get_images_article_urls(urls, \"https://www.jumia.com.tn/catalog/?q=camera+surveillance&page\", 3)"
   ]
  },
  {
   "cell_type": "code",
   "execution_count": 15,
   "id": "ef4d4198",
   "metadata": {},
   "outputs": [],
   "source": [
    "import random\n",
    "import urllib.request\n",
    "import os\n",
    "\n",
    "def download_article_jumia(urls, doc):\n",
    "    \n",
    "    os.makedirs(os.path.join('images', doc))\n",
    "    for i, url in enumerate(urls):\n",
    "        try:\n",
    "            fullname =  \"images/\" + doc + \"/\" + str((i+1))+\".jpg\"\n",
    "            urllib.request.urlretrieve(url,fullname)\n",
    "        except:\n",
    "            pass"
   ]
  },
  {
   "cell_type": "code",
   "execution_count": 20,
   "id": "fca4f31b",
   "metadata": {},
   "outputs": [],
   "source": [
    "download_article_jumia(['https://tn.jumia.is/unsafe/fit-in/150x150/filters:fill(white)/product/76/5184/1.jpg?896'], 'mawa')"
   ]
  },
  {
   "cell_type": "code",
   "execution_count": 116,
   "id": "a8c128e8",
   "metadata": {},
   "outputs": [],
   "source": [
    "def save_images(urls, url, nbr_page, doc):\n",
    "    images = get_images_article_urls(urls, url, nbr_page)\n",
    "    download_article_jumia(images, doc)"
   ]
  },
  {
   "cell_type": "code",
   "execution_count": 117,
   "id": "6333db9a",
   "metadata": {},
   "outputs": [
    {
     "ename": "FileExistsError",
     "evalue": "[WinError 183] Impossible de créer un fichier déjà existant: 'images\\\\camera_de_surveillance'",
     "output_type": "error",
     "traceback": [
      "\u001b[1;31m----------------------------------------------------------\u001b[0m",
      "\u001b[1;31mFileExistsError\u001b[0m          Traceback (most recent call last)",
      "\u001b[1;32m<ipython-input-117-b30a2105fa59>\u001b[0m in \u001b[0;36m<module>\u001b[1;34m\u001b[0m\n\u001b[1;32m----> 1\u001b[1;33m \u001b[0msave_images\u001b[0m\u001b[1;33m(\u001b[0m\u001b[0murls\u001b[0m\u001b[1;33m,\u001b[0m \u001b[1;34m\"https://www.jumia.com.tn/catalog/?q=camera+surveillance&page\"\u001b[0m\u001b[1;33m,\u001b[0m \u001b[1;36m13\u001b[0m\u001b[1;33m,\u001b[0m \u001b[1;34m\"camera_de_surveillance\"\u001b[0m\u001b[1;33m)\u001b[0m\u001b[1;33m\u001b[0m\u001b[1;33m\u001b[0m\u001b[0m\n\u001b[0m",
      "\u001b[1;32m<ipython-input-116-28d25c78e4ca>\u001b[0m in \u001b[0;36msave_images\u001b[1;34m(urls, url, nbr_page, doc)\u001b[0m\n\u001b[0;32m      1\u001b[0m \u001b[1;32mdef\u001b[0m \u001b[0msave_images\u001b[0m\u001b[1;33m(\u001b[0m\u001b[0murls\u001b[0m\u001b[1;33m,\u001b[0m \u001b[0murl\u001b[0m\u001b[1;33m,\u001b[0m \u001b[0mnbr_page\u001b[0m\u001b[1;33m,\u001b[0m \u001b[0mdoc\u001b[0m\u001b[1;33m)\u001b[0m\u001b[1;33m:\u001b[0m\u001b[1;33m\u001b[0m\u001b[1;33m\u001b[0m\u001b[0m\n\u001b[0;32m      2\u001b[0m     \u001b[0mimages\u001b[0m \u001b[1;33m=\u001b[0m \u001b[0mget_images_article_urls\u001b[0m\u001b[1;33m(\u001b[0m\u001b[0murls\u001b[0m\u001b[1;33m,\u001b[0m \u001b[0murl\u001b[0m\u001b[1;33m,\u001b[0m \u001b[0mnbr_page\u001b[0m\u001b[1;33m)\u001b[0m\u001b[1;33m\u001b[0m\u001b[1;33m\u001b[0m\u001b[0m\n\u001b[1;32m----> 3\u001b[1;33m     \u001b[0mdownload_article_jumia\u001b[0m\u001b[1;33m(\u001b[0m\u001b[0mimages\u001b[0m\u001b[1;33m,\u001b[0m \u001b[0mdoc\u001b[0m\u001b[1;33m)\u001b[0m\u001b[1;33m\u001b[0m\u001b[1;33m\u001b[0m\u001b[0m\n\u001b[0m",
      "\u001b[1;32m<ipython-input-115-afce3ee8a763>\u001b[0m in \u001b[0;36mdownload_article_jumia\u001b[1;34m(urls, doc)\u001b[0m\n\u001b[0;32m      5\u001b[0m \u001b[1;32mdef\u001b[0m \u001b[0mdownload_article_jumia\u001b[0m\u001b[1;33m(\u001b[0m\u001b[0murls\u001b[0m\u001b[1;33m,\u001b[0m \u001b[0mdoc\u001b[0m\u001b[1;33m)\u001b[0m\u001b[1;33m:\u001b[0m\u001b[1;33m\u001b[0m\u001b[1;33m\u001b[0m\u001b[0m\n\u001b[0;32m      6\u001b[0m \u001b[1;33m\u001b[0m\u001b[0m\n\u001b[1;32m----> 7\u001b[1;33m     \u001b[0mos\u001b[0m\u001b[1;33m.\u001b[0m\u001b[0mmakedirs\u001b[0m\u001b[1;33m(\u001b[0m\u001b[0mos\u001b[0m\u001b[1;33m.\u001b[0m\u001b[0mpath\u001b[0m\u001b[1;33m.\u001b[0m\u001b[0mjoin\u001b[0m\u001b[1;33m(\u001b[0m\u001b[1;34m'images'\u001b[0m\u001b[1;33m,\u001b[0m \u001b[0mdoc\u001b[0m\u001b[1;33m)\u001b[0m\u001b[1;33m)\u001b[0m\u001b[1;33m\u001b[0m\u001b[1;33m\u001b[0m\u001b[0m\n\u001b[0m\u001b[0;32m      8\u001b[0m     \u001b[1;32mfor\u001b[0m \u001b[0mi\u001b[0m\u001b[1;33m,\u001b[0m \u001b[0murl\u001b[0m \u001b[1;32min\u001b[0m \u001b[0menumerate\u001b[0m\u001b[1;33m(\u001b[0m\u001b[0murls\u001b[0m\u001b[1;33m)\u001b[0m\u001b[1;33m:\u001b[0m\u001b[1;33m\u001b[0m\u001b[1;33m\u001b[0m\u001b[0m\n\u001b[0;32m      9\u001b[0m         \u001b[1;32mtry\u001b[0m\u001b[1;33m:\u001b[0m\u001b[1;33m\u001b[0m\u001b[1;33m\u001b[0m\u001b[0m\n",
      "\u001b[1;32mC:\\ProgramData\\Anaconda3\\lib\\os.py\u001b[0m in \u001b[0;36mmakedirs\u001b[1;34m(name, mode, exist_ok)\u001b[0m\n\u001b[0;32m    221\u001b[0m             \u001b[1;32mreturn\u001b[0m\u001b[1;33m\u001b[0m\u001b[1;33m\u001b[0m\u001b[0m\n\u001b[0;32m    222\u001b[0m     \u001b[1;32mtry\u001b[0m\u001b[1;33m:\u001b[0m\u001b[1;33m\u001b[0m\u001b[1;33m\u001b[0m\u001b[0m\n\u001b[1;32m--> 223\u001b[1;33m         \u001b[0mmkdir\u001b[0m\u001b[1;33m(\u001b[0m\u001b[0mname\u001b[0m\u001b[1;33m,\u001b[0m \u001b[0mmode\u001b[0m\u001b[1;33m)\u001b[0m\u001b[1;33m\u001b[0m\u001b[1;33m\u001b[0m\u001b[0m\n\u001b[0m\u001b[0;32m    224\u001b[0m     \u001b[1;32mexcept\u001b[0m \u001b[0mOSError\u001b[0m\u001b[1;33m:\u001b[0m\u001b[1;33m\u001b[0m\u001b[1;33m\u001b[0m\u001b[0m\n\u001b[0;32m    225\u001b[0m         \u001b[1;31m# Cannot rely on checking for EEXIST, since the operating system\u001b[0m\u001b[1;33m\u001b[0m\u001b[1;33m\u001b[0m\u001b[1;33m\u001b[0m\u001b[0m\n",
      "\u001b[1;31mFileExistsError\u001b[0m: [WinError 183] Impossible de créer un fichier déjà existant: 'images\\\\camera_de_surveillance'"
     ]
    }
   ],
   "source": [
    "save_images(urls, \"https://www.jumia.com.tn/catalog/?q=camera+surveillance&page\", 13, \"camera_de_surveillance\")"
   ]
  },
  {
   "cell_type": "code",
   "execution_count": null,
   "id": "c4ecea02",
   "metadata": {},
   "outputs": [],
   "source": [
    "get_images_article_urls(urls, \"https://www.jumia.com.tn/catalog/?q=camera+surveillance&page\", 2)"
   ]
  },
  {
   "cell_type": "code",
   "execution_count": null,
   "id": "b97752ea",
   "metadata": {},
   "outputs": [],
   "source": [
    "images = get_images_article_urls(urls, \"https://www.jumia.com.tn/catalog/?q=camera+surveillance&page\", 13)"
   ]
  },
  {
   "cell_type": "code",
   "execution_count": null,
   "id": "6f984681",
   "metadata": {},
   "outputs": [],
   "source": [
    "download_article_jumia(images, \"camera_de_surveillance\")"
   ]
  },
  {
   "cell_type": "code",
   "execution_count": null,
   "id": "c39c2abf",
   "metadata": {},
   "outputs": [],
   "source": [
    "os.makedirs(os.path.join('images', \"laby\"))\n",
    "for i, url in enumerate(['https://tn.jumia.is/unsafe/fit-in/150x150/filters:fill(white)/product/81/2545/5.jpg?6627']):\n",
    "    try:\n",
    "        fullname =  \"images/laby/\" + str((i+1))+\".jpg\"\n",
    "        urllib.request.urlretrieve(url,fullname)\n",
    "    except:\n",
    "        pass"
   ]
  },
  {
   "cell_type": "code",
   "execution_count": null,
   "id": "ec1324b4",
   "metadata": {},
   "outputs": [],
   "source": [
    "import random\n",
    "import urllib.request\n",
    "import os\n",
    "\n",
    "def download_lave_vaisselle(urls, doc):\n",
    "    \n",
    "    os.makedirs(os.path.join('images', doc))\n",
    "    for i, url in enumerate(urls):\n",
    "        try:\n",
    "            fullname =  \"images/\" + doc + \"/\" + str((i+1))+\".jpg\"\n",
    "            urllib.request.urlretrieve(url,fullname)\n",
    "        except:\n",
    "            pass"
   ]
  },
  {
   "cell_type": "code",
   "execution_count": null,
   "id": "a6482f4d",
   "metadata": {},
   "outputs": [],
   "source": [
    "download_lave_vaisselle('https://tn.jumia.is/unsafe/fit-in/150x150/filters:fill(white)/product/81/2545/5.jpg', \"camera\")"
   ]
  },
  {
   "cell_type": "code",
   "execution_count": 106,
   "id": "7270dfe4",
   "metadata": {},
   "outputs": [
    {
     "data": {
      "text/plain": [
       "'https://tn.jumia.is/unsafe/fit-in/150x150/filters:fill(white)/product/73/1515/1.jpg?8129'"
      ]
     },
     "execution_count": 106,
     "metadata": {},
     "output_type": "execute_result"
    }
   ],
   "source": [
    "images[0]"
   ]
  }
 ],
 "metadata": {
  "kernelspec": {
   "display_name": "Python 3",
   "language": "python",
   "name": "python3"
  },
  "language_info": {
   "codemirror_mode": {
    "name": "ipython",
    "version": 3
   },
   "file_extension": ".py",
   "mimetype": "text/x-python",
   "name": "python",
   "nbconvert_exporter": "python",
   "pygments_lexer": "ipython3",
   "version": "3.8.5"
  }
 },
 "nbformat": 4,
 "nbformat_minor": 5
}
