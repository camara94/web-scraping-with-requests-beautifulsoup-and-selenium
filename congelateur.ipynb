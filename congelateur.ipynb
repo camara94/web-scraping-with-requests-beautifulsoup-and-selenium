{
 "cells": [
  {
   "cell_type": "code",
   "execution_count": 1,
   "id": "340695c1",
   "metadata": {},
   "outputs": [],
   "source": [
    "import requests\n",
    "from random import randint\n",
    "from time import sleep\n",
    "from bs4 import BeautifulSoup\n",
    "import pandas as pd"
   ]
  },
  {
   "cell_type": "code",
   "execution_count": 2,
   "id": "cb3146b6",
   "metadata": {},
   "outputs": [
    {
     "data": {
      "text/plain": [
       "16"
      ]
     },
     "execution_count": 2,
     "metadata": {},
     "output_type": "execute_result"
    }
   ],
   "source": [
    "# Maintenant nous avons un résumé au dessus de la fonction \n",
    "def get_url_congelateur_tunisianet():\n",
    "    url_congelateur_details = []\n",
    "    urls = [\n",
    "        \"https://www.tunisianet.com.tn/526-congelateur-tunisie\"\n",
    "    ]\n",
    "    \n",
    "#     for page in range(2,8):\n",
    "#         url = f\"https://www.tunisianet.com.tn/525-refrigerateur-tunisie?page={page}\"\n",
    "#         response = requests.get(url)\n",
    "#         page_contents = response.text\n",
    "#         if response.status_code != 200:\n",
    "#             raise Exception('Failed to load page {}'.format(items_url))\n",
    "#         doc = BeautifulSoup(page_contents, \"html.parser\")\n",
    "#         for item in doc.find_all(\"a\", {'class': \"thumbnail product-thumbnail first-img\"}):\n",
    "#             url_congelateur_details.append(item['href'])\n",
    "   \n",
    "    for page in urls:\n",
    "        url = page\n",
    "        response = requests.get(url)\n",
    "        page_contents = response.text\n",
    "        if response.status_code != 200:\n",
    "            raise Exception('Failed to load page {}'.format(items_url))\n",
    "        doc = BeautifulSoup(page_contents, \"html.parser\")\n",
    "        for item in doc.find_all(\"a\", {'class': \"thumbnail product-thumbnail first-img\"}):\n",
    "            url_congelateur_details.append(item['href'])\n",
    "        \n",
    "    return url_congelateur_details\n",
    "url_congelateur = get_url_congelateur_tunisianet()\n",
    "len(url_congelateur)"
   ]
  },
  {
   "cell_type": "code",
   "execution_count": 3,
   "id": "a2d1b612",
   "metadata": {},
   "outputs": [],
   "source": [
    "def get_congelateur(items_url):\n",
    "    images_congelateurs = []\n",
    "    # télécharger la page\n",
    "    response = requests.get(items_url)\n",
    "    # vérifier le succès de réponse\n",
    "    if response.status_code != 200:\n",
    "        raise Exception('Failed to load page {}'.format(items_url))\n",
    "    # Parser la réponse à l'aide de beaufifulSoup\n",
    "    doc = BeautifulSoup(response.text, 'html.parser')\n",
    "    for i, img in enumerate(doc.find_all('a', {'class': 'thumb-container'})):\n",
    "        if i>= 1 and len(doc.find_all('a', {'class': 'thumb-container'})) > 1:\n",
    "            images_congelateurs.append(img['data-image'])\n",
    "    return images_congelateurs"
   ]
  },
  {
   "cell_type": "code",
   "execution_count": 5,
   "id": "1b752552",
   "metadata": {},
   "outputs": [],
   "source": [
    "image_congelateurs = []\n",
    "for url in url_congelateur:\n",
    "    for image in get_congelateur(url):\n",
    "        image_congelateurs.append(image)"
   ]
  },
  {
   "cell_type": "code",
   "execution_count": 6,
   "id": "752d8cef",
   "metadata": {},
   "outputs": [
    {
     "data": {
      "text/plain": [
       "12"
      ]
     },
     "execution_count": 6,
     "metadata": {},
     "output_type": "execute_result"
    }
   ],
   "source": [
    "len(image_congelateurs)"
   ]
  },
  {
   "cell_type": "code",
   "execution_count": 10,
   "id": "09e1732e",
   "metadata": {},
   "outputs": [],
   "source": [
    "import random\n",
    "import urllib.request\n",
    "import os\n",
    "\n",
    "def download_congelateur(urls, doc):\n",
    "    \n",
    "    os.makedirs(os.path.join('images', doc))\n",
    "    for i, url in enumerate(urls):\n",
    "        try:\n",
    "            fullname =  \"images/\" + doc + \"/\" + str((i+1))+\".jpg\"\n",
    "            urllib.request.urlretrieve(url,fullname)\n",
    "        except:\n",
    "            pass"
   ]
  },
  {
   "cell_type": "code",
   "execution_count": 11,
   "id": "28c21de2",
   "metadata": {},
   "outputs": [],
   "source": [
    "download_congelateur(image_congelateurs, 'congelateur')"
   ]
  },
  {
   "cell_type": "code",
   "execution_count": null,
   "id": "f1a3af11",
   "metadata": {},
   "outputs": [],
   "source": []
  }
 ],
 "metadata": {
  "kernelspec": {
   "display_name": "Python 3",
   "language": "python",
   "name": "python3"
  },
  "language_info": {
   "codemirror_mode": {
    "name": "ipython",
    "version": 3
   },
   "file_extension": ".py",
   "mimetype": "text/x-python",
   "name": "python",
   "nbconvert_exporter": "python",
   "pygments_lexer": "ipython3",
   "version": "3.8.5"
  }
 },
 "nbformat": 4,
 "nbformat_minor": 5
}
