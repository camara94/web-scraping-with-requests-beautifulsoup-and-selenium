{
 "cells": [
  {
   "cell_type": "code",
   "execution_count": 1,
   "id": "8c2eacd8",
   "metadata": {},
   "outputs": [],
   "source": [
    "import requests\n",
    "from random import randint\n",
    "from time import sleep\n",
    "from bs4 import BeautifulSoup\n",
    "import pandas as pd"
   ]
  },
  {
   "cell_type": "code",
   "execution_count": 42,
   "id": "cef002f2",
   "metadata": {},
   "outputs": [
    {
     "data": {
      "text/plain": [
       "156"
      ]
     },
     "execution_count": 42,
     "metadata": {},
     "output_type": "execute_result"
    }
   ],
   "source": [
    "# Maintenant nous avons un résumé au dessus de la fonction \n",
    "def get_url_refrigerateur_tunisianet():\n",
    "    url_refrigerateur_details = []\n",
    "    urls = [\n",
    "        \"https://www.tunisianet.com.tn/525-refrigerateur-tunisie\"\n",
    "    ]\n",
    "    \n",
    "    for page in range(2,8):\n",
    "        url = f\"https://www.tunisianet.com.tn/525-refrigerateur-tunisie?page={page}\"\n",
    "        response = requests.get(url)\n",
    "        page_contents = response.text\n",
    "        if response.status_code != 200:\n",
    "            raise Exception('Failed to load page {}'.format(items_url))\n",
    "        doc = BeautifulSoup(page_contents, \"html.parser\")\n",
    "        for item in doc.find_all(\"a\", {'class': \"thumbnail product-thumbnail first-img\"}):\n",
    "            url_refrigerateur_details.append(item['href'])\n",
    "   \n",
    "    for page in urls:\n",
    "        url = page\n",
    "        response = requests.get(url)\n",
    "        page_contents = response.text\n",
    "        if response.status_code != 200:\n",
    "            raise Exception('Failed to load page {}'.format(items_url))\n",
    "        doc = BeautifulSoup(page_contents, \"html.parser\")\n",
    "        for item in doc.find_all(\"a\", {'class': \"thumbnail product-thumbnail first-img\"}):\n",
    "            url_refrigerateur_details.append(item['href'])\n",
    "        \n",
    "    return url_refrigerateur_details\n",
    "url_refrigerateur = get_url_refrigerateur_tunisianet()\n",
    "len(url_refrigerateur)"
   ]
  },
  {
   "cell_type": "code",
   "execution_count": 43,
   "id": "f5bc278b",
   "metadata": {},
   "outputs": [],
   "source": [
    "def get_refrigerateur(items_url):\n",
    "    images_refrigerateurs = []\n",
    "    # télécharger la page\n",
    "    response = requests.get(items_url)\n",
    "    # vérifier le succès de réponse\n",
    "    if response.status_code != 200:\n",
    "        raise Exception('Failed to load page {}'.format(items_url))\n",
    "    # Parser la réponse à l'aide de beaufifulSoup\n",
    "    doc = BeautifulSoup(response.text, 'html.parser')\n",
    "    for i, img in enumerate(doc.find_all('a', {'class': 'thumb-container'})):\n",
    "        if i>= 1 and len(doc.find_all('a', {'class': 'thumb-container'})) > 1:\n",
    "            images_refrigerateurs.append(img['data-image'])\n",
    "    return images_refrigerateurs"
   ]
  },
  {
   "cell_type": "code",
   "execution_count": 45,
   "id": "c68e6f07",
   "metadata": {},
   "outputs": [],
   "source": [
    "image_refrigerateurs = []\n",
    "for url in url_refrigerateur:\n",
    "    for image in get_refrigerateur(url):\n",
    "        image_refrigerateurs.append(image)"
   ]
  },
  {
   "cell_type": "code",
   "execution_count": 48,
   "id": "3d9d956e",
   "metadata": {},
   "outputs": [
    {
     "data": {
      "text/plain": [
       "220"
      ]
     },
     "execution_count": 48,
     "metadata": {},
     "output_type": "execute_result"
    }
   ],
   "source": [
    "len(image_refrigerateurs)"
   ]
  },
  {
   "cell_type": "code",
   "execution_count": 49,
   "id": "c426d135",
   "metadata": {},
   "outputs": [],
   "source": [
    "import random\n",
    "import urllib.request\n",
    "import os\n",
    "\n",
    "def download_refrigerateur(urls, doc):\n",
    "    \n",
    "    os.makedirs(os.path.join('images', doc))\n",
    "    for i, url in enumerate(urls):\n",
    "        try:\n",
    "            fullname =  \"images/\" + doc + \"/\" + str((i+1))+\".jpg\"\n",
    "            urllib.request.urlretrieve(url,fullname)\n",
    "        except:\n",
    "            pass"
   ]
  },
  {
   "cell_type": "code",
   "execution_count": 50,
   "id": "2b760eda",
   "metadata": {},
   "outputs": [],
   "source": [
    "download_refrigerateur(image_refrigerateurs, 'refrigerateur')"
   ]
  },
  {
   "cell_type": "code",
   "execution_count": null,
   "id": "7c432be3",
   "metadata": {},
   "outputs": [],
   "source": []
  }
 ],
 "metadata": {
  "kernelspec": {
   "display_name": "Python 3",
   "language": "python",
   "name": "python3"
  },
  "language_info": {
   "codemirror_mode": {
    "name": "ipython",
    "version": 3
   },
   "file_extension": ".py",
   "mimetype": "text/x-python",
   "name": "python",
   "nbconvert_exporter": "python",
   "pygments_lexer": "ipython3",
   "version": "3.8.5"
  }
 },
 "nbformat": 4,
 "nbformat_minor": 5
}
