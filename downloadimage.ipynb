{
 "cells": [
  {
   "cell_type": "code",
   "execution_count": 4,
   "id": "a9ae7d49",
   "metadata": {},
   "outputs": [],
   "source": [
    "import requests\n",
    "from requests.compat import urljoin\n",
    "from bs4 import BeautifulSoup\n",
    "import time\n",
    "from PIL import Image\n",
    "import urllib.request\n",
    "import sys\n",
    "import os\n",
    "import pandas as pd"
   ]
  },
  {
   "cell_type": "code",
   "execution_count": 35,
   "id": "8327e6d9",
   "metadata": {},
   "outputs": [],
   "source": [
    "import random\n",
    "import urllib.request\n",
    "\n",
    "def download_image(urls, doc):\n",
    "    \n",
    "    os.makedirs(os.path.join('images', doc))\n",
    "    for i, url in enumerate(urls):\n",
    "        try:\n",
    "            fullname =  \"images/\" + doc + \"/\" + str((i+1))+\".jpg\"\n",
    "            urllib.request.urlretrieve(url,fullname)\n",
    "        except:\n",
    "            pass"
   ]
  },
  {
   "cell_type": "code",
   "execution_count": 36,
   "id": "1b198125",
   "metadata": {},
   "outputs": [],
   "source": [
    "df = pd.read_json('amazon-fr.json')"
   ]
  },
  {
   "cell_type": "code",
   "execution_count": 37,
   "id": "2562f74c",
   "metadata": {},
   "outputs": [],
   "source": [
    "download_image(df.url, 'ordinateurs')"
   ]
  },
  {
   "cell_type": "code",
   "execution_count": null,
   "id": "1546a7e6",
   "metadata": {},
   "outputs": [],
   "source": []
  },
  {
   "cell_type": "code",
   "execution_count": 45,
   "id": "61b01d62",
   "metadata": {},
   "outputs": [
    {
     "data": {
      "text/html": [
       "<div>\n",
       "<style scoped>\n",
       "    .dataframe tbody tr th:only-of-type {\n",
       "        vertical-align: middle;\n",
       "    }\n",
       "\n",
       "    .dataframe tbody tr th {\n",
       "        vertical-align: top;\n",
       "    }\n",
       "\n",
       "    .dataframe thead th {\n",
       "        text-align: right;\n",
       "    }\n",
       "</style>\n",
       "<table border=\"1\" class=\"dataframe\">\n",
       "  <thead>\n",
       "    <tr style=\"text-align: right;\">\n",
       "      <th></th>\n",
       "      <th>title</th>\n",
       "      <th>itemprice</th>\n",
       "      <th>starrs</th>\n",
       "      <th>url</th>\n",
       "    </tr>\n",
       "  </thead>\n",
       "  <tbody>\n",
       "    <tr>\n",
       "      <th>0</th>\n",
       "      <td>Fashionable inflight items plastic sound insul...</td>\n",
       "      <td>NaN</td>\n",
       "      <td>0</td>\n",
       "      <td>https://www.alibaba.com/product-detail/Fashion...</td>\n",
       "    </tr>\n",
       "    <tr>\n",
       "      <th>1</th>\n",
       "      <td>Airline Blanket / Inflight Blanket/ Polyester ...</td>\n",
       "      <td>$1.30-$5.50</td>\n",
       "      <td>3</td>\n",
       "      <td>https://www.alibaba.com/product-detail/Airline...</td>\n",
       "    </tr>\n",
       "    <tr>\n",
       "      <th>2</th>\n",
       "      <td>SmallOrders G020603 Pet SuppliesDog ToysPuzzle...</td>\n",
       "      <td>NaN</td>\n",
       "      <td>2</td>\n",
       "      <td>https://www.alibaba.com/product-detail/SmallOr...</td>\n",
       "    </tr>\n",
       "    <tr>\n",
       "      <th>3</th>\n",
       "      <td>SmallOrders RF19 Game console mobile phone han...</td>\n",
       "      <td>NaN</td>\n",
       "      <td>2</td>\n",
       "      <td>https://www.alibaba.com/product-detail/SmallOr...</td>\n",
       "    </tr>\n",
       "    <tr>\n",
       "      <th>4</th>\n",
       "      <td>Airline Catering Equipment Buffet Accessories ...</td>\n",
       "      <td>NaN</td>\n",
       "      <td>0</td>\n",
       "      <td>https://www.alibaba.com/product-detail/Airline...</td>\n",
       "    </tr>\n",
       "  </tbody>\n",
       "</table>\n",
       "</div>"
      ],
      "text/plain": [
       "                                               title    itemprice  starrs  \\\n",
       "0  Fashionable inflight items plastic sound insul...          NaN       0   \n",
       "1  Airline Blanket / Inflight Blanket/ Polyester ...  $1.30-$5.50       3   \n",
       "2  SmallOrders G020603 Pet SuppliesDog ToysPuzzle...          NaN       2   \n",
       "3  SmallOrders RF19 Game console mobile phone han...          NaN       2   \n",
       "4  Airline Catering Equipment Buffet Accessories ...          NaN       0   \n",
       "\n",
       "                                                 url  \n",
       "0  https://www.alibaba.com/product-detail/Fashion...  \n",
       "1  https://www.alibaba.com/product-detail/Airline...  \n",
       "2  https://www.alibaba.com/product-detail/SmallOr...  \n",
       "3  https://www.alibaba.com/product-detail/SmallOr...  \n",
       "4  https://www.alibaba.com/product-detail/Airline...  "
      ]
     },
     "execution_count": 45,
     "metadata": {},
     "output_type": "execute_result"
    }
   ],
   "source": [
    "df2 = pd.read_csv('alibaba.csv')\n",
    "df2.head()"
   ]
  },
  {
   "cell_type": "code",
   "execution_count": 47,
   "id": "ae7a8a94",
   "metadata": {},
   "outputs": [
    {
     "data": {
      "text/plain": [
       "'https://www.alibaba.com/product-detail/Birthday-party-items-gift-decorations-supplies_60826373825.html'"
      ]
     },
     "execution_count": 47,
     "metadata": {},
     "output_type": "execute_result"
    }
   ],
   "source": [
    "df2.url[10]"
   ]
  },
  {
   "cell_type": "markdown",
   "id": "1402d361",
   "metadata": {},
   "source": [
    "![image](https://tn.jumia.is/unsafe/fit-in/300x300/filters:fill(white)/product/48/9773/1.jpg?1383)"
   ]
  },
  {
   "cell_type": "code",
   "execution_count": null,
   "id": "831a0a3e",
   "metadata": {},
   "outputs": [],
   "source": []
  }
 ],
 "metadata": {
  "kernelspec": {
   "display_name": "Python 3",
   "language": "python",
   "name": "python3"
  },
  "language_info": {
   "codemirror_mode": {
    "name": "ipython",
    "version": 3
   },
   "file_extension": ".py",
   "mimetype": "text/x-python",
   "name": "python",
   "nbconvert_exporter": "python",
   "pygments_lexer": "ipython3",
   "version": "3.8.5"
  }
 },
 "nbformat": 4,
 "nbformat_minor": 5
}
