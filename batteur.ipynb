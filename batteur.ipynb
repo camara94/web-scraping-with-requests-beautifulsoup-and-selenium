{
 "cells": [
  {
   "cell_type": "code",
   "execution_count": 1,
   "id": "5fd25545",
   "metadata": {},
   "outputs": [],
   "source": [
    "#  hachoir\n",
    "import requests\n",
    "from random import randint\n",
    "from time import sleep\n",
    "from bs4 import BeautifulSoup\n",
    "import pandas as pd"
   ]
  },
  {
   "cell_type": "code",
   "execution_count": 5,
   "id": "e0061486",
   "metadata": {},
   "outputs": [
    {
     "data": {
      "text/plain": [
       "41"
      ]
     },
     "execution_count": 5,
     "metadata": {},
     "output_type": "execute_result"
    }
   ],
   "source": [
    "# Maintenant nous avons un résumé au dessus de la fonction \n",
    "def get_url_batteur_tunisianet():\n",
    "    url_batteurs = []\n",
    "    urls = [\n",
    "        \"https://www.tunisianet.com.tn/531-batteur-electrique-tunisie\"\n",
    "    ]\n",
    "    \n",
    "    for page in range(2,3):\n",
    "        url = f\"https://www.tunisianet.com.tn/531-batteur-electrique-tunisie?page={page}\"\n",
    "        response = requests.get(url)\n",
    "        page_contents = response.text\n",
    "        if response.status_code != 200:\n",
    "            raise Exception('Failed to load page {}'.format(items_url))\n",
    "        doc = BeautifulSoup(page_contents, \"html.parser\")\n",
    "        for item in doc.find_all(\"a\", {'class': \"thumbnail product-thumbnail first-img\"}):\n",
    "            url_batteurs.append(item['href'])\n",
    "   \n",
    "    for page in urls:\n",
    "        url = page\n",
    "        response = requests.get(url)\n",
    "        page_contents = response.text\n",
    "        if response.status_code != 200:\n",
    "            raise Exception('Failed to load page {}'.format(items_url))\n",
    "        doc = BeautifulSoup(page_contents, \"html.parser\")\n",
    "        for item in doc.find_all(\"a\", {'class': \"thumbnail product-thumbnail first-img\"}):\n",
    "            url_batteurs.append(item['href'])\n",
    "        \n",
    "    return url_batteurs\n",
    "url_batteurs = get_url_batteur_tunisianet()\n",
    "len(set(url_batteurs))"
   ]
  },
  {
   "cell_type": "code",
   "execution_count": 6,
   "id": "1013e5af",
   "metadata": {},
   "outputs": [],
   "source": [
    "def get_batteur(items_url):\n",
    "    images_batteurs = []\n",
    "    # télécharger la page\n",
    "    response = requests.get(items_url)\n",
    "    # vérifier le succès de réponse\n",
    "    if response.status_code != 200:\n",
    "        raise Exception('Failed to load page {}'.format(items_url))\n",
    "    # Parser la réponse à l'aide de beaufifulSoup\n",
    "    doc = BeautifulSoup(response.text, 'html.parser')\n",
    "    for i, img in enumerate(doc.find_all('a', {'class': 'thumb-container'})):\n",
    "        if i>= 1 and len(doc.find_all('a', {'class': 'thumb-container'})) > 1:\n",
    "            images_batteurs.append(img['data-image'])\n",
    "    return images_batteurs"
   ]
  },
  {
   "cell_type": "code",
   "execution_count": 8,
   "id": "66d16353",
   "metadata": {},
   "outputs": [],
   "source": [
    "images_batteurs = []\n",
    "for url in url_batteurs:\n",
    "    for image in get_batteur(url):\n",
    "        images_batteurs.append(image)"
   ]
  },
  {
   "cell_type": "code",
   "execution_count": 10,
   "id": "b775c9ae",
   "metadata": {},
   "outputs": [
    {
     "data": {
      "text/plain": [
       "110"
      ]
     },
     "execution_count": 10,
     "metadata": {},
     "output_type": "execute_result"
    }
   ],
   "source": [
    "len(images_batteurs)"
   ]
  },
  {
   "cell_type": "code",
   "execution_count": 11,
   "id": "dee05689",
   "metadata": {},
   "outputs": [],
   "source": [
    "import random\n",
    "import urllib.request\n",
    "import os\n",
    "\n",
    "def download_batteurs(urls, doc):\n",
    "    \n",
    "    os.makedirs(os.path.join('images', doc))\n",
    "    for i, url in enumerate(urls):\n",
    "        try:\n",
    "            fullname =  \"images/\" + doc + \"/\" + str((i+1))+\".jpg\"\n",
    "            urllib.request.urlretrieve(url,fullname)\n",
    "        except:\n",
    "            pass"
   ]
  },
  {
   "cell_type": "code",
   "execution_count": 12,
   "id": "9cd216fc",
   "metadata": {},
   "outputs": [],
   "source": [
    "download_batteurs(images_batteurs, 'batteur')"
   ]
  },
  {
   "cell_type": "code",
   "execution_count": null,
   "id": "8e577a47",
   "metadata": {},
   "outputs": [],
   "source": []
  }
 ],
 "metadata": {
  "kernelspec": {
   "display_name": "Python 3",
   "language": "python",
   "name": "python3"
  },
  "language_info": {
   "codemirror_mode": {
    "name": "ipython",
    "version": 3
   },
   "file_extension": ".py",
   "mimetype": "text/x-python",
   "name": "python",
   "nbconvert_exporter": "python",
   "pygments_lexer": "ipython3",
   "version": "3.8.5"
  }
 },
 "nbformat": 4,
 "nbformat_minor": 5
}
