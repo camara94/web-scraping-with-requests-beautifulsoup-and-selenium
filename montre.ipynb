{
 "cells": [
  {
   "cell_type": "code",
   "execution_count": 1,
   "id": "2f7fabc9",
   "metadata": {},
   "outputs": [],
   "source": [
    "import requests\n",
    "from random import randint\n",
    "from time import sleep\n",
    "from bs4 import BeautifulSoup\n",
    "import pandas as pd"
   ]
  },
  {
   "cell_type": "code",
   "execution_count": 5,
   "id": "b8c7a7ff",
   "metadata": {},
   "outputs": [
    {
     "data": {
      "text/plain": [
       "361"
      ]
     },
     "execution_count": 5,
     "metadata": {},
     "output_type": "execute_result"
    }
   ],
   "source": [
    "# Maintenant nous avons un résumé au dessus de la fonction \n",
    "def get_url_montre_detail_tunisianet():\n",
    "    url_montre_details = []\n",
    "    urls = [\n",
    "        \"https://www.tunisianet.com.tn/716-swatch\",\n",
    "        \"https://www.tunisianet.com.tn/714-casio\",\n",
    "        \"https://www.tunisianet.com.tn/717-tissot\",\n",
    "        \"https://www.tunisianet.com.tn/720-claude-bernard\",\n",
    "        \"https://www.tunisianet.com.tn/718-calvin-klein\",\n",
    "        \"https://www.tunisianet.com.tn/719-richelieu\",\n",
    "        \"https://www.tunisianet.com.tn/721-flik-flak\",\n",
    "        \"https://www.tunisianet.com.tn/722-smartwatch\"\n",
    "    ]\n",
    "    for page in range(1,5):\n",
    "        url = f\"https://www.tunisianet.com.tn/716-swatch?page={page}\"\n",
    "        response = requests.get(url)\n",
    "        page_contents = response.text\n",
    "        if response.status_code != 200:\n",
    "            raise Exception('Failed to load page {}'.format(items_url))\n",
    "        doc = BeautifulSoup(page_contents, \"html.parser\")\n",
    "        for item in doc.find_all(\"a\", {'class': \"thumbnail product-thumbnail first-img\"}):\n",
    "            url_montre_details.append(item['href'])\n",
    "        \n",
    "    for page in range(1,3):\n",
    "        url = f\"https://www.tunisianet.com.tn/714-casio?page={page}\"\n",
    "        response = requests.get(url)\n",
    "        page_contents = response.text\n",
    "        if response.status_code != 200:\n",
    "            raise Exception('Failed to load page {}'.format(items_url))\n",
    "        doc = BeautifulSoup(page_contents, \"html.parser\")\n",
    "        for item in doc.find_all(\"a\", {'class': \"thumbnail product-thumbnail first-img\"}):\n",
    "            url_montre_details.append(item['href'])\n",
    "        \n",
    "    for page in range(1,3):\n",
    "        url = f\"https://www.tunisianet.com.tn/717-tissot?page={page}\"\n",
    "        response = requests.get(url)\n",
    "        page_contents = response.text\n",
    "        if response.status_code != 200:\n",
    "            raise Exception('Failed to load page {}'.format(items_url))\n",
    "        doc = BeautifulSoup(page_contents, \"html.parser\")\n",
    "        for item in doc.find_all(\"a\", {'class': \"thumbnail product-thumbnail first-img\"}):\n",
    "            url_montre_details.append(item['href'])\n",
    "    \n",
    "    for page in range(1,3):\n",
    "        url = f\"https://www.tunisianet.com.tn/717-tissot?page={page}\"\n",
    "        response = requests.get(url)\n",
    "        page_contents = response.text\n",
    "        if response.status_code != 200:\n",
    "            raise Exception('Failed to load page {}'.format(items_url))\n",
    "        doc = BeautifulSoup(page_contents, \"html.parser\")\n",
    "        for item in doc.find_all(\"a\", {'class': \"thumbnail product-thumbnail first-img\"}):\n",
    "            url_montre_details.append(item['href'])\n",
    "    \n",
    "    for page in urls:\n",
    "        url = page\n",
    "        response = requests.get(url)\n",
    "        page_contents = response.text\n",
    "        if response.status_code != 200:\n",
    "            raise Exception('Failed to load page {}'.format(items_url))\n",
    "        doc = BeautifulSoup(page_contents, \"html.parser\")\n",
    "        for item in doc.find_all(\"a\", {'class': \"thumbnail product-thumbnail first-img\"}):\n",
    "            url_montre_details.append(item['href'])\n",
    "        \n",
    "    return url_montre_details\n",
    "url_montre = get_url_montre_detail_tunisianet()\n",
    "len (url_montre)"
   ]
  },
  {
   "cell_type": "code",
   "execution_count": 9,
   "id": "a5c5e8e1",
   "metadata": {},
   "outputs": [],
   "source": [
    "def get_images_montre(items_url):\n",
    "    images_montres = []\n",
    "    # télécharger la page\n",
    "    response = requests.get(items_url)\n",
    "    # vérifier le succès de réponse\n",
    "    if response.status_code != 200:\n",
    "        raise Exception('Failed to load page {}'.format(items_url))\n",
    "    # Parser la réponse à l'aide de beaufifulSoup\n",
    "    doc = BeautifulSoup(response.text, 'html.parser')\n",
    "    for i, img in enumerate(doc.find_all('a', {'class': 'thumb-container'})):\n",
    "        if i>= 1 and len(doc.find_all('a', {'class': 'thumb-container'})) > 1:\n",
    "            images_montres.append(img['data-image'])\n",
    "    return images_montres"
   ]
  },
  {
   "cell_type": "code",
   "execution_count": 12,
   "id": "41a2467a",
   "metadata": {},
   "outputs": [],
   "source": [
    "image_montres = []\n",
    "for url in url_montre:\n",
    "    for image in get_images_montre(url):\n",
    "        image_montres.append(image)"
   ]
  },
  {
   "cell_type": "code",
   "execution_count": 13,
   "id": "237b866f",
   "metadata": {},
   "outputs": [],
   "source": [
    "import random\n",
    "import urllib.request\n",
    "import os\n",
    "\n",
    "def download_montre(urls, doc):\n",
    "    \n",
    "    os.makedirs(os.path.join('images', doc))\n",
    "    for i, url in enumerate(urls):\n",
    "        try:\n",
    "            fullname =  \"images/\" + doc + \"/\" + str((i+1))+\".jpg\"\n",
    "            urllib.request.urlretrieve(url,fullname)\n",
    "        except:\n",
    "            pass"
   ]
  },
  {
   "cell_type": "code",
   "execution_count": 15,
   "id": "0b143cf9",
   "metadata": {},
   "outputs": [],
   "source": [
    "download_montre(image_montres, 'montre')"
   ]
  },
  {
   "cell_type": "code",
   "execution_count": null,
   "id": "fd5f4615",
   "metadata": {},
   "outputs": [],
   "source": []
  }
 ],
 "metadata": {
  "kernelspec": {
   "display_name": "Python 3",
   "language": "python",
   "name": "python3"
  },
  "language_info": {
   "codemirror_mode": {
    "name": "ipython",
    "version": 3
   },
   "file_extension": ".py",
   "mimetype": "text/x-python",
   "name": "python",
   "nbconvert_exporter": "python",
   "pygments_lexer": "ipython3",
   "version": "3.8.5"
  }
 },
 "nbformat": 4,
 "nbformat_minor": 5
}
