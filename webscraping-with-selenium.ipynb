{
 "cells": [
  {
   "cell_type": "markdown",
   "id": "83e4c4e5-0019-4ea6-b1a6-264c730ef8c2",
   "metadata": {},
   "source": [
    "# Requests et BeautifulSoup\n",
    "## Installation Des Packages"
   ]
  },
  {
   "cell_type": "code",
   "execution_count": 1,
   "id": "4d7ea176-a2d4-4d20-af96-7c718929a843",
   "metadata": {},
   "outputs": [],
   "source": [
    "#!pip install selenium"
   ]
  },
  {
   "cell_type": "markdown",
   "id": "82598727-4a59-4a8e-8f14-11683b7e48d5",
   "metadata": {},
   "source": [
    ">**Remarque** : - pip est un gestionnaire de packages pour Python. Cela signifie que c'est un outil qui vous permet d'installer et de gérer des bibliothèques et des dépendances supplémentaires non distribuées dans le cadre de la bibliothèque standard. Assurez-vous de ne pas oublier **\"!\"** (comme ci-dessus) avant \"pip install selenium\", ce qui signifie l'exécuter comme une commande shell plutôt que comme une commande notebook (c'est comme si vous ouvriez un terminal et que vous le tapiez sans le **\"!\"**)\n",
    "\n",
    "Nous lançons le navigateur Chrome lorsque nous utilisons Selenium. Nous devons installer un pilote (localement dans le système et exécuter ce notebook uniquement localement), qui agit comme un pont entre Selenium et Chrome (ou quel que soit le navigateur que vous utilisez). Pour Chrome, cela s'appelle le pilote Chrome, et pour Firefox, c'est le gecko."
   ]
  },
  {
   "cell_type": "code",
   "execution_count": 2,
   "id": "0f7c5c77-ad6a-4a7d-8401-b0d6c5871f8d",
   "metadata": {},
   "outputs": [],
   "source": [
    "from selenium import webdriver"
   ]
  },
  {
   "cell_type": "markdown",
   "id": "68ddf15e-e60c-45ba-bfb0-043dcd5f9d75",
   "metadata": {},
   "source": [
    "Nous devons dire à Selenium quel navigateur nous utilisons, et Selenium pilotera le pilote Web."
   ]
  },
  {
   "cell_type": "code",
   "execution_count": 3,
   "id": "b5008a69-5af6-4eac-ade7-1d15f056d0db",
   "metadata": {},
   "outputs": [],
   "source": [
    "#Si nous devons exécuter Selenium en mode sans entête ; c'est sans voir l'interface graphique en cours d'exécution, utilisez le code ci-dessous\n",
    "from selenium.webdriver.chrome.options import Options\n",
    "from selenium.webdriver.chrome.service import Service\n",
    "from selenium import webdriver"
   ]
  },
  {
   "cell_type": "code",
   "execution_count": 4,
   "id": "2f8f9ceb-b404-4633-90d7-ad53935a7e4f",
   "metadata": {},
   "outputs": [],
   "source": [
    "driverPath_1 = 'C:\\Program Files\\Google\\Chrome\\Application\\chromedriver.exe'\n",
    "driverPath_2 = 'C:\\Program Files\\Google\\Chrome\\Application\\chrome.exe'\n",
    "serviceConfig = Service(driverPath_1)\n",
    "optionConfig = webdriver.ChromeOptions()\n",
    "driver = webdriver.Chrome(service=serviceConfig, options=optionConfig)"
   ]
  },
  {
   "cell_type": "markdown",
   "id": "0e1b7a10-e05f-4950-8d19-e84d95561a30",
   "metadata": {},
   "source": [
    "Lorsque nous exécutons le code ci-dessus, chrome est automatisé, puis en gardant la page de message ouverte, nous utilisons la méthode get pour avoir l'URL de la page requise"
   ]
  },
  {
   "cell_type": "code",
   "execution_count": 5,
   "id": "c50cb749-0b56-4835-ad19-f3eea47042db",
   "metadata": {},
   "outputs": [],
   "source": [
    "items_url = \"https://www.tayara.tn/\"\n",
    "driver.get(items_url) "
   ]
  },
  {
   "cell_type": "markdown",
   "id": "3e636500-cbfe-434a-b987-0f5d4cfd9d87",
   "metadata": {},
   "source": [
    ">**Remarque** : si nous exécutons la cellule de code ci-dessus sans exécuter la dernière cellule en priorité immédiate, le message d'erreur \"**chrome inaccessible**\" s'affichera.\n",
    "\n",
    "Nous devons nous assurer que le navigateur affiche la page complète/les éléments complets de haut en bas (fin de page) comme nous, les humains, en faisant défiler vers le bas avec les valeurs des axes x et y. Et puis nous donnons un temps de sommeil de 4 secondes, donc nous ne rencontrons pas de problème où nous essayons de lire des éléments de la page, qui n'est pas encore chargée. Nous utilisons le code Selenium Execute pour cela. De plus, nous téléchargerons la fonction de temps pour ralentir un peu les choses/être doux sur le site Web."
   ]
  },
  {
   "cell_type": "code",
   "execution_count": null,
   "id": "e3d772b1-ee0c-4779-99f0-6063a74d166b",
   "metadata": {},
   "outputs": [],
   "source": []
  }
 ],
 "metadata": {
  "kernelspec": {
   "display_name": "Python 3",
   "language": "python",
   "name": "python3"
  },
  "language_info": {
   "codemirror_mode": {
    "name": "ipython",
    "version": 3
   },
   "file_extension": ".py",
   "mimetype": "text/x-python",
   "name": "python",
   "nbconvert_exporter": "python",
   "pygments_lexer": "ipython3",
   "version": "3.8.5"
  }
 },
 "nbformat": 4,
 "nbformat_minor": 5
}
