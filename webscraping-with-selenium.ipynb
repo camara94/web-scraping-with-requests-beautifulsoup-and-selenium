{
 "cells": [
  {
   "cell_type": "markdown",
   "id": "83e4c4e5-0019-4ea6-b1a6-264c730ef8c2",
   "metadata": {},
   "source": [
    "# Requests et BeautifulSoup\n",
    "## Installation Des Packages"
   ]
  },
  {
   "cell_type": "code",
   "execution_count": 1,
   "id": "4d7ea176-a2d4-4d20-af96-7c718929a843",
   "metadata": {},
   "outputs": [],
   "source": [
    "#!pip install selenium"
   ]
  },
  {
   "cell_type": "markdown",
   "id": "82598727-4a59-4a8e-8f14-11683b7e48d5",
   "metadata": {},
   "source": [
    ">**Remarque** : - pip est un gestionnaire de packages pour Python. Cela signifie que c'est un outil qui vous permet d'installer et de gérer des bibliothèques et des dépendances supplémentaires non distribuées dans le cadre de la bibliothèque standard. Assurez-vous de ne pas oublier **\"!\"** (comme ci-dessus) avant \"pip install selenium\", ce qui signifie l'exécuter comme une commande shell plutôt que comme une commande notebook (c'est comme si vous ouvriez un terminal et que vous le tapiez sans le **\"!\"**)\n",
    "\n",
    "Nous automatisons le navigateur Chrome lorsque nous utilisons Selenium. Nous devons installer un pilote (localement dans le système et exécuter ce notebook uniquement localement), qui agit comme un pont entre Selenium et Chrome (ou quel que soit le navigateur que vous utilisez). Pour Chrome, cela s'appelle le pilote Chrome, et pour Firefox, c'est le gecko."
   ]
  },
  {
   "cell_type": "code",
   "execution_count": 2,
   "id": "0f7c5c77-ad6a-4a7d-8401-b0d6c5871f8d",
   "metadata": {},
   "outputs": [],
   "source": [
    "from selenium import webdriver"
   ]
  },
  {
   "cell_type": "code",
   "execution_count": null,
   "id": "c90dddfe-a4b7-47a1-a885-96aa368d8c98",
   "metadata": {},
   "outputs": [],
   "source": [
    "Nous devons dire à Selenium quel navigateur nous utilisons, et Selenium pilotera le pilote Web."
   ]
  }
 ],
 "metadata": {
  "kernelspec": {
   "display_name": "Python 3",
   "language": "python",
   "name": "python3"
  },
  "language_info": {
   "codemirror_mode": {
    "name": "ipython",
    "version": 3
   },
   "file_extension": ".py",
   "mimetype": "text/x-python",
   "name": "python",
   "nbconvert_exporter": "python",
   "pygments_lexer": "ipython3",
   "version": "3.8.5"
  }
 },
 "nbformat": 4,
 "nbformat_minor": 5
}
